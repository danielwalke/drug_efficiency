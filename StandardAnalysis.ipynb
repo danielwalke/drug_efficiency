{
 "cells": [
  {
   "cell_type": "markdown",
   "id": "4a51acd3-1d9b-4920-8d5f-d0536f63c1e1",
   "metadata": {},
   "source": [
    "## Useful libraries"
   ]
  },
  {
   "cell_type": "code",
   "execution_count": 1,
   "id": "9b382b8b-c7f2-4ab5-a486-ad3949c22dec",
   "metadata": {},
   "outputs": [],
   "source": [
    "import pandas as pd\n",
    "from matplotlib import pyplot as plt\n",
    "import numpy as np\n",
    "import torch_geometric\n",
    "import sklearn"
   ]
  },
  {
   "cell_type": "code",
   "execution_count": 2,
   "id": "cb66ecc2-e662-4244-b1c7-f401a6729f8e",
   "metadata": {},
   "outputs": [],
   "source": [
    "## TODO: https://medium.com/math-simplified/checking-for-linear-dependence-in-sympy-9776b66dbe75"
   ]
  },
  {
   "cell_type": "markdown",
   "id": "815e7d14-8b0d-4986-8fe3-0fe2ab1ecc51",
   "metadata": {},
   "source": [
    "## Utility functions"
   ]
  },
  {
   "cell_type": "code",
   "execution_count": 3,
   "id": "211a7c02-ef90-4fdb-b990-a489fb91cab1",
   "metadata": {},
   "outputs": [],
   "source": [
    "def categorize_columns(df, columns):\n",
    "    for column in columns:\n",
    "        df[column] = df[column].astype(\"category\")\n",
    "    cat_columns = df.select_dtypes(['category']).columns\n",
    "    df[cat_columns] = df[cat_columns].apply(lambda x: x.cat.codes)\n",
    "    return df"
   ]
  },
  {
   "cell_type": "code",
   "execution_count": 4,
   "id": "ceac2ce7-18d8-4af9-bc95-b912bf979089",
   "metadata": {},
   "outputs": [],
   "source": [
    "def z_scale(df_z_scaled, columns): ## is a bit better for neural networks\n",
    "    for column in columns:\n",
    "        df_z_scaled[column] = (df_z_scaled[column] - df_z_scaled[column].mean()) / df_z_scaled[column].std()   \n",
    "    return df_z_scaled"
   ]
  },
  {
   "cell_type": "code",
   "execution_count": 5,
   "id": "dbe70eb0-f7b2-4176-8396-c0927e128da1",
   "metadata": {},
   "outputs": [],
   "source": [
    "from pandas.api.types import is_numeric_dtype\n",
    "def remove_uninformative_columns(df, columns):\n",
    "    ## removes categorcial columns where we have no duplicates (i.e., columns with all different categorical values like ids)\n",
    "    filtered_columns = []\n",
    "    for column in columns:\n",
    "        all_values_in_column_identical = df[column].unique().shape[0] < 2\n",
    "        if all_values_in_column_identical:\n",
    "            continue\n",
    "        category_has_duplicates = df.duplicated(subset=column).sum()> 0 ##is informative\n",
    "        if category_has_duplicates or is_numeric_dtype(df[column]) :\n",
    "            filtered_columns.append(column)\n",
    "    return filtered_columns"
   ]
  },
  {
   "cell_type": "code",
   "execution_count": 6,
   "id": "3151e4a1-9cbc-472b-9570-95c1875dea43",
   "metadata": {},
   "outputs": [],
   "source": [
    "import torch\n",
    "def reverse_edge_index(torch_tensor):\n",
    "    reversed_torch_tensor = torch.zeros_like(torch_tensor)\n",
    "    reversed_torch_tensor[:, 0] = torch_tensor[:, 1]\n",
    "    reversed_torch_tensor[:, 1] = torch_tensor[:, 0]\n",
    "    return reversed_torch_tensor"
   ]
  },
  {
   "cell_type": "markdown",
   "id": "843dee8e-c226-44e0-a6a9-23bb4374c923",
   "metadata": {},
   "source": [
    "## What we need\n",
    "- Gene node feature #genes x #features\n",
    "- Model node feature #models x features (for now includes drug inofrmation and the drug IC50 target for simplicity) (more complicated than I expected)\n",
    "  -> later edge attribute prediction?\n",
    "- Gene_model_edge_index_cn #edges x 2\n",
    "- Gene_model_edge_index_mutations #edges x 2\n",
    "- Gene_model_edge_index_geneexpressions #edges x 2\n",
    "- Gene_model_edge_attributes_cn #edges x #attributes\n",
    "- Gene_model_edge_attributes_mutations #edges x #attributes\n",
    "- Gene_model_edge_attributes_geneexpressions #edges x #attributes\n",
    "\n",
    "  Het-GAT for regression task with MSE as loss"
   ]
  },
  {
   "cell_type": "markdown",
   "id": "2d8fff4c-8aa3-44f3-a6fb-e131cde8971e",
   "metadata": {},
   "source": [
    "## Read human genome"
   ]
  },
  {
   "cell_type": "code",
   "execution_count": 7,
   "id": "46fe3d4c-7e10-44d0-9c64-011bda21768b",
   "metadata": {},
   "outputs": [
    {
     "data": {
      "text/html": [
       "<div>\n",
       "<style scoped>\n",
       "    .dataframe tbody tr th:only-of-type {\n",
       "        vertical-align: middle;\n",
       "    }\n",
       "\n",
       "    .dataframe tbody tr th {\n",
       "        vertical-align: top;\n",
       "    }\n",
       "\n",
       "    .dataframe thead th {\n",
       "        text-align: right;\n",
       "    }\n",
       "</style>\n",
       "<table border=\"1\" class=\"dataframe\">\n",
       "  <thead>\n",
       "    <tr style=\"text-align: right;\">\n",
       "      <th></th>\n",
       "      <th>0</th>\n",
       "      <th>1</th>\n",
       "      <th>2</th>\n",
       "      <th>3</th>\n",
       "      <th>human_genome_index</th>\n",
       "    </tr>\n",
       "  </thead>\n",
       "  <tbody>\n",
       "    <tr>\n",
       "      <th>0</th>\n",
       "      <td>hsa:102466751</td>\n",
       "      <td>miRNA</td>\n",
       "      <td>1:complement(17369..17436)</td>\n",
       "      <td>MIR6859-1, hsa-mir-6859-1; microRNA 6859-1</td>\n",
       "      <td>0</td>\n",
       "    </tr>\n",
       "    <tr>\n",
       "      <th>1</th>\n",
       "      <td>hsa:100302278</td>\n",
       "      <td>miRNA</td>\n",
       "      <td>1:30366..30503</td>\n",
       "      <td>MIR1302-2, MIRN1302-2, hsa-mir-1302-2; microRN...</td>\n",
       "      <td>1</td>\n",
       "    </tr>\n",
       "    <tr>\n",
       "      <th>2</th>\n",
       "      <td>hsa:79501</td>\n",
       "      <td>CDS</td>\n",
       "      <td>1:65419..71585</td>\n",
       "      <td>OR4F5; olfactory receptor family 4 subfamily F...</td>\n",
       "      <td>2</td>\n",
       "    </tr>\n",
       "    <tr>\n",
       "      <th>3</th>\n",
       "      <td>hsa:102465909</td>\n",
       "      <td>miRNA</td>\n",
       "      <td>1:complement(187891..187958)</td>\n",
       "      <td>MIR6859-2, hsa-mir-6859-2; microRNA 6859-2</td>\n",
       "      <td>3</td>\n",
       "    </tr>\n",
       "    <tr>\n",
       "      <th>4</th>\n",
       "      <td>hsa:112268260</td>\n",
       "      <td>CDS</td>\n",
       "      <td>1:complement(365134..382235)</td>\n",
       "      <td>uncharacterized LOC112268260</td>\n",
       "      <td>4</td>\n",
       "    </tr>\n",
       "  </tbody>\n",
       "</table>\n",
       "</div>"
      ],
      "text/plain": [
       "               0      1                             2  \\\n",
       "0  hsa:102466751  miRNA    1:complement(17369..17436)   \n",
       "1  hsa:100302278  miRNA                1:30366..30503   \n",
       "2      hsa:79501    CDS                1:65419..71585   \n",
       "3  hsa:102465909  miRNA  1:complement(187891..187958)   \n",
       "4  hsa:112268260    CDS  1:complement(365134..382235)   \n",
       "\n",
       "                                                   3  human_genome_index  \n",
       "0         MIR6859-1, hsa-mir-6859-1; microRNA 6859-1                   0  \n",
       "1  MIR1302-2, MIRN1302-2, hsa-mir-1302-2; microRN...                   1  \n",
       "2  OR4F5; olfactory receptor family 4 subfamily F...                   2  \n",
       "3         MIR6859-2, hsa-mir-6859-2; microRNA 6859-2                   3  \n",
       "4                       uncharacterized LOC112268260                   4  "
      ]
     },
     "execution_count": 7,
     "metadata": {},
     "output_type": "execute_result"
    }
   ],
   "source": [
    "human_genome = pd.read_csv(\"human_genome.tsv\", sep=\"\\t\", header=None) ## merging via gene symbol\n",
    "human_genome[\"human_genome_index\"] = human_genome.index\n",
    "human_genome.head()"
   ]
  },
  {
   "cell_type": "markdown",
   "id": "03df2aa8-d19b-4f82-bfac-59bb75be0f4e",
   "metadata": {},
   "source": [
    "## Get gene symbols to human genome index dataframe (is in nested list semicolon, comma separated)"
   ]
  },
  {
   "cell_type": "code",
   "execution_count": 8,
   "id": "29e589c8-0962-49fa-82d6-ed31273f874b",
   "metadata": {},
   "outputs": [],
   "source": [
    "def get_gene_idx_to_gene_symbol(human_genome):\n",
    "    sem_split = human_genome[3].str.split(\"; \")\n",
    "    comma_split = sem_split.map(lambda n: n[0]).str.split(\",\")\n",
    "    exploded_gene_symbols = comma_split.explode().str.strip().to_frame()\n",
    "    exploded_gene_symbols = exploded_gene_symbols.rename(columns={3:\"symbol\"})\n",
    "    exploded_gene_symbols[\"human_genome_index\"] = exploded_gene_symbols.index\n",
    "    exploded_gene_symbols = exploded_gene_symbols.reset_index(drop=True)\n",
    "    return exploded_gene_symbols"
   ]
  },
  {
   "cell_type": "code",
   "execution_count": 9,
   "id": "152e224a-646f-434f-afdb-761c23f3ac92",
   "metadata": {},
   "outputs": [],
   "source": [
    "gene_idx_to_gene_symbol_df = get_gene_idx_to_gene_symbol(human_genome)"
   ]
  },
  {
   "cell_type": "markdown",
   "id": "daade5af-e566-4297-ab2d-e5dc06e78ee9",
   "metadata": {},
   "source": [
    "## Generate nodes features for gene nodes"
   ]
  },
  {
   "cell_type": "code",
   "execution_count": 10,
   "id": "6c9e6013-ece8-42de-9ecb-e57984394c0d",
   "metadata": {},
   "outputs": [],
   "source": [
    "def get_gene_features(human_genome):\n",
    "    categorize_columns(human_genome, human_genome.columns[:3])\n",
    "    z_scale(human_genome, human_genome.columns[:3])\n",
    "    gene_features = human_genome.loc[:, :2].values\n",
    "    return gene_features"
   ]
  },
  {
   "cell_type": "code",
   "execution_count": 11,
   "id": "6702079a-f995-4020-bdd6-71a0eb17ce10",
   "metadata": {},
   "outputs": [],
   "source": [
    "gene_features = get_gene_features(human_genome)"
   ]
  },
  {
   "cell_type": "code",
   "execution_count": 12,
   "id": "ab8f3b36-3a1a-49e8-8429-0afc0632f9bc",
   "metadata": {},
   "outputs": [
    {
     "data": {
      "text/plain": [
       "(24689, 3)"
      ]
     },
     "execution_count": 12,
     "metadata": {},
     "output_type": "execute_result"
    }
   ],
   "source": [
    "gene_features.shape"
   ]
  },
  {
   "cell_type": "markdown",
   "id": "d1e43de4-16ad-4df2-8ffe-9876bff1e0e4",
   "metadata": {},
   "source": [
    "## Generate node features for models (with target) and target labels"
   ]
  },
  {
   "cell_type": "code",
   "execution_count": 13,
   "id": "76e4ef3e-fad7-4389-b2d9-049d1c025b4f",
   "metadata": {},
   "outputs": [
    {
     "data": {
      "text/html": [
       "<div>\n",
       "<style scoped>\n",
       "    .dataframe tbody tr th:only-of-type {\n",
       "        vertical-align: middle;\n",
       "    }\n",
       "\n",
       "    .dataframe tbody tr th {\n",
       "        vertical-align: top;\n",
       "    }\n",
       "\n",
       "    .dataframe thead th {\n",
       "        text-align: right;\n",
       "    }\n",
       "</style>\n",
       "<table border=\"1\" class=\"dataframe\">\n",
       "  <thead>\n",
       "    <tr style=\"text-align: right;\">\n",
       "      <th></th>\n",
       "      <th>model_id</th>\n",
       "      <th>sample_id</th>\n",
       "      <th>patient_id</th>\n",
       "      <th>parent_id</th>\n",
       "      <th>model_name</th>\n",
       "      <th>synonyms</th>\n",
       "      <th>tissue</th>\n",
       "      <th>cancer_type</th>\n",
       "      <th>cancer_type_ncit_id</th>\n",
       "      <th>tissue_status</th>\n",
       "      <th>...</th>\n",
       "      <th>msh6_expression_by_ihc</th>\n",
       "      <th>braf_mutation_identified</th>\n",
       "      <th>braf_expression_by_ihc</th>\n",
       "      <th>pik3ca_mutation_identified</th>\n",
       "      <th>pten_expression_by_ihc</th>\n",
       "      <th>pten_mutation_identified</th>\n",
       "      <th>kras_mutation_identified</th>\n",
       "      <th>mismatch_repair_status</th>\n",
       "      <th>preoperative_ce_alevel</th>\n",
       "      <th>crispr_ko_data</th>\n",
       "    </tr>\n",
       "  </thead>\n",
       "  <tbody>\n",
       "    <tr>\n",
       "      <th>0</th>\n",
       "      <td>SIDM01774</td>\n",
       "      <td>SIDS01659</td>\n",
       "      <td>SIDP01578</td>\n",
       "      <td>NaN</td>\n",
       "      <td>PK-59</td>\n",
       "      <td>NaN</td>\n",
       "      <td>Pancreas</td>\n",
       "      <td>Pancreatic Carcinoma</td>\n",
       "      <td>C3850</td>\n",
       "      <td>Metastasis</td>\n",
       "      <td>...</td>\n",
       "      <td>NaN</td>\n",
       "      <td>NaN</td>\n",
       "      <td>NaN</td>\n",
       "      <td>NaN</td>\n",
       "      <td>NaN</td>\n",
       "      <td>NaN</td>\n",
       "      <td>NaN</td>\n",
       "      <td>NaN</td>\n",
       "      <td>NaN</td>\n",
       "      <td>False</td>\n",
       "    </tr>\n",
       "    <tr>\n",
       "      <th>1</th>\n",
       "      <td>SIDM00192</td>\n",
       "      <td>SIDS00612</td>\n",
       "      <td>SIDP00541</td>\n",
       "      <td>NaN</td>\n",
       "      <td>SNU-1033</td>\n",
       "      <td>NaN</td>\n",
       "      <td>Large Intestine</td>\n",
       "      <td>Colorectal Carcinoma</td>\n",
       "      <td>C9383</td>\n",
       "      <td>Tumour</td>\n",
       "      <td>...</td>\n",
       "      <td>NaN</td>\n",
       "      <td>NaN</td>\n",
       "      <td>NaN</td>\n",
       "      <td>NaN</td>\n",
       "      <td>NaN</td>\n",
       "      <td>NaN</td>\n",
       "      <td>NaN</td>\n",
       "      <td>NaN</td>\n",
       "      <td>NaN</td>\n",
       "      <td>True</td>\n",
       "    </tr>\n",
       "    <tr>\n",
       "      <th>2</th>\n",
       "      <td>SIDM01447</td>\n",
       "      <td>SIDS01466</td>\n",
       "      <td>SIDP01347</td>\n",
       "      <td>NaN</td>\n",
       "      <td>SNU-466</td>\n",
       "      <td>NaN</td>\n",
       "      <td>Central Nervous System</td>\n",
       "      <td>Glioblastoma</td>\n",
       "      <td>C3058</td>\n",
       "      <td>Tumour</td>\n",
       "      <td>...</td>\n",
       "      <td>NaN</td>\n",
       "      <td>NaN</td>\n",
       "      <td>NaN</td>\n",
       "      <td>NaN</td>\n",
       "      <td>NaN</td>\n",
       "      <td>NaN</td>\n",
       "      <td>NaN</td>\n",
       "      <td>NaN</td>\n",
       "      <td>NaN</td>\n",
       "      <td>False</td>\n",
       "    </tr>\n",
       "    <tr>\n",
       "      <th>3</th>\n",
       "      <td>SIDM01554</td>\n",
       "      <td>SIDS01363</td>\n",
       "      <td>SIDP01247</td>\n",
       "      <td>NaN</td>\n",
       "      <td>IST-MES-2</td>\n",
       "      <td>NaN</td>\n",
       "      <td>Lung</td>\n",
       "      <td>Mesothelioma</td>\n",
       "      <td>C45662</td>\n",
       "      <td>Unknown</td>\n",
       "      <td>...</td>\n",
       "      <td>NaN</td>\n",
       "      <td>NaN</td>\n",
       "      <td>NaN</td>\n",
       "      <td>NaN</td>\n",
       "      <td>NaN</td>\n",
       "      <td>NaN</td>\n",
       "      <td>NaN</td>\n",
       "      <td>NaN</td>\n",
       "      <td>NaN</td>\n",
       "      <td>True</td>\n",
       "    </tr>\n",
       "    <tr>\n",
       "      <th>4</th>\n",
       "      <td>SIDM01689</td>\n",
       "      <td>SIDS01631</td>\n",
       "      <td>SIDP01557</td>\n",
       "      <td>NaN</td>\n",
       "      <td>MUTZ-5</td>\n",
       "      <td>NaN</td>\n",
       "      <td>Haematopoietic and Lymphoid</td>\n",
       "      <td>B-Lymphoblastic Leukemia</td>\n",
       "      <td>C8644</td>\n",
       "      <td>Tumour</td>\n",
       "      <td>...</td>\n",
       "      <td>NaN</td>\n",
       "      <td>NaN</td>\n",
       "      <td>NaN</td>\n",
       "      <td>NaN</td>\n",
       "      <td>NaN</td>\n",
       "      <td>NaN</td>\n",
       "      <td>NaN</td>\n",
       "      <td>NaN</td>\n",
       "      <td>NaN</td>\n",
       "      <td>False</td>\n",
       "    </tr>\n",
       "  </tbody>\n",
       "</table>\n",
       "<p>5 rows × 97 columns</p>\n",
       "</div>"
      ],
      "text/plain": [
       "    model_id  sample_id patient_id parent_id model_name synonyms  \\\n",
       "0  SIDM01774  SIDS01659  SIDP01578       NaN      PK-59      NaN   \n",
       "1  SIDM00192  SIDS00612  SIDP00541       NaN   SNU-1033      NaN   \n",
       "2  SIDM01447  SIDS01466  SIDP01347       NaN    SNU-466      NaN   \n",
       "3  SIDM01554  SIDS01363  SIDP01247       NaN  IST-MES-2      NaN   \n",
       "4  SIDM01689  SIDS01631  SIDP01557       NaN     MUTZ-5      NaN   \n",
       "\n",
       "                        tissue               cancer_type cancer_type_ncit_id  \\\n",
       "0                     Pancreas      Pancreatic Carcinoma               C3850   \n",
       "1              Large Intestine      Colorectal Carcinoma               C9383   \n",
       "2       Central Nervous System              Glioblastoma               C3058   \n",
       "3                         Lung              Mesothelioma              C45662   \n",
       "4  Haematopoietic and Lymphoid  B-Lymphoblastic Leukemia               C8644   \n",
       "\n",
       "  tissue_status  ... msh6_expression_by_ihc braf_mutation_identified  \\\n",
       "0    Metastasis  ...                    NaN                      NaN   \n",
       "1        Tumour  ...                    NaN                      NaN   \n",
       "2        Tumour  ...                    NaN                      NaN   \n",
       "3       Unknown  ...                    NaN                      NaN   \n",
       "4        Tumour  ...                    NaN                      NaN   \n",
       "\n",
       "  braf_expression_by_ihc pik3ca_mutation_identified pten_expression_by_ihc  \\\n",
       "0                    NaN                        NaN                    NaN   \n",
       "1                    NaN                        NaN                    NaN   \n",
       "2                    NaN                        NaN                    NaN   \n",
       "3                    NaN                        NaN                    NaN   \n",
       "4                    NaN                        NaN                    NaN   \n",
       "\n",
       "   pten_mutation_identified  kras_mutation_identified  mismatch_repair_status  \\\n",
       "0                       NaN                       NaN                     NaN   \n",
       "1                       NaN                       NaN                     NaN   \n",
       "2                       NaN                       NaN                     NaN   \n",
       "3                       NaN                       NaN                     NaN   \n",
       "4                       NaN                       NaN                     NaN   \n",
       "\n",
       "  preoperative_ce_alevel  crispr_ko_data  \n",
       "0                    NaN           False  \n",
       "1                    NaN            True  \n",
       "2                    NaN           False  \n",
       "3                    NaN            True  \n",
       "4                    NaN           False  \n",
       "\n",
       "[5 rows x 97 columns]"
      ]
     },
     "execution_count": 13,
     "metadata": {},
     "output_type": "execute_result"
    }
   ],
   "source": [
    "targets = pd.read_csv(\"target.csv\",sep=\";\")\n",
    "models = pd.read_csv(\"model_list_20240110.csv\")\n",
    "models.head()"
   ]
  },
  {
   "cell_type": "code",
   "execution_count": 14,
   "id": "2589f1bf-13bd-4379-8b6e-90674d079ad8",
   "metadata": {},
   "outputs": [],
   "source": [
    "def get_transformed_merged_drug_model_df(models, targets):\n",
    "    columns_with_most_val_filled = models.columns[models.isnull().sum(axis=0)/ models.shape[0] <= 0.1]\n",
    "    filtered_columns = remove_uninformative_columns(models, columns_with_most_val_filled) ##all categorical\n",
    "    filtered_columns.append(\"model_id\") ## required for later join\n",
    "    print(filtered_columns)\n",
    "    models = models[filtered_columns].fillna(\"Unkown\")\n",
    "    columns_besides_id = list(filter(lambda x: x != \"model_id\", filtered_columns))\n",
    "    models = categorize_columns(models, columns_besides_id)\n",
    "    z_scale(models, columns_besides_id)\n",
    "    models = models.rename(columns={\"model_id\":\"SANGER_MODEL_ID\"}) ##rename for join\n",
    "    limited_drug_target = targets[targets[\"DRUG_ID\"] == 1862] ##filter specific drug\n",
    "    limited_drug_target_filtered = limited_drug_target.loc[:, [\"CELL_LINE_NAME\", \"SANGER_MODEL_ID\", \"MIN_CONC\", \"LN_IC50\"]]\n",
    "    limited_drug_target_filtered = categorize_columns(limited_drug_target_filtered, [\"CELL_LINE_NAME\"])\n",
    "    z_scale(limited_drug_target_filtered, list(filter(lambda x: x not in [\"LN_IC50\", \"SANGER_MODEL_ID\"], limited_drug_target_filtered.columns)))\n",
    "    model_drug_information = pd.merge(limited_drug_target_filtered, models, how=\"inner\", on=\"SANGER_MODEL_ID\") ## merge drug and model information\n",
    "    model_drug_information[\"model_idx\"] = model_drug_information.index ##store index for later joins to retrieve edge index\n",
    "    return model_drug_information"
   ]
  },
  {
   "cell_type": "code",
   "execution_count": 15,
   "id": "aefb43ef-a45a-4f20-9bd2-9b430e22e0f4",
   "metadata": {},
   "outputs": [
    {
     "name": "stdout",
     "output_type": "stream",
     "text": [
      "['sample_id', 'patient_id', 'model_name', 'tissue', 'cancer_type', 'cancer_type_ncit_id', 'tissue_status', 'sample_site', 'cancer_type_detail', 'model_type', 'growth_properties', 'gender', 'ethnicity', 'smoking_status', 'sample_treatment', 'crispr_ko_data', 'model_id']\n"
     ]
    }
   ],
   "source": [
    "merged_drug_model_df = get_transformed_merged_drug_model_df(models,  targets)"
   ]
  },
  {
   "cell_type": "code",
   "execution_count": 16,
   "id": "4ca00747-6fe0-448f-ad39-c4b02cc69b41",
   "metadata": {},
   "outputs": [],
   "source": [
    "def get_target_label_and_model_with_target_feature(model_drug_information):\n",
    "    target_labels = model_drug_information.pop(\"LN_IC50\").values\n",
    "    model_feature_columns = list(filter(lambda x: x not in [\"model_idx\", \"SANGER_MODEL_ID\"], model_drug_information.columns))\n",
    "    print(model_feature_columns)\n",
    "    model_and_target_features = model_drug_information[model_feature_columns].values\n",
    "    return (target_labels, model_and_target_features)"
   ]
  },
  {
   "cell_type": "code",
   "execution_count": 17,
   "id": "3e27ec9f-5956-4778-9a10-e8e2d6799898",
   "metadata": {},
   "outputs": [
    {
     "name": "stdout",
     "output_type": "stream",
     "text": [
      "['CELL_LINE_NAME', 'MIN_CONC', 'sample_id', 'patient_id', 'model_name', 'tissue', 'cancer_type', 'cancer_type_ncit_id', 'tissue_status', 'sample_site', 'cancer_type_detail', 'model_type', 'growth_properties', 'gender', 'ethnicity', 'smoking_status', 'sample_treatment', 'crispr_ko_data']\n"
     ]
    }
   ],
   "source": [
    "target_labels, model_and_target_features = get_target_label_and_model_with_target_feature(merged_drug_model_df)"
   ]
  },
  {
   "cell_type": "code",
   "execution_count": 18,
   "id": "347c749c-587b-47a7-ba1f-d7c6242116ce",
   "metadata": {},
   "outputs": [
    {
     "data": {
      "text/plain": [
       "((969,), (969, 18))"
      ]
     },
     "execution_count": 18,
     "metadata": {},
     "output_type": "execute_result"
    }
   ],
   "source": [
    "target_labels.shape, model_and_target_features.shape"
   ]
  },
  {
   "cell_type": "markdown",
   "id": "fdfdd5f8-1289-422e-b4f6-b43ba89a7eb9",
   "metadata": {},
   "source": [
    "## Generate edge indices and edge attributes"
   ]
  },
  {
   "cell_type": "markdown",
   "id": "36927cda-6a32-4ceb-9f08-53e69f5f4b9e",
   "metadata": {},
   "source": [
    "### Read copy numbers"
   ]
  },
  {
   "cell_type": "code",
   "execution_count": 19,
   "id": "ac410ccb-6350-46c5-b5fb-2604c5b1e928",
   "metadata": {},
   "outputs": [
    {
     "data": {
      "text/html": [
       "<div>\n",
       "<style scoped>\n",
       "    .dataframe tbody tr th:only-of-type {\n",
       "        vertical-align: middle;\n",
       "    }\n",
       "\n",
       "    .dataframe tbody tr th {\n",
       "        vertical-align: top;\n",
       "    }\n",
       "\n",
       "    .dataframe thead th {\n",
       "        text-align: right;\n",
       "    }\n",
       "</style>\n",
       "<table border=\"1\" class=\"dataframe\">\n",
       "  <thead>\n",
       "    <tr style=\"text-align: right;\">\n",
       "      <th></th>\n",
       "      <th>model_name</th>\n",
       "      <th>model_id</th>\n",
       "      <th>symbol</th>\n",
       "      <th>gene_id</th>\n",
       "      <th>chr_name</th>\n",
       "      <th>chr_start</th>\n",
       "      <th>chr_end</th>\n",
       "      <th>total_copy_number</th>\n",
       "      <th>minor_copy_number</th>\n",
       "      <th>loh</th>\n",
       "      <th>...</th>\n",
       "      <th>seg_mean</th>\n",
       "      <th>gene_mean</th>\n",
       "      <th>num_targets</th>\n",
       "      <th>focal</th>\n",
       "      <th>breakpoints</th>\n",
       "      <th>num_snps</th>\n",
       "      <th>gatk_mean_log2_copy_ratio</th>\n",
       "      <th>comment</th>\n",
       "      <th>source</th>\n",
       "      <th>data_type</th>\n",
       "    </tr>\n",
       "  </thead>\n",
       "  <tbody>\n",
       "    <tr>\n",
       "      <th>0</th>\n",
       "      <td>MEC-1</td>\n",
       "      <td>SIDM00001</td>\n",
       "      <td>ABCB1</td>\n",
       "      <td>SIDG00064</td>\n",
       "      <td>chr7</td>\n",
       "      <td>87503966</td>\n",
       "      <td>87600461</td>\n",
       "      <td>3.0</td>\n",
       "      <td>1.0</td>\n",
       "      <td>False</td>\n",
       "      <td>...</td>\n",
       "      <td>0.599167</td>\n",
       "      <td>0.414125</td>\n",
       "      <td>28.0</td>\n",
       "      <td>False</td>\n",
       "      <td>0.0</td>\n",
       "      <td>1124.0</td>\n",
       "      <td>0.574127</td>\n",
       "      <td>POOR GOF (70.4%)</td>\n",
       "      <td>Sanger</td>\n",
       "      <td>WES</td>\n",
       "    </tr>\n",
       "    <tr>\n",
       "      <th>1</th>\n",
       "      <td>MEC-1</td>\n",
       "      <td>SIDM00001</td>\n",
       "      <td>ABL1</td>\n",
       "      <td>SIDG00150</td>\n",
       "      <td>chr9</td>\n",
       "      <td>130714099</td>\n",
       "      <td>130885948</td>\n",
       "      <td>3.0</td>\n",
       "      <td>1.0</td>\n",
       "      <td>False</td>\n",
       "      <td>...</td>\n",
       "      <td>0.599167</td>\n",
       "      <td>0.472693</td>\n",
       "      <td>12.0</td>\n",
       "      <td>False</td>\n",
       "      <td>0.0</td>\n",
       "      <td>977.0</td>\n",
       "      <td>0.585569</td>\n",
       "      <td>POOR GOF (70.4%)</td>\n",
       "      <td>Sanger</td>\n",
       "      <td>WES</td>\n",
       "    </tr>\n",
       "    <tr>\n",
       "      <th>2</th>\n",
       "      <td>MEC-1</td>\n",
       "      <td>SIDM00001</td>\n",
       "      <td>BRD3</td>\n",
       "      <td>SIDG02504</td>\n",
       "      <td>chr9</td>\n",
       "      <td>134033313</td>\n",
       "      <td>134053689</td>\n",
       "      <td>3.0</td>\n",
       "      <td>1.0</td>\n",
       "      <td>False</td>\n",
       "      <td>...</td>\n",
       "      <td>0.599167</td>\n",
       "      <td>0.705704</td>\n",
       "      <td>11.0</td>\n",
       "      <td>False</td>\n",
       "      <td>0.0</td>\n",
       "      <td>977.0</td>\n",
       "      <td>0.585569</td>\n",
       "      <td>POOR GOF (70.4%)</td>\n",
       "      <td>Sanger</td>\n",
       "      <td>WES</td>\n",
       "    </tr>\n",
       "    <tr>\n",
       "      <th>3</th>\n",
       "      <td>MEC-1</td>\n",
       "      <td>SIDM00001</td>\n",
       "      <td>CARD11</td>\n",
       "      <td>SIDG03455</td>\n",
       "      <td>chr7</td>\n",
       "      <td>2906361</td>\n",
       "      <td>2958783</td>\n",
       "      <td>3.0</td>\n",
       "      <td>1.0</td>\n",
       "      <td>False</td>\n",
       "      <td>...</td>\n",
       "      <td>0.599167</td>\n",
       "      <td>0.696245</td>\n",
       "      <td>23.0</td>\n",
       "      <td>False</td>\n",
       "      <td>0.0</td>\n",
       "      <td>1124.0</td>\n",
       "      <td>0.574127</td>\n",
       "      <td>POOR GOF (70.4%)</td>\n",
       "      <td>Sanger</td>\n",
       "      <td>WES</td>\n",
       "    </tr>\n",
       "    <tr>\n",
       "      <th>4</th>\n",
       "      <td>MEC-1</td>\n",
       "      <td>SIDM00001</td>\n",
       "      <td>CDK6</td>\n",
       "      <td>SIDG04156</td>\n",
       "      <td>chr7</td>\n",
       "      <td>92614869</td>\n",
       "      <td>92833599</td>\n",
       "      <td>3.0</td>\n",
       "      <td>1.0</td>\n",
       "      <td>False</td>\n",
       "      <td>...</td>\n",
       "      <td>0.599167</td>\n",
       "      <td>0.750720</td>\n",
       "      <td>7.0</td>\n",
       "      <td>False</td>\n",
       "      <td>0.0</td>\n",
       "      <td>1124.0</td>\n",
       "      <td>0.574127</td>\n",
       "      <td>POOR GOF (70.4%)</td>\n",
       "      <td>Sanger</td>\n",
       "      <td>WES</td>\n",
       "    </tr>\n",
       "  </tbody>\n",
       "</table>\n",
       "<p>5 rows × 23 columns</p>\n",
       "</div>"
      ],
      "text/plain": [
       "  model_name   model_id  symbol    gene_id chr_name  chr_start    chr_end  \\\n",
       "0      MEC-1  SIDM00001   ABCB1  SIDG00064     chr7   87503966   87600461   \n",
       "1      MEC-1  SIDM00001    ABL1  SIDG00150     chr9  130714099  130885948   \n",
       "2      MEC-1  SIDM00001    BRD3  SIDG02504     chr9  134033313  134053689   \n",
       "3      MEC-1  SIDM00001  CARD11  SIDG03455     chr7    2906361    2958783   \n",
       "4      MEC-1  SIDM00001    CDK6  SIDG04156     chr7   92614869   92833599   \n",
       "\n",
       "   total_copy_number  minor_copy_number    loh  ...  seg_mean  gene_mean  \\\n",
       "0                3.0                1.0  False  ...  0.599167   0.414125   \n",
       "1                3.0                1.0  False  ...  0.599167   0.472693   \n",
       "2                3.0                1.0  False  ...  0.599167   0.705704   \n",
       "3                3.0                1.0  False  ...  0.599167   0.696245   \n",
       "4                3.0                1.0  False  ...  0.599167   0.750720   \n",
       "\n",
       "  num_targets  focal  breakpoints  num_snps gatk_mean_log2_copy_ratio  \\\n",
       "0        28.0  False          0.0    1124.0                  0.574127   \n",
       "1        12.0  False          0.0     977.0                  0.585569   \n",
       "2        11.0  False          0.0     977.0                  0.585569   \n",
       "3        23.0  False          0.0    1124.0                  0.574127   \n",
       "4         7.0  False          0.0    1124.0                  0.574127   \n",
       "\n",
       "            comment  source  data_type  \n",
       "0  POOR GOF (70.4%)  Sanger        WES  \n",
       "1  POOR GOF (70.4%)  Sanger        WES  \n",
       "2  POOR GOF (70.4%)  Sanger        WES  \n",
       "3  POOR GOF (70.4%)  Sanger        WES  \n",
       "4  POOR GOF (70.4%)  Sanger        WES  \n",
       "\n",
       "[5 rows x 23 columns]"
      ]
     },
     "execution_count": 19,
     "metadata": {},
     "output_type": "execute_result"
    }
   ],
   "source": [
    "copy_numbers = pd.read_csv(\"WES_pureCN_CNV_genes_20220623.csv\")\n",
    "copy_numbers.head()"
   ]
  },
  {
   "cell_type": "markdown",
   "id": "2ee4345d-a3f9-472d-a466-15142d6afe83",
   "metadata": {},
   "source": [
    "### Get edge index (model-[CopyNumbers]->gene)"
   ]
  },
  {
   "cell_type": "code",
   "execution_count": 20,
   "id": "d4a88811-c2ee-45d3-a73a-c8e766cef098",
   "metadata": {},
   "outputs": [],
   "source": [
    "def get_gene_and_model_merged_df(gene_idx_to_gene_symbol_df, merged_drug_model_df, df):\n",
    "    human_genome_index_merged_df = pd.merge(gene_idx_to_gene_symbol_df, df, on=\"symbol\", how = \"inner\")\n",
    "    human_genome_index_merged_df = human_genome_index_merged_df.rename(columns={\"model_id\": \"SANGER_MODEL_ID\"}) ##rename for join\n",
    "    model_gene_merged_df = pd.merge(human_genome_index_merged_df, merged_drug_model_df, on=\"SANGER_MODEL_ID\", how=\"inner\")\n",
    "    return model_gene_merged_df"
   ]
  },
  {
   "cell_type": "code",
   "execution_count": 21,
   "id": "c62a20f9-3395-4d81-b891-0ffa5bc3ccb7",
   "metadata": {},
   "outputs": [
    {
     "data": {
      "text/plain": [
       "(887292, 2)"
      ]
     },
     "execution_count": 21,
     "metadata": {},
     "output_type": "execute_result"
    }
   ],
   "source": [
    "model_gene_merged_copy_number_df = get_gene_and_model_merged_df(gene_idx_to_gene_symbol_df, merged_drug_model_df, copy_numbers)\n",
    "model_to_gene_copy_number_edge_index = model_gene_merged_copy_number_df.loc[:, [\"model_idx\", \"human_genome_index\"]].values.astype(np.int64)\n",
    "model_to_gene_copy_number_edge_index.shape"
   ]
  },
  {
   "cell_type": "markdown",
   "id": "d0f5f95a-c45a-4350-8f3a-290a63ebd1b2",
   "metadata": {},
   "source": [
    "### Get edge attributes (model-[CopyNumbers]->gene)"
   ]
  },
  {
   "cell_type": "code",
   "execution_count": 22,
   "id": "5bb18868-44e0-4471-9cba-7700d8e7c982",
   "metadata": {},
   "outputs": [
    {
     "data": {
      "text/plain": [
       "(887292, 8)"
      ]
     },
     "execution_count": 22,
     "metadata": {},
     "output_type": "execute_result"
    }
   ],
   "source": [
    "reduced_model_gene_attributes = model_gene_merged_copy_number_df.loc[:, ['total_copy_number',\n",
    "       'minor_copy_number', 'cn_category', 'seg_mean', 'gene_mean', 'num_targets', 'num_snps', 'gatk_mean_log2_copy_ratio']]\n",
    "reduced_model_gene_attributes = categorize_columns(reduced_model_gene_attributes, [\"cn_category\"])\n",
    "reduced_model_gene_attributes = reduced_model_gene_attributes.fillna(0)\n",
    "reduced_model_gene_attributes = z_scale(reduced_model_gene_attributes, reduced_model_gene_attributes.columns)\n",
    "copy_number_edge_attributes = reduced_model_gene_attributes.values\n",
    "copy_number_edge_attributes.shape"
   ]
  },
  {
   "cell_type": "markdown",
   "id": "e38b19ee-40f1-4dc3-9e7d-d72f06e3850c",
   "metadata": {},
   "source": [
    "### Read mutations"
   ]
  },
  {
   "cell_type": "code",
   "execution_count": 23,
   "id": "24eb7bf2-0828-437d-8d47-7f0b8b99cebf",
   "metadata": {},
   "outputs": [
    {
     "data": {
      "text/html": [
       "<div>\n",
       "<style scoped>\n",
       "    .dataframe tbody tr th:only-of-type {\n",
       "        vertical-align: middle;\n",
       "    }\n",
       "\n",
       "    .dataframe tbody tr th {\n",
       "        vertical-align: top;\n",
       "    }\n",
       "\n",
       "    .dataframe thead th {\n",
       "        text-align: right;\n",
       "    }\n",
       "</style>\n",
       "<table border=\"1\" class=\"dataframe\">\n",
       "  <thead>\n",
       "    <tr style=\"text-align: right;\">\n",
       "      <th></th>\n",
       "      <th>gene_id</th>\n",
       "      <th>symbol</th>\n",
       "      <th>model_id</th>\n",
       "      <th>protein_mutation</th>\n",
       "      <th>rna_mutation</th>\n",
       "      <th>cdna_mutation</th>\n",
       "      <th>cancer_driver</th>\n",
       "      <th>cancer_predisposition_variant</th>\n",
       "      <th>effect</th>\n",
       "      <th>vaf</th>\n",
       "      <th>coding</th>\n",
       "      <th>source</th>\n",
       "      <th>model_name</th>\n",
       "    </tr>\n",
       "  </thead>\n",
       "  <tbody>\n",
       "    <tr>\n",
       "      <th>0</th>\n",
       "      <td>SIDG13960</td>\n",
       "      <td>KRAS</td>\n",
       "      <td>SIDM02080</td>\n",
       "      <td>p.Q61H</td>\n",
       "      <td>r.373a&gt;c</td>\n",
       "      <td>c.183A&gt;C</td>\n",
       "      <td>True</td>\n",
       "      <td>False</td>\n",
       "      <td>missense</td>\n",
       "      <td>1.0000</td>\n",
       "      <td>True</td>\n",
       "      <td>Sanger</td>\n",
       "      <td>HCM-SANG-1308-C25</td>\n",
       "    </tr>\n",
       "    <tr>\n",
       "      <th>1</th>\n",
       "      <td>SIDG38363</td>\n",
       "      <td>TP53</td>\n",
       "      <td>SIDM02080</td>\n",
       "      <td>p.E204*</td>\n",
       "      <td>r.800g&gt;u</td>\n",
       "      <td>c.610G&gt;T</td>\n",
       "      <td>True</td>\n",
       "      <td>False</td>\n",
       "      <td>nonsense</td>\n",
       "      <td>1.0000</td>\n",
       "      <td>True</td>\n",
       "      <td>Sanger</td>\n",
       "      <td>HCM-SANG-1308-C25</td>\n",
       "    </tr>\n",
       "    <tr>\n",
       "      <th>2</th>\n",
       "      <td>SIDG35070</td>\n",
       "      <td>SMAD4</td>\n",
       "      <td>SIDM02080</td>\n",
       "      <td>p.?</td>\n",
       "      <td>r.1494-2a&gt;g</td>\n",
       "      <td>c.956-2A&gt;G</td>\n",
       "      <td>True</td>\n",
       "      <td>False</td>\n",
       "      <td>ess_splice</td>\n",
       "      <td>1.0000</td>\n",
       "      <td>True</td>\n",
       "      <td>Sanger</td>\n",
       "      <td>HCM-SANG-1308-C25</td>\n",
       "    </tr>\n",
       "    <tr>\n",
       "      <th>3</th>\n",
       "      <td>SIDG25750</td>\n",
       "      <td>PREX2</td>\n",
       "      <td>SIDM02080</td>\n",
       "      <td>p.E553K</td>\n",
       "      <td>r.2006g&gt;a</td>\n",
       "      <td>c.1657G&gt;A</td>\n",
       "      <td>True</td>\n",
       "      <td>False</td>\n",
       "      <td>missense</td>\n",
       "      <td>0.2911</td>\n",
       "      <td>True</td>\n",
       "      <td>Sanger</td>\n",
       "      <td>HCM-SANG-1308-C25</td>\n",
       "    </tr>\n",
       "    <tr>\n",
       "      <th>4</th>\n",
       "      <td>SIDG01214</td>\n",
       "      <td>APC</td>\n",
       "      <td>SIDM02066</td>\n",
       "      <td>p.R790fs*8</td>\n",
       "      <td>r.2425_2426delAG</td>\n",
       "      <td>c.2366_2367delAG</td>\n",
       "      <td>True</td>\n",
       "      <td>False</td>\n",
       "      <td>frameshift</td>\n",
       "      <td>1.0000</td>\n",
       "      <td>True</td>\n",
       "      <td>Sanger</td>\n",
       "      <td>HCM-SANG-1313-C18</td>\n",
       "    </tr>\n",
       "  </tbody>\n",
       "</table>\n",
       "</div>"
      ],
      "text/plain": [
       "     gene_id symbol   model_id protein_mutation      rna_mutation  \\\n",
       "0  SIDG13960   KRAS  SIDM02080           p.Q61H          r.373a>c   \n",
       "1  SIDG38363   TP53  SIDM02080          p.E204*          r.800g>u   \n",
       "2  SIDG35070  SMAD4  SIDM02080              p.?       r.1494-2a>g   \n",
       "3  SIDG25750  PREX2  SIDM02080          p.E553K         r.2006g>a   \n",
       "4  SIDG01214    APC  SIDM02066       p.R790fs*8  r.2425_2426delAG   \n",
       "\n",
       "      cdna_mutation  cancer_driver  cancer_predisposition_variant      effect  \\\n",
       "0          c.183A>C           True                          False    missense   \n",
       "1          c.610G>T           True                          False    nonsense   \n",
       "2        c.956-2A>G           True                          False  ess_splice   \n",
       "3         c.1657G>A           True                          False    missense   \n",
       "4  c.2366_2367delAG           True                          False  frameshift   \n",
       "\n",
       "      vaf  coding  source         model_name  \n",
       "0  1.0000    True  Sanger  HCM-SANG-1308-C25  \n",
       "1  1.0000    True  Sanger  HCM-SANG-1308-C25  \n",
       "2  1.0000    True  Sanger  HCM-SANG-1308-C25  \n",
       "3  0.2911    True  Sanger  HCM-SANG-1308-C25  \n",
       "4  1.0000    True  Sanger  HCM-SANG-1313-C18  "
      ]
     },
     "execution_count": 23,
     "metadata": {},
     "output_type": "execute_result"
    }
   ],
   "source": [
    "mutations = pd.read_csv(\"mutations_summary_20221018.csv\")\n",
    "mutations = mutations.rename(columns={\"gene_symbol\": \"symbol\"})\n",
    "mutations.head()"
   ]
  },
  {
   "cell_type": "markdown",
   "id": "3ebc93e5-1763-4867-bcdc-e8467e65ca1d",
   "metadata": {},
   "source": [
    "### Get edge index (model-[Mutations]->gene)"
   ]
  },
  {
   "cell_type": "code",
   "execution_count": 24,
   "id": "8ceb435d-01a5-4c96-874d-b1f1bf7e5530",
   "metadata": {},
   "outputs": [
    {
     "data": {
      "text/plain": [
       "(9183, 2)"
      ]
     },
     "execution_count": 24,
     "metadata": {},
     "output_type": "execute_result"
    }
   ],
   "source": [
    "model_gene_merged_mutations_df = get_gene_and_model_merged_df(gene_idx_to_gene_symbol_df, merged_drug_model_df, mutations)\n",
    "model_to_gene_mutations_edge_index = model_gene_merged_mutations_df.loc[:, [\"model_idx\", \"human_genome_index\"]].values.astype(np.int64)\n",
    "model_to_gene_mutations_edge_index.shape"
   ]
  },
  {
   "cell_type": "code",
   "execution_count": 25,
   "id": "033e8217-1ba4-4e22-b3e8-686a5184b769",
   "metadata": {},
   "outputs": [
    {
     "data": {
      "text/plain": [
       "protein_mutation                 0\n",
       "rna_mutation                     0\n",
       "cdna_mutation                    0\n",
       "cancer_driver                    0\n",
       "cancer_predisposition_variant    0\n",
       "effect                           0\n",
       "vaf                              0\n",
       "dtype: int64"
      ]
     },
     "execution_count": 25,
     "metadata": {},
     "output_type": "execute_result"
    }
   ],
   "source": [
    "model_gene_merged_mutations_df.loc[:, [\"protein_mutation\", \"rna_mutation\", \"cdna_mutation\", \"cancer_driver\", \"cancer_predisposition_variant\", \"effect\", \"vaf\"]].isnull().sum()"
   ]
  },
  {
   "cell_type": "markdown",
   "id": "11fb6dbe-2fd2-4915-8f94-8817c1744e70",
   "metadata": {},
   "source": [
    "### Get edge attributes (model-[Mutations]->gene)"
   ]
  },
  {
   "cell_type": "code",
   "execution_count": 26,
   "id": "b4327178-6920-41d4-81ea-576c4f9e41de",
   "metadata": {},
   "outputs": [
    {
     "data": {
      "text/plain": [
       "(9183, 7)"
      ]
     },
     "execution_count": 26,
     "metadata": {},
     "output_type": "execute_result"
    }
   ],
   "source": [
    "mutations_edge_attributes = model_gene_merged_mutations_df.loc[:, [\"protein_mutation\", \"rna_mutation\", \"cdna_mutation\", \"cancer_driver\", \"cancer_predisposition_variant\", \"effect\", \"vaf\"]]\n",
    "mutations_edge_attributes = categorize_columns(mutations_edge_attributes,[\"protein_mutation\", \"rna_mutation\", \"cdna_mutation\", \"cancer_driver\", \"cancer_predisposition_variant\", \"effect\"])\n",
    "mutations_edge_attributes = z_scale(mutations_edge_attributes, mutations_edge_attributes.columns).values\n",
    "mutations_edge_attributes.shape"
   ]
  },
  {
   "cell_type": "markdown",
   "id": "3550c6da-5eab-475e-80cf-46de873e31ff",
   "metadata": {},
   "source": [
    "### Read Gene expression data"
   ]
  },
  {
   "cell_type": "code",
   "execution_count": 27,
   "id": "f767e84a-e9e4-4232-851b-0471b192677c",
   "metadata": {
    "scrolled": true
   },
   "outputs": [
    {
     "data": {
      "text/html": [
       "<div>\n",
       "<style scoped>\n",
       "    .dataframe tbody tr th:only-of-type {\n",
       "        vertical-align: middle;\n",
       "    }\n",
       "\n",
       "    .dataframe tbody tr th {\n",
       "        vertical-align: top;\n",
       "    }\n",
       "\n",
       "    .dataframe thead th {\n",
       "        text-align: right;\n",
       "    }\n",
       "</style>\n",
       "<table border=\"1\" class=\"dataframe\">\n",
       "  <thead>\n",
       "    <tr style=\"text-align: right;\">\n",
       "      <th></th>\n",
       "      <th>1</th>\n",
       "      <th>2</th>\n",
       "      <th>3</th>\n",
       "      <th>4</th>\n",
       "      <th>5</th>\n",
       "      <th>6</th>\n",
       "      <th>7</th>\n",
       "      <th>8</th>\n",
       "      <th>9</th>\n",
       "      <th>10</th>\n",
       "      <th>...</th>\n",
       "      <th>1423</th>\n",
       "      <th>1424</th>\n",
       "      <th>1425</th>\n",
       "      <th>1426</th>\n",
       "      <th>1427</th>\n",
       "      <th>1428</th>\n",
       "      <th>1429</th>\n",
       "      <th>1430</th>\n",
       "      <th>1431</th>\n",
       "      <th>1432</th>\n",
       "    </tr>\n",
       "    <tr>\n",
       "      <th>0</th>\n",
       "      <th></th>\n",
       "      <th></th>\n",
       "      <th></th>\n",
       "      <th></th>\n",
       "      <th></th>\n",
       "      <th></th>\n",
       "      <th></th>\n",
       "      <th></th>\n",
       "      <th></th>\n",
       "      <th></th>\n",
       "      <th></th>\n",
       "      <th></th>\n",
       "      <th></th>\n",
       "      <th></th>\n",
       "      <th></th>\n",
       "      <th></th>\n",
       "      <th></th>\n",
       "      <th></th>\n",
       "      <th></th>\n",
       "      <th></th>\n",
       "      <th></th>\n",
       "    </tr>\n",
       "  </thead>\n",
       "  <tbody>\n",
       "    <tr>\n",
       "      <th>model_id</th>\n",
       "      <td>NaN</td>\n",
       "      <td>SIDM00001</td>\n",
       "      <td>SIDM00002</td>\n",
       "      <td>SIDM00003</td>\n",
       "      <td>SIDM00005</td>\n",
       "      <td>SIDM00006</td>\n",
       "      <td>SIDM00007</td>\n",
       "      <td>SIDM00008</td>\n",
       "      <td>SIDM00009</td>\n",
       "      <td>SIDM00011</td>\n",
       "      <td>...</td>\n",
       "      <td>SIDM02071</td>\n",
       "      <td>SIDM02072</td>\n",
       "      <td>SIDM02073</td>\n",
       "      <td>SIDM02074</td>\n",
       "      <td>SIDM02075</td>\n",
       "      <td>SIDM02076</td>\n",
       "      <td>SIDM02077</td>\n",
       "      <td>SIDM02078</td>\n",
       "      <td>SIDM02079</td>\n",
       "      <td>SIDM02080</td>\n",
       "    </tr>\n",
       "    <tr>\n",
       "      <th>model_name</th>\n",
       "      <td>NaN</td>\n",
       "      <td>MEC-1</td>\n",
       "      <td>NBsusSR</td>\n",
       "      <td>M14</td>\n",
       "      <td>MDA-MB-134-VI</td>\n",
       "      <td>MCC26</td>\n",
       "      <td>MCC13</td>\n",
       "      <td>MCAS</td>\n",
       "      <td>MC-1010</td>\n",
       "      <td>Malme-3M</td>\n",
       "      <td>...</td>\n",
       "      <td>HCM-SANG-1325-C15</td>\n",
       "      <td>HCM-SANG-1331-C18</td>\n",
       "      <td>HCM-SANG-1337-C18</td>\n",
       "      <td>HCM-SANG-1326-C15</td>\n",
       "      <td>HCM-SANG-1300-C18</td>\n",
       "      <td>HCM-SANG-1322-C15</td>\n",
       "      <td>HCM-SANG-1332-C18</td>\n",
       "      <td>HCM-SANG-1095-C25</td>\n",
       "      <td>HCM-SANG-1336-C15</td>\n",
       "      <td>HCM-SANG-1308-C25</td>\n",
       "    </tr>\n",
       "    <tr>\n",
       "      <th>dataset_name</th>\n",
       "      <td>NaN</td>\n",
       "      <td>Sanger &amp; Broad Cell Lines RNASeq</td>\n",
       "      <td>Sanger &amp; Broad Cell Lines RNASeq</td>\n",
       "      <td>Sanger &amp; Broad Cell Lines RNASeq</td>\n",
       "      <td>Sanger &amp; Broad Cell Lines RNASeq</td>\n",
       "      <td>Sanger &amp; Broad Cell Lines RNASeq</td>\n",
       "      <td>Sanger &amp; Broad Cell Lines RNASeq</td>\n",
       "      <td>Sanger &amp; Broad Cell Lines RNASeq</td>\n",
       "      <td>Sanger &amp; Broad Cell Lines RNASeq</td>\n",
       "      <td>Sanger &amp; Broad Cell Lines RNASeq</td>\n",
       "      <td>...</td>\n",
       "      <td>Sanger Organoid RNASeq</td>\n",
       "      <td>Sanger Organoid RNASeq</td>\n",
       "      <td>Sanger Organoid RNASeq</td>\n",
       "      <td>Sanger Organoid RNASeq</td>\n",
       "      <td>Sanger Organoid RNASeq</td>\n",
       "      <td>Sanger Organoid RNASeq</td>\n",
       "      <td>Sanger Organoid RNASeq</td>\n",
       "      <td>Sanger Organoid RNASeq</td>\n",
       "      <td>Sanger Organoid RNASeq</td>\n",
       "      <td>Sanger Organoid RNASeq</td>\n",
       "    </tr>\n",
       "    <tr>\n",
       "      <th>data_source</th>\n",
       "      <td>NaN</td>\n",
       "      <td>Broad</td>\n",
       "      <td>Sanger</td>\n",
       "      <td>Sanger</td>\n",
       "      <td>Broad</td>\n",
       "      <td>Sanger</td>\n",
       "      <td>Sanger</td>\n",
       "      <td>Broad</td>\n",
       "      <td>Sanger</td>\n",
       "      <td>Broad</td>\n",
       "      <td>...</td>\n",
       "      <td>Sanger</td>\n",
       "      <td>Sanger</td>\n",
       "      <td>Sanger</td>\n",
       "      <td>Sanger</td>\n",
       "      <td>Sanger</td>\n",
       "      <td>Sanger</td>\n",
       "      <td>Sanger</td>\n",
       "      <td>Sanger</td>\n",
       "      <td>Sanger</td>\n",
       "      <td>Sanger</td>\n",
       "    </tr>\n",
       "    <tr>\n",
       "      <th>gene_id</th>\n",
       "      <td>symbol</td>\n",
       "      <td>NaN</td>\n",
       "      <td>NaN</td>\n",
       "      <td>NaN</td>\n",
       "      <td>NaN</td>\n",
       "      <td>NaN</td>\n",
       "      <td>NaN</td>\n",
       "      <td>NaN</td>\n",
       "      <td>NaN</td>\n",
       "      <td>NaN</td>\n",
       "      <td>...</td>\n",
       "      <td>NaN</td>\n",
       "      <td>NaN</td>\n",
       "      <td>NaN</td>\n",
       "      <td>NaN</td>\n",
       "      <td>NaN</td>\n",
       "      <td>NaN</td>\n",
       "      <td>NaN</td>\n",
       "      <td>NaN</td>\n",
       "      <td>NaN</td>\n",
       "      <td>NaN</td>\n",
       "    </tr>\n",
       "  </tbody>\n",
       "</table>\n",
       "<p>5 rows × 1432 columns</p>\n",
       "</div>"
      ],
      "text/plain": [
       "                1                                 2     \\\n",
       "0                                                        \n",
       "model_id         NaN                         SIDM00001   \n",
       "model_name       NaN                             MEC-1   \n",
       "dataset_name     NaN  Sanger & Broad Cell Lines RNASeq   \n",
       "data_source      NaN                             Broad   \n",
       "gene_id       symbol                               NaN   \n",
       "\n",
       "                                          3     \\\n",
       "0                                                \n",
       "model_id                             SIDM00002   \n",
       "model_name                             NBsusSR   \n",
       "dataset_name  Sanger & Broad Cell Lines RNASeq   \n",
       "data_source                             Sanger   \n",
       "gene_id                                    NaN   \n",
       "\n",
       "                                          4     \\\n",
       "0                                                \n",
       "model_id                             SIDM00003   \n",
       "model_name                                 M14   \n",
       "dataset_name  Sanger & Broad Cell Lines RNASeq   \n",
       "data_source                             Sanger   \n",
       "gene_id                                    NaN   \n",
       "\n",
       "                                          5     \\\n",
       "0                                                \n",
       "model_id                             SIDM00005   \n",
       "model_name                       MDA-MB-134-VI   \n",
       "dataset_name  Sanger & Broad Cell Lines RNASeq   \n",
       "data_source                              Broad   \n",
       "gene_id                                    NaN   \n",
       "\n",
       "                                          6     \\\n",
       "0                                                \n",
       "model_id                             SIDM00006   \n",
       "model_name                               MCC26   \n",
       "dataset_name  Sanger & Broad Cell Lines RNASeq   \n",
       "data_source                             Sanger   \n",
       "gene_id                                    NaN   \n",
       "\n",
       "                                          7     \\\n",
       "0                                                \n",
       "model_id                             SIDM00007   \n",
       "model_name                               MCC13   \n",
       "dataset_name  Sanger & Broad Cell Lines RNASeq   \n",
       "data_source                             Sanger   \n",
       "gene_id                                    NaN   \n",
       "\n",
       "                                          8     \\\n",
       "0                                                \n",
       "model_id                             SIDM00008   \n",
       "model_name                                MCAS   \n",
       "dataset_name  Sanger & Broad Cell Lines RNASeq   \n",
       "data_source                              Broad   \n",
       "gene_id                                    NaN   \n",
       "\n",
       "                                          9     \\\n",
       "0                                                \n",
       "model_id                             SIDM00009   \n",
       "model_name                             MC-1010   \n",
       "dataset_name  Sanger & Broad Cell Lines RNASeq   \n",
       "data_source                             Sanger   \n",
       "gene_id                                    NaN   \n",
       "\n",
       "                                          10    ...                    1423  \\\n",
       "0                                               ...                           \n",
       "model_id                             SIDM00011  ...               SIDM02071   \n",
       "model_name                            Malme-3M  ...       HCM-SANG-1325-C15   \n",
       "dataset_name  Sanger & Broad Cell Lines RNASeq  ...  Sanger Organoid RNASeq   \n",
       "data_source                              Broad  ...                  Sanger   \n",
       "gene_id                                    NaN  ...                     NaN   \n",
       "\n",
       "                                1424                    1425  \\\n",
       "0                                                              \n",
       "model_id                   SIDM02072               SIDM02073   \n",
       "model_name         HCM-SANG-1331-C18       HCM-SANG-1337-C18   \n",
       "dataset_name  Sanger Organoid RNASeq  Sanger Organoid RNASeq   \n",
       "data_source                   Sanger                  Sanger   \n",
       "gene_id                          NaN                     NaN   \n",
       "\n",
       "                                1426                    1427  \\\n",
       "0                                                              \n",
       "model_id                   SIDM02074               SIDM02075   \n",
       "model_name         HCM-SANG-1326-C15       HCM-SANG-1300-C18   \n",
       "dataset_name  Sanger Organoid RNASeq  Sanger Organoid RNASeq   \n",
       "data_source                   Sanger                  Sanger   \n",
       "gene_id                          NaN                     NaN   \n",
       "\n",
       "                                1428                    1429  \\\n",
       "0                                                              \n",
       "model_id                   SIDM02076               SIDM02077   \n",
       "model_name         HCM-SANG-1322-C15       HCM-SANG-1332-C18   \n",
       "dataset_name  Sanger Organoid RNASeq  Sanger Organoid RNASeq   \n",
       "data_source                   Sanger                  Sanger   \n",
       "gene_id                          NaN                     NaN   \n",
       "\n",
       "                                1430                    1431  \\\n",
       "0                                                              \n",
       "model_id                   SIDM02078               SIDM02079   \n",
       "model_name         HCM-SANG-1095-C25       HCM-SANG-1336-C15   \n",
       "dataset_name  Sanger Organoid RNASeq  Sanger Organoid RNASeq   \n",
       "data_source                   Sanger                  Sanger   \n",
       "gene_id                          NaN                     NaN   \n",
       "\n",
       "                                1432  \n",
       "0                                     \n",
       "model_id                   SIDM02080  \n",
       "model_name         HCM-SANG-1308-C25  \n",
       "dataset_name  Sanger Organoid RNASeq  \n",
       "data_source                   Sanger  \n",
       "gene_id                          NaN  \n",
       "\n",
       "[5 rows x 1432 columns]"
      ]
     },
     "execution_count": 27,
     "metadata": {},
     "output_type": "execute_result"
    }
   ],
   "source": [
    "rna_seq_df = pd.read_csv(\"rnaseq_tpm_20220624.csv\",index_col=0, header = None,low_memory=False)\n",
    "rna_seq_df.head()"
   ]
  },
  {
   "cell_type": "code",
   "execution_count": 28,
   "id": "599bf06c-7e33-4c62-9256-4bfa362a5afe",
   "metadata": {},
   "outputs": [],
   "source": [
    "def get_transformed_df_in_model_gene_value_format(rna_seq_df):\n",
    "    rna_seq_df_transposed = rna_seq_df.transpose().iloc[0:, :]\n",
    "    new_header = rna_seq_df_transposed.iloc[0, :] \n",
    "    rna_seq_df_transposed = rna_seq_df_transposed.iloc[1:, :] \n",
    "    rna_seq_df_transposed.columns = new_header\n",
    "    rna_seq_df_transposed = rna_seq_df_transposed.iloc[:, [0, *list(range(5, new_header.shape[0]))]]\n",
    "    rna_seq_df_transposed = rna_seq_df_transposed.rename(columns={rna_seq_df_transposed.columns[0]: \"SANGER_MODEL_ID\"})\n",
    "    rna_seq_df_transposed_stacked = rna_seq_df_transposed.set_index('SANGER_MODEL_ID').stack().reset_index(name='ExpressionValue')\n",
    "    rna_seq_df_transposed_stacked = rna_seq_df_transposed_stacked.rename(columns={1:'symbol'})\n",
    "    return rna_seq_df_transposed_stacked"
   ]
  },
  {
   "cell_type": "code",
   "execution_count": 29,
   "id": "10fa0820-d74b-4b14-aab2-ffc5ff45cdff",
   "metadata": {},
   "outputs": [],
   "source": [
    "transformed_seq_data = get_transformed_df_in_model_gene_value_format(rna_seq_df)"
   ]
  },
  {
   "cell_type": "markdown",
   "id": "f69bfb0e-ba6b-4960-acec-18a3686c49cf",
   "metadata": {},
   "source": [
    "### Get edge index (model-[Expression]->gene)"
   ]
  },
  {
   "cell_type": "code",
   "execution_count": 30,
   "id": "8fe472ab-2599-4bfb-bec4-420ca6b12d3b",
   "metadata": {},
   "outputs": [
    {
     "data": {
      "text/plain": [
       "(22177890, 2)"
      ]
     },
     "execution_count": 30,
     "metadata": {},
     "output_type": "execute_result"
    }
   ],
   "source": [
    "model_gene_merged_exprssion_df = get_gene_and_model_merged_df(gene_idx_to_gene_symbol_df, merged_drug_model_df, transformed_seq_data)\n",
    "gene_expression_model_edge_index = model_gene_merged_exprssion_df.loc[:,[\"model_idx\", \"human_genome_index\"]].values.astype(np.int64)\n",
    "gene_expression_model_edge_index.shape"
   ]
  },
  {
   "cell_type": "markdown",
   "id": "72d4715a-4074-4592-964b-586826ed06db",
   "metadata": {},
   "source": [
    "### Get edge attributes (model-[Expression]->gene)"
   ]
  },
  {
   "cell_type": "code",
   "execution_count": 31,
   "id": "533b582f-9dab-482c-bd98-13636e064ec2",
   "metadata": {},
   "outputs": [
    {
     "data": {
      "text/plain": [
       "(22177890, 1)"
      ]
     },
     "execution_count": 31,
     "metadata": {},
     "output_type": "execute_result"
    }
   ],
   "source": [
    "import torch\n",
    "device = torch.device(\"cuda:0\")\n",
    "gene_expression_torch = torch.from_numpy(model_gene_merged_exprssion_df.loc[:, [\"ExpressionValue\"]].astype(float).values).to(device)\n",
    "gene_expression_model_edge_attributes_torch = (gene_expression_torch - gene_expression_torch.mean()) / gene_expression_torch.std()\n",
    "gene_expression_model_edge_attributes = gene_expression_model_edge_attributes_torch.cpu().numpy()\n",
    "gene_expression_model_edge_attributes.shape"
   ]
  },
  {
   "cell_type": "markdown",
   "id": "35056ef3-db3e-4825-9981-04f77cc97174",
   "metadata": {},
   "source": [
    "## Create graph"
   ]
  },
  {
   "cell_type": "code",
   "execution_count": 32,
   "id": "df2d0f8f-b0be-430b-8214-77c70faef03d",
   "metadata": {},
   "outputs": [],
   "source": [
    "from torch_geometric.data import HeteroData\n",
    "\n",
    "data = HeteroData()\n",
    "data['model'].x = torch.from_numpy(model_and_target_features).type(torch.float)\n",
    "data['gene'].x = torch.from_numpy(gene_features).type(torch.float)\n",
    "data['model', 'copy_number', 'gene'].edge_index = torch.transpose(torch.from_numpy(model_to_gene_copy_number_edge_index).type(torch.long), 0, -1)\n",
    "data['model', 'mutation', 'gene'].edge_index = torch.transpose(torch.from_numpy(model_to_gene_mutations_edge_index).type(torch.long), 0, -1)\n",
    "data['model', 'expression', 'gene'].edge_index = torch.transpose(torch.from_numpy(gene_expression_model_edge_index).type(torch.long), 0, -1)\n",
    "\n",
    "data['model', 'copy_number', 'gene'].edge_attr = torch.from_numpy(copy_number_edge_attributes).type(torch.float)\n",
    "data['model', 'mutation', 'gene'].edge_attr = torch.from_numpy(mutations_edge_attributes).type(torch.float)\n",
    "data['model', 'expression', 'gene'].edge_attr = torch.from_numpy(gene_expression_model_edge_attributes).type(torch.float)\n",
    "\n",
    "data['gene', 'copy_number', 'model'].edge_index = torch.transpose(reverse_edge_index(torch.from_numpy(model_to_gene_copy_number_edge_index)).type(torch.long), 0, -1)\n",
    "data['gene', 'mutation', 'model'].edge_index = torch.transpose(reverse_edge_index(torch.from_numpy(model_to_gene_mutations_edge_index)).type(torch.long), 0, -1)\n",
    "data['gene', 'expression', 'model'].edge_index = torch.transpose(reverse_edge_index(torch.from_numpy(gene_expression_model_edge_index)).type(torch.long), 0, -1)\n",
    "\n",
    "data['gene', 'copy_number', 'model'].edge_attr = torch.from_numpy(copy_number_edge_attributes).type(torch.float)\n",
    "data['gene', 'mutation', 'model'].edge_attr = torch.from_numpy(mutations_edge_attributes).type(torch.float)\n",
    "data['gene', 'expression', 'model'].edge_attr = torch.from_numpy(gene_expression_model_edge_attributes).type(torch.float)\n",
    "\n",
    "y = torch.from_numpy(target_labels).type(torch.float)\n",
    "data['model'].y = y"
   ]
  },
  {
   "cell_type": "markdown",
   "id": "aebfb603-80a3-4946-b4b9-d53f30f9355e",
   "metadata": {},
   "source": [
    "## train, val test split"
   ]
  },
  {
   "cell_type": "code",
   "execution_count": 42,
   "id": "f18c8a70-6849-4762-b395-f065651d78e3",
   "metadata": {},
   "outputs": [
    {
     "data": {
      "text/plain": [
       "(torch.Size([726]), torch.Size([243]))"
      ]
     },
     "execution_count": 42,
     "metadata": {},
     "output_type": "execute_result"
    }
   ],
   "source": [
    "from sklearn.model_selection import train_test_split\n",
    "train_indices, test_indices = train_test_split(torch.arange(y.shape[0]), random_state = 0)\n",
    "train_indices.shape, test_indices.shape"
   ]
  },
  {
   "cell_type": "markdown",
   "id": "86b7e341-1762-4f58-9a55-6f1ecb5267cc",
   "metadata": {},
   "source": [
    "## Construct GNN"
   ]
  },
  {
   "cell_type": "code",
   "execution_count": 67,
   "id": "1c5125fa-efeb-4eba-9757-f1a956a9298c",
   "metadata": {},
   "outputs": [],
   "source": [
    "from torch import nn\n",
    "import torch.nn.functional as F\n",
    "from torch_geometric.nn import Linear, GATConv\n",
    "class GNN(nn.Module): ## After reading I would prefer RGATConv!\n",
    "    ## Architecture ideas - skip connections, dropout, elu/relu, HEATConv/GAT/RGATConv/Custom, Weight initialization (e.g., Glorot/Bengio)\n",
    "    def __init__(self, hidden_dim = 32,heads = 1, out_dim = 1, dropout = 0):\n",
    "        super(GNN, self).__init__()\n",
    "        self.lin_features = Linear(-1, hidden_dim)\n",
    "        self.lin_edge_attr = Linear(-1, hidden_dim)\n",
    "        self.conv = GATConv(hidden_dim, hidden_dim, heads = heads, add_self_loops = False, dropout = dropout)\n",
    "        self.lin_conv = Linear(hidden_dim*heads, hidden_dim)\n",
    "        # self.lin_conv_2 = Linear(hidden_dim, hidden_dim)\n",
    "        self.lin_end = Linear(hidden_dim, out_dim)\n",
    "        self.dropout = nn.Dropout(dropout)\n",
    "\n",
    "    def forward(self, x, edge_index, edge_attr):\n",
    "        x = F.elu(self.lin_features(x))\n",
    "        x = self.dropout(x)\n",
    "        edge_attr = F.elu(self.lin_edge_attr(edge_attr))\n",
    "        edge_attr = self.dropout(edge_attr)\n",
    "        x = self.conv(x, edge_index, edge_attr)\n",
    "        x = self.dropout(x)\n",
    "        x = self.lin_conv(x)\n",
    "        x = F.elu(x) \n",
    "        x = self.dropout(x)\n",
    "        x = self.lin_end(x)\n",
    "        return x"
   ]
  },
  {
   "cell_type": "code",
   "execution_count": 266,
   "id": "347e1fc5-da15-40d1-8e78-639e0a99a29d",
   "metadata": {},
   "outputs": [],
   "source": [
    "# from torch import nn\n",
    "# import torch.nn.functional as F\n",
    "# from torch_geometric.nn import Linear, RGATConv\n",
    "# class HetGNN(nn.Module): ## After reading I would prefer RGATConv!\n",
    "#     ## Architecture ideas - skip connections, dropout, elu/relu, HEATConv/GAT/RGATConv/Custom, Weight initialization (e.g., Glorot/Bengio)\n",
    "#     def __init__(self, hidden_dim = 64,heads = 1, out_dim = 1):\n",
    "#         super(GNN, self).__init__()\n",
    "#         self.lin_features = Linear(-1, hidden_dim)\n",
    "#         self.lin_edge_attr = Linear(-1, hidden_dim)\n",
    "#         self.conv = GATConv(hidden_dim, hidden_dim, heads = heads, add_self_loops = False)\n",
    "#         self.lin_end = Linear(hidden_dim*heads, out_dim)\n",
    "\n",
    "#     def forward(self, x, edge_index, edge_attr):\n",
    "#         x = F.elu(self.lin_features(x))\n",
    "#         x = F.dropout(x, p = 0.2, training=self.training)\n",
    "#         edge_attr = F.elu(self.lin_edge_attr(edge_attr))\n",
    "#         edge_attr = F.dropout(edge_attr, p = 0.2, training=self.training)\n",
    "#         x = F.elu(self.conv(x, edge_index, edge_attr))\n",
    "#         x = F.dropout(x, p = 0.2, training=self.training)\n",
    "#         x = self.lin_end(x)\n",
    "#         return x"
   ]
  },
  {
   "cell_type": "markdown",
   "id": "3f4ce4e1-d03b-48f7-82f7-1b1958cf382c",
   "metadata": {},
   "source": [
    "## K-fold cross validation"
   ]
  },
  {
   "cell_type": "code",
   "execution_count": 43,
   "id": "83f0d1e4-3f3f-456d-aa43-c0089d0fcb35",
   "metadata": {},
   "outputs": [],
   "source": [
    "device = torch.device(\"cuda:2\")\n",
    "loss_fn = torch.nn.MSELoss(reduction=\"mean\")"
   ]
  },
  {
   "cell_type": "code",
   "execution_count": 44,
   "id": "a2897733-7f47-48b3-8511-2bbb12021f68",
   "metadata": {},
   "outputs": [],
   "source": [
    "from torch_geometric.loader import HGTLoader\n",
    "\n",
    "def get_loaders(train_data, train_index, val_index, batch_size):\n",
    "    \n",
    "    train_loader = HGTLoader(\n",
    "        train_data,\n",
    "        # Sample 10_000_000 nodes per type and per batch for 1 hop\n",
    "        num_samples={key: [batch_size*10_000_000] for key in data.node_types},\n",
    "        batch_size=batch_size,\n",
    "        input_nodes=('model', train_index),\n",
    "    )\n",
    "\n",
    "    val_loader = HGTLoader(\n",
    "        train_data,\n",
    "        num_samples={key: [batch_size*10_000_000] for key in data.node_types},\n",
    "        batch_size=batch_size,\n",
    "        input_nodes=('model', val_index),\n",
    "    )\n",
    "\n",
    "    hetero_train_loader_iterator = iter(train_loader)\n",
    "    hetero_val_loader_iterator = iter(val_loader)\n",
    "    \n",
    "    return (list(hetero_train_loader_iterator), list(hetero_val_loader_iterator))\n",
    "    "
   ]
  },
  {
   "cell_type": "code",
   "execution_count": 45,
   "id": "f90da468-3cda-4fd7-b1ce-a7de8bb29409",
   "metadata": {},
   "outputs": [],
   "source": [
    "import copy\n",
    "def train_k(train_loader, hyperparameters):\n",
    "    global device\n",
    "    model = copy.deepcopy(hyperparameters[\"model\"]).to(device)\n",
    "    optim = torch.optim.Adam(params=model.parameters(), lr = hyperparameters[\"lr\"], weight_decay=hyperparameters[\"wd\"])\n",
    "    loss_list = []\n",
    "    for epoch in tqdm(range(hyperparameters[\"epochs\"])):\n",
    "        acc_loss = 0\n",
    "        batch_size = 0 \n",
    "        optim.zero_grad()\n",
    "        for batch in train_loader:\n",
    "            batch = batch.to(device)\n",
    "            model.train()\n",
    "            out =  model(batch.x_dict, batch.edge_index_dict, batch.edge_attr_dict)\n",
    "            loss = loss_fn(out[\"model\"].squeeze(),batch[\"model\"].y)\n",
    "            acc_loss += loss.item()\n",
    "            batch_size += batch[\"model\"].x.shape[0]\n",
    "        loss.backward()\n",
    "        optim.step()\n",
    "        loss_list.append(acc_loss / batch_size)        \n",
    "        \n",
    "    return model, np.array(loss_list)"
   ]
  },
  {
   "cell_type": "code",
   "execution_count": 64,
   "id": "0919a102-a51f-45b5-93d0-3c19f5c57863",
   "metadata": {},
   "outputs": [],
   "source": [
    "from sklearn.metrics import root_mean_squared_error, mean_squared_error, mean_absolute_error\n",
    "from sklearn.metrics import r2_score\n",
    "\n",
    "def evaluate_k(model, val_loader):\n",
    "    global device\n",
    "    model = model.to(device)\n",
    "    with torch.inference_mode():\n",
    "        true_target_values = []\n",
    "        pred_target_values = []\n",
    "        \n",
    "        for batch in val_loader:\n",
    "            batch = batch.to(device)\n",
    "            model.eval()\n",
    "            pred = model(batch.x_dict, batch.edge_index_dict, batch.edge_attr_dict)\n",
    "            true_target_values.append(batch[\"model\"].y)\n",
    "            pred_target_values.append(pred[\"model\"].squeeze(0).flatten())\n",
    "\n",
    "        true_target_values = torch.cat(true_target_values, 0).squeeze()\n",
    "        pred_target_values = torch.cat(pred_target_values, 0).squeeze()\n",
    "        \n",
    "        y_true = true_target_values.cpu().numpy()\n",
    "        y_pred = pred_target_values.cpu().numpy()\n",
    "        \n",
    "        rmse = root_mean_squared_error(y_true,y_pred)\n",
    "        mse = mean_squared_error(y_true,y_pred)\n",
    "        mae = mean_absolute_error(y_true,y_pred)\n",
    "        r2 = r2_score(y_true,y_pred)\n",
    "        secondary_scores = {\n",
    "            \"mse\": mse,\n",
    "            \"mae\": mae,\n",
    "            \"r2\": r2,\n",
    "            \"rmse\": rmse\n",
    "        }\n",
    "        return r2, secondary_scores #, (pred_target_values, true_target_values)"
   ]
  },
  {
   "cell_type": "code",
   "execution_count": null,
   "id": "64afa167-f437-410d-838c-65da250fb045",
   "metadata": {
    "scrolled": true
   },
   "outputs": [
    {
     "data": {
      "application/vnd.jupyter.widget-view+json": {
       "model_id": "1d5a560ddcb7415790254580fc41db8c",
       "version_major": 2,
       "version_minor": 0
      },
      "text/plain": [
       "  0%|          | 0/72 [00:00<?, ?it/s]"
      ]
     },
     "metadata": {},
     "output_type": "display_data"
    },
    {
     "data": {
      "application/vnd.jupyter.widget-view+json": {
       "model_id": "badefb73d8144582ad0f31b202da188a",
       "version_major": 2,
       "version_minor": 0
      },
      "text/plain": [
       "  0%|          | 0/300 [00:00<?, ?it/s]"
      ]
     },
     "metadata": {},
     "output_type": "display_data"
    },
    {
     "name": "stdout",
     "output_type": "stream",
     "text": [
      "{'mse': 0.4845004, 'mae': 0.53729594, 'r2': -0.2733498639557934, 'rmse': 0.69606066}\n"
     ]
    },
    {
     "data": {
      "application/vnd.jupyter.widget-view+json": {
       "model_id": "f49bd4f34f494317a8f93efa5d4b99fb",
       "version_major": 2,
       "version_minor": 0
      },
      "text/plain": [
       "  0%|          | 0/300 [00:00<?, ?it/s]"
      ]
     },
     "metadata": {},
     "output_type": "display_data"
    },
    {
     "name": "stdout",
     "output_type": "stream",
     "text": [
      "{'mse': 0.64911234, 'mae': 0.58410096, 'r2': -0.2872329286786448, 'rmse': 0.8056751}\n"
     ]
    },
    {
     "data": {
      "application/vnd.jupyter.widget-view+json": {
       "model_id": "1899844df8d54156b6ce255123053cad",
       "version_major": 2,
       "version_minor": 0
      },
      "text/plain": [
       "  0%|          | 0/300 [00:00<?, ?it/s]"
      ]
     },
     "metadata": {},
     "output_type": "display_data"
    },
    {
     "name": "stdout",
     "output_type": "stream",
     "text": [
      "{'mse': 0.47497696, 'mae': 0.51283485, 'r2': -0.35154946235861284, 'rmse': 0.68918574}\n"
     ]
    },
    {
     "data": {
      "application/vnd.jupyter.widget-view+json": {
       "model_id": "69a8d7403aac46258d545ad0a6f9d699",
       "version_major": 2,
       "version_minor": 0
      },
      "text/plain": [
       "  0%|          | 0/300 [00:00<?, ?it/s]"
      ]
     },
     "metadata": {},
     "output_type": "display_data"
    },
    {
     "name": "stdout",
     "output_type": "stream",
     "text": [
      "{'mse': 0.8074228, 'mae': 0.66342175, 'r2': -0.3666824566382145, 'rmse': 0.8985671}\n"
     ]
    },
    {
     "data": {
      "application/vnd.jupyter.widget-view+json": {
       "model_id": "77867ba8f50e462d8b1ec68eb9e4cf25",
       "version_major": 2,
       "version_minor": 0
      },
      "text/plain": [
       "  0%|          | 0/300 [00:00<?, ?it/s]"
      ]
     },
     "metadata": {},
     "output_type": "display_data"
    },
    {
     "name": "stdout",
     "output_type": "stream",
     "text": [
      "{'mse': 0.8793783, 'mae': 0.60462636, 'r2': -0.17594423979884866, 'rmse': 0.9377517}\n"
     ]
    },
    {
     "data": {
      "application/vnd.jupyter.widget-view+json": {
       "model_id": "c94b2d1d7169499c861d15fb000710af",
       "version_major": 2,
       "version_minor": 0
      },
      "text/plain": [
       "  0%|          | 0/300 [00:00<?, ?it/s]"
      ]
     },
     "metadata": {},
     "output_type": "display_data"
    },
    {
     "name": "stdout",
     "output_type": "stream",
     "text": [
      "{'mse': 0.48972735, 'mae': 0.5430514, 'r2': -0.287087290357275, 'rmse': 0.6998052}\n"
     ]
    },
    {
     "data": {
      "application/vnd.jupyter.widget-view+json": {
       "model_id": "e2506e1ee7ae463394733ed759173cfb",
       "version_major": 2,
       "version_minor": 0
      },
      "text/plain": [
       "  0%|          | 0/300 [00:00<?, ?it/s]"
      ]
     },
     "metadata": {},
     "output_type": "display_data"
    },
    {
     "name": "stdout",
     "output_type": "stream",
     "text": [
      "{'mse': 0.5990569, 'mae': 0.5581417, 'r2': -0.1879695994474968, 'rmse': 0.77398765}\n"
     ]
    },
    {
     "data": {
      "application/vnd.jupyter.widget-view+json": {
       "model_id": "2583c889ee80415c8539009d993b55e4",
       "version_major": 2,
       "version_minor": 0
      },
      "text/plain": [
       "  0%|          | 0/300 [00:00<?, ?it/s]"
      ]
     },
     "metadata": {},
     "output_type": "display_data"
    },
    {
     "name": "stdout",
     "output_type": "stream",
     "text": [
      "{'mse': 0.45368338, 'mae': 0.5392531, 'r2': -0.290958327576728, 'rmse': 0.6735602}\n"
     ]
    },
    {
     "data": {
      "application/vnd.jupyter.widget-view+json": {
       "model_id": "520a66667d84492b8a896df122fea489",
       "version_major": 2,
       "version_minor": 0
      },
      "text/plain": [
       "  0%|          | 0/300 [00:00<?, ?it/s]"
      ]
     },
     "metadata": {},
     "output_type": "display_data"
    },
    {
     "name": "stdout",
     "output_type": "stream",
     "text": [
      "{'mse': 0.9291908, 'mae': 0.7134312, 'r2': -0.5727928407529796, 'rmse': 0.96394545}\n"
     ]
    },
    {
     "data": {
      "application/vnd.jupyter.widget-view+json": {
       "model_id": "f6aa29036dbc415abc97975a73c5ed78",
       "version_major": 2,
       "version_minor": 0
      },
      "text/plain": [
       "  0%|          | 0/300 [00:00<?, ?it/s]"
      ]
     },
     "metadata": {},
     "output_type": "display_data"
    },
    {
     "name": "stdout",
     "output_type": "stream",
     "text": [
      "{'mse': 0.9783196, 'mae': 0.6462489, 'r2': -0.30825283427835326, 'rmse': 0.9891004}\n"
     ]
    },
    {
     "data": {
      "application/vnd.jupyter.widget-view+json": {
       "model_id": "0f122cf11bac4a36aa5185c23ac50592",
       "version_major": 2,
       "version_minor": 0
      },
      "text/plain": [
       "  0%|          | 0/300 [00:00<?, ?it/s]"
      ]
     },
     "metadata": {},
     "output_type": "display_data"
    },
    {
     "name": "stdout",
     "output_type": "stream",
     "text": [
      "{'mse': 0.452656, 'mae': 0.53569055, 'r2': -0.18965747239561792, 'rmse': 0.67279714}\n"
     ]
    },
    {
     "data": {
      "application/vnd.jupyter.widget-view+json": {
       "model_id": "d0a5c95917df49d6b4fdd01529f7c2e1",
       "version_major": 2,
       "version_minor": 0
      },
      "text/plain": [
       "  0%|          | 0/300 [00:00<?, ?it/s]"
      ]
     },
     "metadata": {},
     "output_type": "display_data"
    },
    {
     "name": "stdout",
     "output_type": "stream",
     "text": [
      "{'mse': 0.68993574, 'mae': 0.6620129, 'r2': -0.3681881647898875, 'rmse': 0.8306237}\n"
     ]
    },
    {
     "data": {
      "application/vnd.jupyter.widget-view+json": {
       "model_id": "2300f8804b3544c6949e86c549a6c17b",
       "version_major": 2,
       "version_minor": 0
      },
      "text/plain": [
       "  0%|          | 0/300 [00:00<?, ?it/s]"
      ]
     },
     "metadata": {},
     "output_type": "display_data"
    },
    {
     "name": "stdout",
     "output_type": "stream",
     "text": [
      "{'mse': 0.48202178, 'mae': 0.54752487, 'r2': -0.3715953902522158, 'rmse': 0.6942779}\n"
     ]
    },
    {
     "data": {
      "application/vnd.jupyter.widget-view+json": {
       "model_id": "0a18ed21673341fda99c1963a2eaef87",
       "version_major": 2,
       "version_minor": 0
      },
      "text/plain": [
       "  0%|          | 0/300 [00:00<?, ?it/s]"
      ]
     },
     "metadata": {},
     "output_type": "display_data"
    },
    {
     "name": "stdout",
     "output_type": "stream",
     "text": [
      "{'mse': 0.88012075, 'mae': 0.7340297, 'r2': -0.48973458387736746, 'rmse': 0.9381475}\n"
     ]
    },
    {
     "data": {
      "application/vnd.jupyter.widget-view+json": {
       "model_id": "05302bf5be9f493e9235b334dac3ea8a",
       "version_major": 2,
       "version_minor": 0
      },
      "text/plain": [
       "  0%|          | 0/300 [00:00<?, ?it/s]"
      ]
     },
     "metadata": {},
     "output_type": "display_data"
    },
    {
     "name": "stdout",
     "output_type": "stream",
     "text": [
      "{'mse': 0.79520077, 'mae': 0.63954496, 'r2': -0.06337816263292262, 'rmse': 0.8917403}\n"
     ]
    },
    {
     "data": {
      "application/vnd.jupyter.widget-view+json": {
       "model_id": "54adb2427ca74e529355c3d40352ed3f",
       "version_major": 2,
       "version_minor": 0
      },
      "text/plain": [
       "  0%|          | 0/300 [00:00<?, ?it/s]"
      ]
     },
     "metadata": {},
     "output_type": "display_data"
    },
    {
     "name": "stdout",
     "output_type": "stream",
     "text": [
      "{'mse': 0.5277553, 'mae': 0.56726086, 'r2': -0.38703134266818284, 'rmse': 0.7264677}\n"
     ]
    },
    {
     "data": {
      "application/vnd.jupyter.widget-view+json": {
       "model_id": "39c5c9fdc0d240c0b25e6ed85303d880",
       "version_major": 2,
       "version_minor": 0
      },
      "text/plain": [
       "  0%|          | 0/300 [00:00<?, ?it/s]"
      ]
     },
     "metadata": {},
     "output_type": "display_data"
    },
    {
     "name": "stdout",
     "output_type": "stream",
     "text": [
      "{'mse': 1.182528, 'mae': 0.94079673, 'r2': -1.3450313723135716, 'rmse': 1.0874411}\n"
     ]
    },
    {
     "data": {
      "application/vnd.jupyter.widget-view+json": {
       "model_id": "e22a8b0d04cf4d27aeddf3e2b5d2cf17",
       "version_major": 2,
       "version_minor": 0
      },
      "text/plain": [
       "  0%|          | 0/300 [00:00<?, ?it/s]"
      ]
     },
     "metadata": {},
     "output_type": "display_data"
    },
    {
     "name": "stdout",
     "output_type": "stream",
     "text": [
      "{'mse': 0.4160492, 'mae': 0.49572796, 'r2': -0.18387026595089528, 'rmse': 0.64501876}\n"
     ]
    },
    {
     "data": {
      "application/vnd.jupyter.widget-view+json": {
       "model_id": "b43fee932fc34d89921dc5ec49f8d713",
       "version_major": 2,
       "version_minor": 0
      },
      "text/plain": [
       "  0%|          | 0/300 [00:00<?, ?it/s]"
      ]
     },
     "metadata": {},
     "output_type": "display_data"
    },
    {
     "name": "stdout",
     "output_type": "stream",
     "text": [
      "{'mse': 1.759504, 'mae': 1.1594453, 'r2': -1.9782207131589407, 'rmse': 1.326463}\n"
     ]
    },
    {
     "data": {
      "application/vnd.jupyter.widget-view+json": {
       "model_id": "c86994fc8e6148b5a165e83fbfad7b99",
       "version_major": 2,
       "version_minor": 0
      },
      "text/plain": [
       "  0%|          | 0/300 [00:00<?, ?it/s]"
      ]
     },
     "metadata": {},
     "output_type": "display_data"
    },
    {
     "name": "stdout",
     "output_type": "stream",
     "text": [
      "{'mse': 0.8427238, 'mae': 0.59803563, 'r2': -0.1269280372842736, 'rmse': 0.91799986}\n"
     ]
    },
    {
     "data": {
      "application/vnd.jupyter.widget-view+json": {
       "model_id": "438e0c36bc1d41138cd11ce4d6725d9e",
       "version_major": 2,
       "version_minor": 0
      },
      "text/plain": [
       "  0%|          | 0/300 [00:00<?, ?it/s]"
      ]
     },
     "metadata": {},
     "output_type": "display_data"
    },
    {
     "name": "stdout",
     "output_type": "stream",
     "text": [
      "{'mse': 0.52420634, 'mae': 0.57090956, 'r2': -0.3777039630233556, 'rmse': 0.72402096}\n"
     ]
    },
    {
     "data": {
      "application/vnd.jupyter.widget-view+json": {
       "model_id": "b01118c040d342d7aa7f48de17065924",
       "version_major": 2,
       "version_minor": 0
      },
      "text/plain": [
       "  0%|          | 0/300 [00:00<?, ?it/s]"
      ]
     },
     "metadata": {},
     "output_type": "display_data"
    },
    {
     "name": "stdout",
     "output_type": "stream",
     "text": [
      "{'mse': 0.58795893, 'mae': 0.5060871, 'r2': -0.16596152962255006, 'rmse': 0.7667848}\n"
     ]
    },
    {
     "data": {
      "application/vnd.jupyter.widget-view+json": {
       "model_id": "4aaed7b16e014aa9bc8da2189281676f",
       "version_major": 2,
       "version_minor": 0
      },
      "text/plain": [
       "  0%|          | 0/300 [00:00<?, ?it/s]"
      ]
     },
     "metadata": {},
     "output_type": "display_data"
    },
    {
     "name": "stdout",
     "output_type": "stream",
     "text": [
      "{'mse': 0.4202945, 'mae': 0.48990437, 'r2': -0.1959502033033751, 'rmse': 0.64830124}\n"
     ]
    },
    {
     "data": {
      "application/vnd.jupyter.widget-view+json": {
       "model_id": "548e3b6f7b9144c6879a5aef0a542374",
       "version_major": 2,
       "version_minor": 0
      },
      "text/plain": [
       "  0%|          | 0/300 [00:00<?, ?it/s]"
      ]
     },
     "metadata": {},
     "output_type": "display_data"
    },
    {
     "name": "stdout",
     "output_type": "stream",
     "text": [
      "{'mse': 0.7366766, 'mae': 0.6484647, 'r2': -0.24693400217062833, 'rmse': 0.85829866}\n"
     ]
    },
    {
     "data": {
      "application/vnd.jupyter.widget-view+json": {
       "model_id": "e20ad7270f204360a862063a3f6a035e",
       "version_major": 2,
       "version_minor": 0
      },
      "text/plain": [
       "  0%|          | 0/300 [00:00<?, ?it/s]"
      ]
     },
     "metadata": {},
     "output_type": "display_data"
    },
    {
     "name": "stdout",
     "output_type": "stream",
     "text": [
      "{'mse': 0.89715743, 'mae': 0.61682355, 'r2': -0.19971912229461974, 'rmse': 0.94718397}\n"
     ]
    },
    {
     "data": {
      "application/vnd.jupyter.widget-view+json": {
       "model_id": "bf16675ea40e400d83c5ba340fb77338",
       "version_major": 2,
       "version_minor": 0
      },
      "text/plain": [
       "  0%|          | 0/300 [00:00<?, ?it/s]"
      ]
     },
     "metadata": {},
     "output_type": "display_data"
    },
    {
     "name": "stdout",
     "output_type": "stream",
     "text": [
      "{'mse': 0.47886512, 'mae': 0.5521351, 'r2': -0.258539485459484, 'rmse': 0.6920008}\n"
     ]
    },
    {
     "data": {
      "application/vnd.jupyter.widget-view+json": {
       "model_id": "99b48a41853b49c291e9ae0089ff7efa",
       "version_major": 2,
       "version_minor": 0
      },
      "text/plain": [
       "  0%|          | 0/300 [00:00<?, ?it/s]"
      ]
     },
     "metadata": {},
     "output_type": "display_data"
    },
    {
     "name": "stdout",
     "output_type": "stream",
     "text": [
      "{'mse': 0.60487217, 'mae': 0.58559996, 'r2': -0.19950146654481205, 'rmse': 0.7777353}\n"
     ]
    },
    {
     "data": {
      "application/vnd.jupyter.widget-view+json": {
       "model_id": "a255b18b81e94ddf90b5dd4b1b087f71",
       "version_major": 2,
       "version_minor": 0
      },
      "text/plain": [
       "  0%|          | 0/300 [00:00<?, ?it/s]"
      ]
     },
     "metadata": {},
     "output_type": "display_data"
    },
    {
     "name": "stdout",
     "output_type": "stream",
     "text": [
      "{'mse': 0.8035057, 'mae': 0.74123687, 'r2': -1.2863796423077853, 'rmse': 0.8963848}\n"
     ]
    },
    {
     "data": {
      "application/vnd.jupyter.widget-view+json": {
       "model_id": "977b567bdb4e47deb9b151aa6d2d7d26",
       "version_major": 2,
       "version_minor": 0
      },
      "text/plain": [
       "  0%|          | 0/300 [00:00<?, ?it/s]"
      ]
     },
     "metadata": {},
     "output_type": "display_data"
    },
    {
     "name": "stdout",
     "output_type": "stream",
     "text": [
      "{'mse': 0.8749184, 'mae': 0.73003626, 'r2': -0.4809287760459917, 'rmse': 0.93537074}\n"
     ]
    },
    {
     "data": {
      "application/vnd.jupyter.widget-view+json": {
       "model_id": "2357b48b5532458ba5c776f375abfd4d",
       "version_major": 2,
       "version_minor": 0
      },
      "text/plain": [
       "  0%|          | 0/300 [00:00<?, ?it/s]"
      ]
     },
     "metadata": {},
     "output_type": "display_data"
    },
    {
     "name": "stdout",
     "output_type": "stream",
     "text": [
      "{'mse': 0.8418409, 'mae': 0.64695805, 'r2': -0.1257475003534705, 'rmse': 0.9175189}\n"
     ]
    },
    {
     "data": {
      "application/vnd.jupyter.widget-view+json": {
       "model_id": "16af7f3ddabf4bc8bf5b9fc0ae862fbd",
       "version_major": 2,
       "version_minor": 0
      },
      "text/plain": [
       "  0%|          | 0/300 [00:00<?, ?it/s]"
      ]
     },
     "metadata": {},
     "output_type": "display_data"
    },
    {
     "name": "stdout",
     "output_type": "stream",
     "text": [
      "{'mse': 0.5202975, 'mae': 0.55348974, 'r2': -0.3674309289181745, 'rmse': 0.7213165}\n"
     ]
    },
    {
     "data": {
      "application/vnd.jupyter.widget-view+json": {
       "model_id": "19f75a28bac94e4186b5abc5e8de9fbe",
       "version_major": 2,
       "version_minor": 0
      },
      "text/plain": [
       "  0%|          | 0/300 [00:00<?, ?it/s]"
      ]
     },
     "metadata": {},
     "output_type": "display_data"
    },
    {
     "name": "stdout",
     "output_type": "stream",
     "text": [
      "{'mse': 0.69432247, 'mae': 0.66986394, 'r2': -0.37688743096924826, 'rmse': 0.8332601}\n"
     ]
    },
    {
     "data": {
      "application/vnd.jupyter.widget-view+json": {
       "model_id": "8298f35734bd404fbfdcec21e9eb06d5",
       "version_major": 2,
       "version_minor": 0
      },
      "text/plain": [
       "  0%|          | 0/300 [00:00<?, ?it/s]"
      ]
     },
     "metadata": {},
     "output_type": "display_data"
    },
    {
     "name": "stdout",
     "output_type": "stream",
     "text": [
      "{'mse': 0.75139034, 'mae': 0.6871697, 'r2': -1.138085276755941, 'rmse': 0.8668277}\n"
     ]
    },
    {
     "data": {
      "application/vnd.jupyter.widget-view+json": {
       "model_id": "ff14962866934a658f8e27a55076243b",
       "version_major": 2,
       "version_minor": 0
      },
      "text/plain": [
       "  0%|          | 0/300 [00:00<?, ?it/s]"
      ]
     },
     "metadata": {},
     "output_type": "display_data"
    },
    {
     "name": "stdout",
     "output_type": "stream",
     "text": [
      "{'mse': 0.78752714, 'mae': 0.6802831, 'r2': -0.33300610306741874, 'rmse': 0.8874273}\n"
     ]
    },
    {
     "data": {
      "application/vnd.jupyter.widget-view+json": {
       "model_id": "28716fa926194835be397ffe28a7b21b",
       "version_major": 2,
       "version_minor": 0
      },
      "text/plain": [
       "  0%|          | 0/300 [00:00<?, ?it/s]"
      ]
     },
     "metadata": {},
     "output_type": "display_data"
    },
    {
     "name": "stdout",
     "output_type": "stream",
     "text": [
      "{'mse': 0.92679715, 'mae': 0.62564003, 'r2': -0.23935484354655112, 'rmse': 0.96270305}\n"
     ]
    },
    {
     "data": {
      "application/vnd.jupyter.widget-view+json": {
       "model_id": "f7062c26dc774e7f85d8d280447d0098",
       "version_major": 2,
       "version_minor": 0
      },
      "text/plain": [
       "  0%|          | 0/300 [00:00<?, ?it/s]"
      ]
     },
     "metadata": {},
     "output_type": "display_data"
    },
    {
     "name": "stdout",
     "output_type": "stream",
     "text": [
      "{'mse': 0.57655627, 'mae': 0.5865024, 'r2': -0.5152884436594845, 'rmse': 0.75931305}\n"
     ]
    },
    {
     "data": {
      "application/vnd.jupyter.widget-view+json": {
       "model_id": "1e83d444e1c14579b60cb2c3b981e9db",
       "version_major": 2,
       "version_minor": 0
      },
      "text/plain": [
       "  0%|          | 0/300 [00:00<?, ?it/s]"
      ]
     },
     "metadata": {},
     "output_type": "display_data"
    },
    {
     "name": "stdout",
     "output_type": "stream",
     "text": [
      "{'mse': 0.6959223, 'mae': 0.6337027, 'r2': -0.38006002232832925, 'rmse': 0.8342196}\n"
     ]
    },
    {
     "data": {
      "application/vnd.jupyter.widget-view+json": {
       "model_id": "11460d3ae89b45ffb59bc7e033853be3",
       "version_major": 2,
       "version_minor": 0
      },
      "text/plain": [
       "  0%|          | 0/300 [00:00<?, ?it/s]"
      ]
     },
     "metadata": {},
     "output_type": "display_data"
    }
   ],
   "source": [
    "from sklearn.model_selection import KFold\n",
    "from tqdm.notebook import tqdm\n",
    "from torch_geometric.nn import to_hetero\n",
    "\n",
    "def check_hyperparams(train_data, hyperparameters, train_indices):\n",
    "    k_fold = KFold(n_splits=5, random_state=0, shuffle=True)\n",
    "    \n",
    "    scores = []\n",
    "    for i, (train_index, val_index) in enumerate(k_fold.split(train_indices)):\n",
    "        train_index = train_indices[train_index]\n",
    "        val_index = train_indices[val_index]\n",
    "        train_loader, val_loader = get_loaders(train_data, train_index, val_index, hyperparameters[\"batch_size\"])\n",
    "        model, loss_list = train_k(copy.deepcopy(train_loader), hyperparameters)\n",
    "        score, secondary_scores = evaluate_k(model, copy.deepcopy(val_loader))\n",
    "        print(secondary_scores)\n",
    "        scores.append(score)\n",
    "    return np.mean(scores)\n",
    "\n",
    "def find_best_model(train_data, hyperparameter_list, train_indices):\n",
    "    greater_is_better = True\n",
    "    best_score = float(\"-inf\") if greater_is_better else float(\"inf\")\n",
    "    best_hyperparams = None\n",
    "    for hyperparameters in tqdm(hyperparameter_list):\n",
    "        print(30*\"#\")\n",
    "        print(hyperparameters)\n",
    "        score = check_hyperparams(train_data, hyperparameters, train_indices)\n",
    "        if greater_is_better and score > best_score:\n",
    "            best_hyperparams = hyperparameters\n",
    "            best_score = score\n",
    "        if not greater_is_better and score < best_score:\n",
    "            best_hyperparams = hyperparameters\n",
    "            best_score = score\n",
    "    return best_hyperparams, best_score\n",
    "\n",
    "## We could also integrate here something fancier like hyperopt but for now lets stick to grid search\n",
    "# epochs_list = [50, 100, 150]\n",
    "# batch_size_list = [64, 128, 256]\n",
    "# aggr_list = [\"sum\"]\n",
    "# heads_list = [4,6,8]\n",
    "# hidden_dim_list = [32, 64, 128]\n",
    "# dropout_list = [0, .2]\n",
    "# wd_list = [0, 5e-5]\n",
    "# lr_list = [3e-3, 3e-4, 3e-5]\n",
    "\n",
    "epochs_list = [300]\n",
    "batch_size_list = [32]\n",
    "aggr_list = [\"sum\", \"mean\", \"max\"]\n",
    "heads_list = [4, 8]\n",
    "hidden_dim_list = [64, 128]\n",
    "dropout_list = [0, 0.2, 0.5, 0.7]\n",
    "wd_list = [0]\n",
    "lr_list = [1e-3, 1e-4, 1e-5]\n",
    "\n",
    "def get_hyperparamer_list(epochs_list, batch_size_list, aggr_list, heads_list, hidden_dim_list, dropout_list, wd_list, lr_list):\n",
    "    hyperparameter_list = []\n",
    "    for epochs in epochs_list:\n",
    "        for batch_size in batch_size_list:\n",
    "            for aggr in aggr_list:\n",
    "                for heads in heads_list:\n",
    "                    for hidden_dim in hidden_dim_list:\n",
    "                        for dropout in dropout_list:\n",
    "                            for wd in wd_list:\n",
    "                                for lr in lr_list:\n",
    "                                    aggr = aggr\n",
    "                                    torch.manual_seed(0)\n",
    "                                    model = GNN(heads = heads, hidden_dim=hidden_dim, dropout=dropout)\n",
    "                                    model = to_hetero(model, data.metadata(), aggr = aggr).to(device)\n",
    "                                    \n",
    "                                    hyperparameters = dict({})\n",
    "                                    hyperparameters[\"batch_size\"] = batch_size\n",
    "                                    hyperparameters[\"epochs\"] = epochs\n",
    "                                    hyperparameters[\"model\"] = model\n",
    "                                    hyperparameters[\"lr\"] = lr\n",
    "                                    hyperparameters[\"wd\"] = wd\n",
    "                                    hyperparameter_list.append(hyperparameters)\n",
    "    return hyperparameter_list\n",
    "    \n",
    "hyperparameter_list = get_hyperparamer_list(epochs_list, batch_size_list, aggr_list, heads_list, hidden_dim_list, dropout_list, wd_list, lr_list)\n",
    "best_hyperparams, best_score = find_best_model(data, hyperparameter_list, train_indices)"
   ]
  },
  {
   "cell_type": "code",
   "execution_count": null,
   "id": "a791847c-8de5-4a95-976e-25d8cfb9daff",
   "metadata": {},
   "outputs": [],
   "source": [
    "best_hyperparams, best_score"
   ]
  },
  {
   "cell_type": "code",
   "execution_count": 56,
   "id": "4ed117e4-aa50-4d2a-808b-a4cf48d03430",
   "metadata": {},
   "outputs": [
    {
     "name": "stdout",
     "output_type": "stream",
     "text": [
      "Train evaluation score before: -3.3315 training.\n",
      "['Train evaluation mse score is: 2.2501', 'Train evaluation mae score is: 1.3868', 'Train evaluation r2 score is: -3.3315', 'Train evaluation rmse score is: 1.5000']\n"
     ]
    },
    {
     "data": {
      "application/vnd.jupyter.widget-view+json": {
       "model_id": "ca0bb327bb314b39835c968c6e2d52fb",
       "version_major": 2,
       "version_minor": 0
      },
      "text/plain": [
       "  0%|          | 0/300 [00:00<?, ?it/s]"
      ]
     },
     "metadata": {},
     "output_type": "display_data"
    },
    {
     "data": {
      "image/png": "[encoded data removed]",
      "text/plain": [
       "<Figure size 640x480 with 1 Axes>"
      ]
     },
     "metadata": {},
     "output_type": "display_data"
    },
    {
     "name": "stdout",
     "output_type": "stream",
     "text": [
      "Final evaluation score is: -0.0274\n",
      "['Final evaluation mse score is: 0.5418', 'Final evaluation mae score is: 0.5166', 'Final evaluation r2 score is: -0.0274', 'Final evaluation rmse score is: 0.7360']\n",
      "Train evaluation score after: -0.0111 training.\n",
      "['Train evaluation mse score is: 0.5252', 'Train evaluation mae score is: 0.5107', 'Train evaluation r2 score is: -0.0111', 'Train evaluation rmse score is: 0.7247']\n"
     ]
    }
   ],
   "source": [
    "import matplotlib.pyplot as plt\n",
    "\n",
    "def plot_loss(loss_list):\n",
    "    plt.plot(loss_list)\n",
    "    plt.title(\"Train loss\")\n",
    "    plt.ylabel(\"Loss in MSE\")\n",
    "    plt.xlabel(\"Epochs\")\n",
    "    plt.grid()\n",
    "    plt.show()\n",
    "\n",
    "def refit(train_loader, hyperparameters):\n",
    "    model, loss_list = train_k(train_loader, hyperparameters)\n",
    "    return model, loss_list\n",
    "\n",
    "def reevaluate(model, test_loader):\n",
    "    score, sec_scores, (pred_target_values, true_target_values) = evaluate_k(model, test_loader)\n",
    "    return score, sec_scores, (pred_target_values, true_target_values)\n",
    "    \n",
    "def final_train_and_evaluate(train_loader, test_loader, hyperparameters):\n",
    "    global train_indices, test_indices\n",
    "    model, loss_list = refit(copy.deepcopy(train_loader), hyperparameters)\n",
    "    train_score_after_training, sec_train_scores, (pred_target_values, true_target_values) = reevaluate(model, copy.deepcopy(train_loader))\n",
    "    score, sec_scores, (pred_target_values, true_target_values) = reevaluate(model, test_loader)\n",
    "    \n",
    "    plot_loss(loss_list)\n",
    "    print(f\"Final evaluation score is: {format(score, '.4f')}\")\n",
    "    print([f\"Final evaluation {key} score is: {format(sec_scores[key], '.4f')}\" for key in sec_scores])\n",
    "    print(f\"Train evaluation score after: {format(train_score_after_training, '.4f')} training.\")\n",
    "    print([f\"Train evaluation {key} score is: {format(sec_train_scores[key], '.4f')}\" for key in sec_train_scores])\n",
    "    return loss_list, (pred_target_values, true_target_values)\n",
    "\n",
    "train_index = train_indices\n",
    "test_index = test_indices\n",
    "train_loader, test_loader = get_loaders(data, train_index, test_index, best_hyperparams[\"batch_size\"])\n",
    "training_score_before_training, sec_train_scores, (pred_target_values, true_target_values) = reevaluate(best_hyperparams[\"model\"], copy.deepcopy(train_loader))\n",
    "print(f\"Train evaluation score before: {format(training_score_before_training, '.4f')} training.\")\n",
    "print([f\"Train evaluation {key} score is: {format(sec_train_scores[key], '.4f')}\" for key in sec_train_scores])\n",
    "loss_list, (pred_target_values, true_target_values) = final_train_and_evaluate(train_loader, test_loader, best_hyperparams)"
   ]
  },
  {
   "cell_type": "code",
   "execution_count": 62,
   "id": "76a24662-cdf3-4a5b-b345-6ab81e78ed66",
   "metadata": {},
   "outputs": [
    {
     "data": {
      "text/html": [
       "<div>\n",
       "<style scoped>\n",
       "    .dataframe tbody tr th:only-of-type {\n",
       "        vertical-align: middle;\n",
       "    }\n",
       "\n",
       "    .dataframe tbody tr th {\n",
       "        vertical-align: top;\n",
       "    }\n",
       "\n",
       "    .dataframe thead th {\n",
       "        text-align: right;\n",
       "    }\n",
       "</style>\n",
       "<table border=\"1\" class=\"dataframe\">\n",
       "  <thead>\n",
       "    <tr style=\"text-align: right;\">\n",
       "      <th></th>\n",
       "      <th>0</th>\n",
       "    </tr>\n",
       "  </thead>\n",
       "  <tbody>\n",
       "    <tr>\n",
       "      <th>-1.288371</th>\n",
       "      <td>-1.335189</td>\n",
       "    </tr>\n",
       "    <tr>\n",
       "      <th>-2.403417</th>\n",
       "      <td>-1.365645</td>\n",
       "    </tr>\n",
       "    <tr>\n",
       "      <th>-1.203532</th>\n",
       "      <td>-0.418303</td>\n",
       "    </tr>\n",
       "    <tr>\n",
       "      <th>-1.716225</th>\n",
       "      <td>-1.233653</td>\n",
       "    </tr>\n",
       "    <tr>\n",
       "      <th>-0.846573</th>\n",
       "      <td>-1.079178</td>\n",
       "    </tr>\n",
       "    <tr>\n",
       "      <th>...</th>\n",
       "      <td>...</td>\n",
       "    </tr>\n",
       "    <tr>\n",
       "      <th>-0.681252</th>\n",
       "      <td>-1.465579</td>\n",
       "    </tr>\n",
       "    <tr>\n",
       "      <th>-2.385594</th>\n",
       "      <td>-1.486140</td>\n",
       "    </tr>\n",
       "    <tr>\n",
       "      <th>-0.569868</th>\n",
       "      <td>-1.326131</td>\n",
       "    </tr>\n",
       "    <tr>\n",
       "      <th>-1.333348</th>\n",
       "      <td>-1.139820</td>\n",
       "    </tr>\n",
       "    <tr>\n",
       "      <th>-0.985949</th>\n",
       "      <td>-1.201678</td>\n",
       "    </tr>\n",
       "  </tbody>\n",
       "</table>\n",
       "<p>100 rows × 1 columns</p>\n",
       "</div>"
      ],
      "text/plain": [
       "                  0\n",
       "-1.288371 -1.335189\n",
       "-2.403417 -1.365645\n",
       "-1.203532 -0.418303\n",
       "-1.716225 -1.233653\n",
       "-0.846573 -1.079178\n",
       "...             ...\n",
       "-0.681252 -1.465579\n",
       "-2.385594 -1.486140\n",
       "-0.569868 -1.326131\n",
       "-1.333348 -1.139820\n",
       "-0.985949 -1.201678\n",
       "\n",
       "[100 rows x 1 columns]"
      ]
     },
     "execution_count": 62,
     "metadata": {},
     "output_type": "execute_result"
    }
   ],
   "source": [
    "pd.DataFrame( pred_target_values.cpu().numpy(), true_target_values.cpu().numpy()).head(100)"
   ]
  },
  {
   "cell_type": "markdown",
   "id": "73bdc7d3-ac9f-42b6-b3b1-bcdc15816843",
   "metadata": {},
   "source": [
    "## Test for Cross validaion index translator"
   ]
  },
  {
   "cell_type": "code",
   "execution_count": 50,
   "id": "0862edff-256a-47d1-be03-1f857c9f351c",
   "metadata": {},
   "outputs": [
    {
     "name": "stdout",
     "output_type": "stream",
     "text": [
      "##############################\n",
      "tensor(True)\n",
      "##############################\n",
      "tensor(True)\n",
      "##############################\n",
      "tensor(True)\n",
      "##############################\n",
      "tensor(True)\n",
      "##############################\n",
      "tensor(True)\n"
     ]
    }
   ],
   "source": [
    "k_fold = KFold(n_splits=5)\n",
    "for (idx, val_idx) in k_fold.split(train_indices):\n",
    "    print(30*\"#\")\n",
    "    # print(train_indices[idx])\n",
    "    # print(train_indices[val_idx])\n",
    "\n",
    "    ##test\n",
    "    sorted_k_folds = torch.sort(torch.cat([train_indices[idx], train_indices[val_idx]], 0))[0]\n",
    "    sorted_all_indices = torch.sort(train_indices)[0]\n",
    "    mathing_indices = (sorted_all_indices == sorted_k_folds).sum()\n",
    "    print(mathing_indices == train_indices.shape[0])"
   ]
  },
  {
   "cell_type": "markdown",
   "id": "95c28dd7-e1c6-49d5-8677-272914b12ad4",
   "metadata": {},
   "source": [
    "## Empty GPU memory"
   ]
  },
  {
   "cell_type": "code",
   "execution_count": 166,
   "id": "71044706-08b2-47fe-b15b-1f8b3f38bc39",
   "metadata": {},
   "outputs": [],
   "source": [
    "del model, loss_fn, optim\n",
    "torch._C._cuda_clearCublasWorkspaces()\n",
    "torch._dynamo.reset()\n",
    "import gc\n",
    "gc.collect()\n",
    "torch.cuda.empty_cache()"
   ]
  },
  {
   "cell_type": "markdown",
   "id": "51da2cd6-50dd-4452-a424-420ba8855517",
   "metadata": {},
   "source": [
    "## Base model"
   ]
  },
  {
   "cell_type": "code",
   "execution_count": 150,
   "id": "9c372ef3-4f54-4350-8e42-aab34a0d85c3",
   "metadata": {},
   "outputs": [],
   "source": [
    "from sklearn.model_selection import train_test_split\n",
    "\n",
    "##TODO change to train,. test val indices form above\n",
    "X_train, X_test , y_train, y_test = train_test_split(model_and_target_features, target_labels, random_state=0)"
   ]
  },
  {
   "cell_type": "code",
   "execution_count": 169,
   "id": "57197f56-1227-4af7-a1c4-ee786473989f",
   "metadata": {},
   "outputs": [
    {
     "data": {
      "text/html": [
       "<style>#sk-container-id-4 {\n",
       "  /* Definition of color scheme common for light and dark mode */\n",
       "  --sklearn-color-text: black;\n",
       "  --sklearn-color-line: gray;\n",
       "  /* Definition of color scheme for unfitted estimators */\n",
       "  --sklearn-color-unfitted-level-0: #fff5e6;\n",
       "  --sklearn-color-unfitted-level-1: #f6e4d2;\n",
       "  --sklearn-color-unfitted-level-2: #ffe0b3;\n",
       "  --sklearn-color-unfitted-level-3: chocolate;\n",
       "  /* Definition of color scheme for fitted estimators */\n",
       "  --sklearn-color-fitted-level-0: #f0f8ff;\n",
       "  --sklearn-color-fitted-level-1: #d4ebff;\n",
       "  --sklearn-color-fitted-level-2: #b3dbfd;\n",
       "  --sklearn-color-fitted-level-3: cornflowerblue;\n",
       "\n",
       "  /* Specific color for light theme */\n",
       "  --sklearn-color-text-on-default-background: var(--sg-text-color, var(--theme-code-foreground, var(--jp-content-font-color1, black)));\n",
       "  --sklearn-color-background: var(--sg-background-color, var(--theme-background, var(--jp-layout-color0, white)));\n",
       "  --sklearn-color-border-box: var(--sg-text-color, var(--theme-code-foreground, var(--jp-content-font-color1, black)));\n",
       "  --sklearn-color-icon: #696969;\n",
       "\n",
       "  @media (prefers-color-scheme: dark) {\n",
       "    /* Redefinition of color scheme for dark theme */\n",
       "    --sklearn-color-text-on-default-background: var(--sg-text-color, var(--theme-code-foreground, var(--jp-content-font-color1, white)));\n",
       "    --sklearn-color-background: var(--sg-background-color, var(--theme-background, var(--jp-layout-color0, #111)));\n",
       "    --sklearn-color-border-box: var(--sg-text-color, var(--theme-code-foreground, var(--jp-content-font-color1, white)));\n",
       "    --sklearn-color-icon: #878787;\n",
       "  }\n",
       "}\n",
       "\n",
       "#sk-container-id-4 {\n",
       "  color: var(--sklearn-color-text);\n",
       "}\n",
       "\n",
       "#sk-container-id-4 pre {\n",
       "  padding: 0;\n",
       "}\n",
       "\n",
       "#sk-container-id-4 input.sk-hidden--visually {\n",
       "  border: 0;\n",
       "  clip: rect(1px 1px 1px 1px);\n",
       "  clip: rect(1px, 1px, 1px, 1px);\n",
       "  height: 1px;\n",
       "  margin: -1px;\n",
       "  overflow: hidden;\n",
       "  padding: 0;\n",
       "  position: absolute;\n",
       "  width: 1px;\n",
       "}\n",
       "\n",
       "#sk-container-id-4 div.sk-dashed-wrapped {\n",
       "  border: 1px dashed var(--sklearn-color-line);\n",
       "  margin: 0 0.4em 0.5em 0.4em;\n",
       "  box-sizing: border-box;\n",
       "  padding-bottom: 0.4em;\n",
       "  background-color: var(--sklearn-color-background);\n",
       "}\n",
       "\n",
       "#sk-container-id-4 div.sk-container {\n",
       "  /* jupyter's `normalize.less` sets `[hidden] { display: none; }`\n",
       "     but bootstrap.min.css set `[hidden] { display: none !important; }`\n",
       "     so we also need the `!important` here to be able to override the\n",
       "     default hidden behavior on the sphinx rendered scikit-learn.org.\n",
       "     See: https://github.com/scikit-learn/scikit-learn/issues/21755 */\n",
       "  display: inline-block !important;\n",
       "  position: relative;\n",
       "}\n",
       "\n",
       "#sk-container-id-4 div.sk-text-repr-fallback {\n",
       "  display: none;\n",
       "}\n",
       "\n",
       "div.sk-parallel-item,\n",
       "div.sk-serial,\n",
       "div.sk-item {\n",
       "  /* draw centered vertical line to link estimators */\n",
       "  background-image: linear-gradient(var(--sklearn-color-text-on-default-background), var(--sklearn-color-text-on-default-background));\n",
       "  background-size: 2px 100%;\n",
       "  background-repeat: no-repeat;\n",
       "  background-position: center center;\n",
       "}\n",
       "\n",
       "/* Parallel-specific style estimator block */\n",
       "\n",
       "#sk-container-id-4 div.sk-parallel-item::after {\n",
       "  content: \"\";\n",
       "  width: 100%;\n",
       "  border-bottom: 2px solid var(--sklearn-color-text-on-default-background);\n",
       "  flex-grow: 1;\n",
       "}\n",
       "\n",
       "#sk-container-id-4 div.sk-parallel {\n",
       "  display: flex;\n",
       "  align-items: stretch;\n",
       "  justify-content: center;\n",
       "  background-color: var(--sklearn-color-background);\n",
       "  position: relative;\n",
       "}\n",
       "\n",
       "#sk-container-id-4 div.sk-parallel-item {\n",
       "  display: flex;\n",
       "  flex-direction: column;\n",
       "}\n",
       "\n",
       "#sk-container-id-4 div.sk-parallel-item:first-child::after {\n",
       "  align-self: flex-end;\n",
       "  width: 50%;\n",
       "}\n",
       "\n",
       "#sk-container-id-4 div.sk-parallel-item:last-child::after {\n",
       "  align-self: flex-start;\n",
       "  width: 50%;\n",
       "}\n",
       "\n",
       "#sk-container-id-4 div.sk-parallel-item:only-child::after {\n",
       "  width: 0;\n",
       "}\n",
       "\n",
       "/* Serial-specific style estimator block */\n",
       "\n",
       "#sk-container-id-4 div.sk-serial {\n",
       "  display: flex;\n",
       "  flex-direction: column;\n",
       "  align-items: center;\n",
       "  background-color: var(--sklearn-color-background);\n",
       "  padding-right: 1em;\n",
       "  padding-left: 1em;\n",
       "}\n",
       "\n",
       "\n",
       "/* Toggleable style: style used for estimator/Pipeline/ColumnTransformer box that is\n",
       "clickable and can be expanded/collapsed.\n",
       "- Pipeline and ColumnTransformer use this feature and define the default style\n",
       "- Estimators will overwrite some part of the style using the `sk-estimator` class\n",
       "*/\n",
       "\n",
       "/* Pipeline and ColumnTransformer style (default) */\n",
       "\n",
       "#sk-container-id-4 div.sk-toggleable {\n",
       "  /* Default theme specific background. It is overwritten whether we have a\n",
       "  specific estimator or a Pipeline/ColumnTransformer */\n",
       "  background-color: var(--sklearn-color-background);\n",
       "}\n",
       "\n",
       "/* Toggleable label */\n",
       "#sk-container-id-4 label.sk-toggleable__label {\n",
       "  cursor: pointer;\n",
       "  display: block;\n",
       "  width: 100%;\n",
       "  margin-bottom: 0;\n",
       "  padding: 0.5em;\n",
       "  box-sizing: border-box;\n",
       "  text-align: center;\n",
       "}\n",
       "\n",
       "#sk-container-id-4 label.sk-toggleable__label-arrow:before {\n",
       "  /* Arrow on the left of the label */\n",
       "  content: \"▸\";\n",
       "  float: left;\n",
       "  margin-right: 0.25em;\n",
       "  color: var(--sklearn-color-icon);\n",
       "}\n",
       "\n",
       "#sk-container-id-4 label.sk-toggleable__label-arrow:hover:before {\n",
       "  color: var(--sklearn-color-text);\n",
       "}\n",
       "\n",
       "/* Toggleable content - dropdown */\n",
       "\n",
       "#sk-container-id-4 div.sk-toggleable__content {\n",
       "  max-height: 0;\n",
       "  max-width: 0;\n",
       "  overflow: hidden;\n",
       "  text-align: left;\n",
       "  /* unfitted */\n",
       "  background-color: var(--sklearn-color-unfitted-level-0);\n",
       "}\n",
       "\n",
       "#sk-container-id-4 div.sk-toggleable__content.fitted {\n",
       "  /* fitted */\n",
       "  background-color: var(--sklearn-color-fitted-level-0);\n",
       "}\n",
       "\n",
       "#sk-container-id-4 div.sk-toggleable__content pre {\n",
       "  margin: 0.2em;\n",
       "  border-radius: 0.25em;\n",
       "  color: var(--sklearn-color-text);\n",
       "  /* unfitted */\n",
       "  background-color: var(--sklearn-color-unfitted-level-0);\n",
       "}\n",
       "\n",
       "#sk-container-id-4 div.sk-toggleable__content.fitted pre {\n",
       "  /* unfitted */\n",
       "  background-color: var(--sklearn-color-fitted-level-0);\n",
       "}\n",
       "\n",
       "#sk-container-id-4 input.sk-toggleable__control:checked~div.sk-toggleable__content {\n",
       "  /* Expand drop-down */\n",
       "  max-height: 200px;\n",
       "  max-width: 100%;\n",
       "  overflow: auto;\n",
       "}\n",
       "\n",
       "#sk-container-id-4 input.sk-toggleable__control:checked~label.sk-toggleable__label-arrow:before {\n",
       "  content: \"▾\";\n",
       "}\n",
       "\n",
       "/* Pipeline/ColumnTransformer-specific style */\n",
       "\n",
       "#sk-container-id-4 div.sk-label input.sk-toggleable__control:checked~label.sk-toggleable__label {\n",
       "  color: var(--sklearn-color-text);\n",
       "  background-color: var(--sklearn-color-unfitted-level-2);\n",
       "}\n",
       "\n",
       "#sk-container-id-4 div.sk-label.fitted input.sk-toggleable__control:checked~label.sk-toggleable__label {\n",
       "  background-color: var(--sklearn-color-fitted-level-2);\n",
       "}\n",
       "\n",
       "/* Estimator-specific style */\n",
       "\n",
       "/* Colorize estimator box */\n",
       "#sk-container-id-4 div.sk-estimator input.sk-toggleable__control:checked~label.sk-toggleable__label {\n",
       "  /* unfitted */\n",
       "  background-color: var(--sklearn-color-unfitted-level-2);\n",
       "}\n",
       "\n",
       "#sk-container-id-4 div.sk-estimator.fitted input.sk-toggleable__control:checked~label.sk-toggleable__label {\n",
       "  /* fitted */\n",
       "  background-color: var(--sklearn-color-fitted-level-2);\n",
       "}\n",
       "\n",
       "#sk-container-id-4 div.sk-label label.sk-toggleable__label,\n",
       "#sk-container-id-4 div.sk-label label {\n",
       "  /* The background is the default theme color */\n",
       "  color: var(--sklearn-color-text-on-default-background);\n",
       "}\n",
       "\n",
       "/* On hover, darken the color of the background */\n",
       "#sk-container-id-4 div.sk-label:hover label.sk-toggleable__label {\n",
       "  color: var(--sklearn-color-text);\n",
       "  background-color: var(--sklearn-color-unfitted-level-2);\n",
       "}\n",
       "\n",
       "/* Label box, darken color on hover, fitted */\n",
       "#sk-container-id-4 div.sk-label.fitted:hover label.sk-toggleable__label.fitted {\n",
       "  color: var(--sklearn-color-text);\n",
       "  background-color: var(--sklearn-color-fitted-level-2);\n",
       "}\n",
       "\n",
       "/* Estimator label */\n",
       "\n",
       "#sk-container-id-4 div.sk-label label {\n",
       "  font-family: monospace;\n",
       "  font-weight: bold;\n",
       "  display: inline-block;\n",
       "  line-height: 1.2em;\n",
       "}\n",
       "\n",
       "#sk-container-id-4 div.sk-label-container {\n",
       "  text-align: center;\n",
       "}\n",
       "\n",
       "/* Estimator-specific */\n",
       "#sk-container-id-4 div.sk-estimator {\n",
       "  font-family: monospace;\n",
       "  border: 1px dotted var(--sklearn-color-border-box);\n",
       "  border-radius: 0.25em;\n",
       "  box-sizing: border-box;\n",
       "  margin-bottom: 0.5em;\n",
       "  /* unfitted */\n",
       "  background-color: var(--sklearn-color-unfitted-level-0);\n",
       "}\n",
       "\n",
       "#sk-container-id-4 div.sk-estimator.fitted {\n",
       "  /* fitted */\n",
       "  background-color: var(--sklearn-color-fitted-level-0);\n",
       "}\n",
       "\n",
       "/* on hover */\n",
       "#sk-container-id-4 div.sk-estimator:hover {\n",
       "  /* unfitted */\n",
       "  background-color: var(--sklearn-color-unfitted-level-2);\n",
       "}\n",
       "\n",
       "#sk-container-id-4 div.sk-estimator.fitted:hover {\n",
       "  /* fitted */\n",
       "  background-color: var(--sklearn-color-fitted-level-2);\n",
       "}\n",
       "\n",
       "/* Specification for estimator info (e.g. \"i\" and \"?\") */\n",
       "\n",
       "/* Common style for \"i\" and \"?\" */\n",
       "\n",
       ".sk-estimator-doc-link,\n",
       "a:link.sk-estimator-doc-link,\n",
       "a:visited.sk-estimator-doc-link {\n",
       "  float: right;\n",
       "  font-size: smaller;\n",
       "  line-height: 1em;\n",
       "  font-family: monospace;\n",
       "  background-color: var(--sklearn-color-background);\n",
       "  border-radius: 1em;\n",
       "  height: 1em;\n",
       "  width: 1em;\n",
       "  text-decoration: none !important;\n",
       "  margin-left: 1ex;\n",
       "  /* unfitted */\n",
       "  border: var(--sklearn-color-unfitted-level-1) 1pt solid;\n",
       "  color: var(--sklearn-color-unfitted-level-1);\n",
       "}\n",
       "\n",
       ".sk-estimator-doc-link.fitted,\n",
       "a:link.sk-estimator-doc-link.fitted,\n",
       "a:visited.sk-estimator-doc-link.fitted {\n",
       "  /* fitted */\n",
       "  border: var(--sklearn-color-fitted-level-1) 1pt solid;\n",
       "  color: var(--sklearn-color-fitted-level-1);\n",
       "}\n",
       "\n",
       "/* On hover */\n",
       "div.sk-estimator:hover .sk-estimator-doc-link:hover,\n",
       ".sk-estimator-doc-link:hover,\n",
       "div.sk-label-container:hover .sk-estimator-doc-link:hover,\n",
       ".sk-estimator-doc-link:hover {\n",
       "  /* unfitted */\n",
       "  background-color: var(--sklearn-color-unfitted-level-3);\n",
       "  color: var(--sklearn-color-background);\n",
       "  text-decoration: none;\n",
       "}\n",
       "\n",
       "div.sk-estimator.fitted:hover .sk-estimator-doc-link.fitted:hover,\n",
       ".sk-estimator-doc-link.fitted:hover,\n",
       "div.sk-label-container:hover .sk-estimator-doc-link.fitted:hover,\n",
       ".sk-estimator-doc-link.fitted:hover {\n",
       "  /* fitted */\n",
       "  background-color: var(--sklearn-color-fitted-level-3);\n",
       "  color: var(--sklearn-color-background);\n",
       "  text-decoration: none;\n",
       "}\n",
       "\n",
       "/* Span, style for the box shown on hovering the info icon */\n",
       ".sk-estimator-doc-link span {\n",
       "  display: none;\n",
       "  z-index: 9999;\n",
       "  position: relative;\n",
       "  font-weight: normal;\n",
       "  right: .2ex;\n",
       "  padding: .5ex;\n",
       "  margin: .5ex;\n",
       "  width: min-content;\n",
       "  min-width: 20ex;\n",
       "  max-width: 50ex;\n",
       "  color: var(--sklearn-color-text);\n",
       "  box-shadow: 2pt 2pt 4pt #999;\n",
       "  /* unfitted */\n",
       "  background: var(--sklearn-color-unfitted-level-0);\n",
       "  border: .5pt solid var(--sklearn-color-unfitted-level-3);\n",
       "}\n",
       "\n",
       ".sk-estimator-doc-link.fitted span {\n",
       "  /* fitted */\n",
       "  background: var(--sklearn-color-fitted-level-0);\n",
       "  border: var(--sklearn-color-fitted-level-3);\n",
       "}\n",
       "\n",
       ".sk-estimator-doc-link:hover span {\n",
       "  display: block;\n",
       "}\n",
       "\n",
       "/* \"?\"-specific style due to the `<a>` HTML tag */\n",
       "\n",
       "#sk-container-id-4 a.estimator_doc_link {\n",
       "  float: right;\n",
       "  font-size: 1rem;\n",
       "  line-height: 1em;\n",
       "  font-family: monospace;\n",
       "  background-color: var(--sklearn-color-background);\n",
       "  border-radius: 1rem;\n",
       "  height: 1rem;\n",
       "  width: 1rem;\n",
       "  text-decoration: none;\n",
       "  /* unfitted */\n",
       "  color: var(--sklearn-color-unfitted-level-1);\n",
       "  border: var(--sklearn-color-unfitted-level-1) 1pt solid;\n",
       "}\n",
       "\n",
       "#sk-container-id-4 a.estimator_doc_link.fitted {\n",
       "  /* fitted */\n",
       "  border: var(--sklearn-color-fitted-level-1) 1pt solid;\n",
       "  color: var(--sklearn-color-fitted-level-1);\n",
       "}\n",
       "\n",
       "/* On hover */\n",
       "#sk-container-id-4 a.estimator_doc_link:hover {\n",
       "  /* unfitted */\n",
       "  background-color: var(--sklearn-color-unfitted-level-3);\n",
       "  color: var(--sklearn-color-background);\n",
       "  text-decoration: none;\n",
       "}\n",
       "\n",
       "#sk-container-id-4 a.estimator_doc_link.fitted:hover {\n",
       "  /* fitted */\n",
       "  background-color: var(--sklearn-color-fitted-level-3);\n",
       "}\n",
       "</style><div id=\"sk-container-id-4\" class=\"sk-top-container\"><div class=\"sk-text-repr-fallback\"><pre>LinearRegression()</pre><b>In a Jupyter environment, please rerun this cell to show the HTML representation or trust the notebook. <br />On GitHub, the HTML representation is unable to render, please try loading this page with nbviewer.org.</b></div><div class=\"sk-container\" hidden><div class=\"sk-item\"><div class=\"sk-estimator fitted sk-toggleable\"><input class=\"sk-toggleable__control sk-hidden--visually\" id=\"sk-estimator-id-4\" type=\"checkbox\" checked><label for=\"sk-estimator-id-4\" class=\"sk-toggleable__label fitted sk-toggleable__label-arrow fitted\">&nbsp;&nbsp;LinearRegression<a class=\"sk-estimator-doc-link fitted\" rel=\"noreferrer\" target=\"_blank\" href=\"https://scikit-learn.org/1.4/modules/generated/sklearn.linear_model.LinearRegression.html\">?<span>Documentation for LinearRegression</span></a><span class=\"sk-estimator-doc-link fitted\">i<span>Fitted</span></span></label><div class=\"sk-toggleable__content fitted\"><pre>LinearRegression()</pre></div> </div></div></div></div>"
      ],
      "text/plain": [
       "LinearRegression()"
      ]
     },
     "execution_count": 169,
     "metadata": {},
     "output_type": "execute_result"
    }
   ],
   "source": [
    "from xgboost import XGBRegressor\n",
    "from sklearn.linear_model import LinearRegression\n",
    "\n",
    "base_model = LinearRegression()\n",
    "base_model.fit(X_train, y_train)"
   ]
  },
  {
   "cell_type": "code",
   "execution_count": 170,
   "id": "9d6d301c-7e81-4eaa-adf3-df049be58a64",
   "metadata": {},
   "outputs": [
    {
     "data": {
      "text/plain": [
       "{'train_rmse': 0.6919253394953986,\n",
       " 'test_rmse': 0.7200918817013288,\n",
       " 'test_r2': 0.016626159636192517}"
      ]
     },
     "execution_count": 170,
     "metadata": {},
     "output_type": "execute_result"
    }
   ],
   "source": [
    "from sklearn.metrics import root_mean_squared_error, r2_score\n",
    "{\n",
    "    \"train_rmse\":root_mean_squared_error(y_train, base_model.predict(X_train)),\n",
    "    \"test_rmse\": root_mean_squared_error(y_test, base_model.predict(X_test)),\n",
    "    \"test_r2\":r2_score(y_test, base_model.predict(X_test))\n",
    "}"
   ]
  },
  {
   "cell_type": "markdown",
   "id": "e463cb08-96db-4a77-800c-fb61129bb8b8",
   "metadata": {},
   "source": [
    "## Old code"
   ]
  },
  {
   "cell_type": "code",
   "execution_count": null,
   "id": "46b6248f-3983-4aaf-90d3-838a7979aa8b",
   "metadata": {},
   "outputs": [],
   "source": [
    "raise Exception(\"Keep cell outputs here\")"
   ]
  },
  {
   "cell_type": "code",
   "execution_count": 133,
   "id": "06462886-a61d-42f9-9286-47262e1e80e1",
   "metadata": {},
   "outputs": [
    {
     "data": {
      "text/html": [
       "<div>\n",
       "<style scoped>\n",
       "    .dataframe tbody tr th:only-of-type {\n",
       "        vertical-align: middle;\n",
       "    }\n",
       "\n",
       "    .dataframe tbody tr th {\n",
       "        vertical-align: top;\n",
       "    }\n",
       "\n",
       "    .dataframe thead th {\n",
       "        text-align: right;\n",
       "    }\n",
       "</style>\n",
       "<table border=\"1\" class=\"dataframe\">\n",
       "  <thead>\n",
       "    <tr style=\"text-align: right;\">\n",
       "      <th></th>\n",
       "      <th>DATASET</th>\n",
       "      <th>NLME_RESULT_ID</th>\n",
       "      <th>NLME_CURVE_ID</th>\n",
       "      <th>COSMIC_ID</th>\n",
       "      <th>CELL_LINE_NAME</th>\n",
       "      <th>SANGER_MODEL_ID</th>\n",
       "      <th>TCGA_DESC</th>\n",
       "      <th>DRUG_ID</th>\n",
       "      <th>DRUG_NAME</th>\n",
       "      <th>PUTATIVE_TARGET</th>\n",
       "      <th>...</th>\n",
       "      <th>2175</th>\n",
       "      <th>2177</th>\n",
       "      <th>2359</th>\n",
       "      <th>2360</th>\n",
       "      <th>2361</th>\n",
       "      <th>2362</th>\n",
       "      <th>2438</th>\n",
       "      <th>2439</th>\n",
       "      <th>2498</th>\n",
       "      <th>2499</th>\n",
       "    </tr>\n",
       "  </thead>\n",
       "  <tbody>\n",
       "    <tr>\n",
       "      <th>0</th>\n",
       "      <td>GDSC2</td>\n",
       "      <td>401</td>\n",
       "      <td>18945558</td>\n",
       "      <td>683667</td>\n",
       "      <td>PFSK-1</td>\n",
       "      <td>SIDM01132</td>\n",
       "      <td>MB</td>\n",
       "      <td>1003</td>\n",
       "      <td>Camptothecin</td>\n",
       "      <td>TOP1</td>\n",
       "      <td>...</td>\n",
       "      <td>NaN</td>\n",
       "      <td>2.366388</td>\n",
       "      <td>NaN</td>\n",
       "      <td>NaN</td>\n",
       "      <td>NaN</td>\n",
       "      <td>NaN</td>\n",
       "      <td>NaN</td>\n",
       "      <td>NaN</td>\n",
       "      <td>7.846626</td>\n",
       "      <td>10.613759</td>\n",
       "    </tr>\n",
       "    <tr>\n",
       "      <th>1</th>\n",
       "      <td>GDSC2</td>\n",
       "      <td>401</td>\n",
       "      <td>18945796</td>\n",
       "      <td>684052</td>\n",
       "      <td>A673</td>\n",
       "      <td>SIDM00848</td>\n",
       "      <td>UNCLASSIFIED</td>\n",
       "      <td>1003</td>\n",
       "      <td>Camptothecin</td>\n",
       "      <td>TOP1</td>\n",
       "      <td>...</td>\n",
       "      <td>NaN</td>\n",
       "      <td>1.723942</td>\n",
       "      <td>5.240599</td>\n",
       "      <td>4.432934</td>\n",
       "      <td>4.716167</td>\n",
       "      <td>4.285911</td>\n",
       "      <td>7.793623</td>\n",
       "      <td>9.156372</td>\n",
       "      <td>7.568813</td>\n",
       "      <td>7.063871</td>\n",
       "    </tr>\n",
       "    <tr>\n",
       "      <th>2</th>\n",
       "      <td>GDSC2</td>\n",
       "      <td>401</td>\n",
       "      <td>18946078</td>\n",
       "      <td>684057</td>\n",
       "      <td>ES5</td>\n",
       "      <td>SIDM00263</td>\n",
       "      <td>UNCLASSIFIED</td>\n",
       "      <td>1003</td>\n",
       "      <td>Camptothecin</td>\n",
       "      <td>TOP1</td>\n",
       "      <td>...</td>\n",
       "      <td>4.879849</td>\n",
       "      <td>1.901766</td>\n",
       "      <td>NaN</td>\n",
       "      <td>NaN</td>\n",
       "      <td>NaN</td>\n",
       "      <td>NaN</td>\n",
       "      <td>NaN</td>\n",
       "      <td>NaN</td>\n",
       "      <td>NaN</td>\n",
       "      <td>NaN</td>\n",
       "    </tr>\n",
       "    <tr>\n",
       "      <th>3</th>\n",
       "      <td>GDSC2</td>\n",
       "      <td>401</td>\n",
       "      <td>18946335</td>\n",
       "      <td>684059</td>\n",
       "      <td>ES7</td>\n",
       "      <td>SIDM00269</td>\n",
       "      <td>UNCLASSIFIED</td>\n",
       "      <td>1003</td>\n",
       "      <td>Camptothecin</td>\n",
       "      <td>TOP1</td>\n",
       "      <td>...</td>\n",
       "      <td>NaN</td>\n",
       "      <td>2.133421</td>\n",
       "      <td>4.578782</td>\n",
       "      <td>3.893851</td>\n",
       "      <td>3.137208</td>\n",
       "      <td>2.719145</td>\n",
       "      <td>8.871504</td>\n",
       "      <td>9.302207</td>\n",
       "      <td>6.655762</td>\n",
       "      <td>9.441838</td>\n",
       "    </tr>\n",
       "    <tr>\n",
       "      <th>4</th>\n",
       "      <td>GDSC2</td>\n",
       "      <td>401</td>\n",
       "      <td>18946617</td>\n",
       "      <td>684062</td>\n",
       "      <td>EW-11</td>\n",
       "      <td>SIDM00203</td>\n",
       "      <td>UNCLASSIFIED</td>\n",
       "      <td>1003</td>\n",
       "      <td>Camptothecin</td>\n",
       "      <td>TOP1</td>\n",
       "      <td>...</td>\n",
       "      <td>NaN</td>\n",
       "      <td>1.880307</td>\n",
       "      <td>5.137711</td>\n",
       "      <td>4.863771</td>\n",
       "      <td>5.007426</td>\n",
       "      <td>5.389040</td>\n",
       "      <td>10.462131</td>\n",
       "      <td>9.801610</td>\n",
       "      <td>8.228663</td>\n",
       "      <td>10.817398</td>\n",
       "    </tr>\n",
       "    <tr>\n",
       "      <th>...</th>\n",
       "      <td>...</td>\n",
       "      <td>...</td>\n",
       "      <td>...</td>\n",
       "      <td>...</td>\n",
       "      <td>...</td>\n",
       "      <td>...</td>\n",
       "      <td>...</td>\n",
       "      <td>...</td>\n",
       "      <td>...</td>\n",
       "      <td>...</td>\n",
       "      <td>...</td>\n",
       "      <td>...</td>\n",
       "      <td>...</td>\n",
       "      <td>...</td>\n",
       "      <td>...</td>\n",
       "      <td>...</td>\n",
       "      <td>...</td>\n",
       "      <td>...</td>\n",
       "      <td>...</td>\n",
       "      <td>...</td>\n",
       "      <td>...</td>\n",
       "    </tr>\n",
       "    <tr>\n",
       "      <th>242031</th>\n",
       "      <td>GDSC2</td>\n",
       "      <td>401</td>\n",
       "      <td>19187490</td>\n",
       "      <td>1659928</td>\n",
       "      <td>SNU-175</td>\n",
       "      <td>SIDM00216</td>\n",
       "      <td>COREAD</td>\n",
       "      <td>2499</td>\n",
       "      <td>N-acetyl cysteine</td>\n",
       "      <td>Metabolism</td>\n",
       "      <td>...</td>\n",
       "      <td>NaN</td>\n",
       "      <td>1.310061</td>\n",
       "      <td>5.423870</td>\n",
       "      <td>5.397164</td>\n",
       "      <td>5.401524</td>\n",
       "      <td>4.973343</td>\n",
       "      <td>9.264933</td>\n",
       "      <td>9.211173</td>\n",
       "      <td>7.445385</td>\n",
       "      <td>10.134495</td>\n",
       "    </tr>\n",
       "    <tr>\n",
       "      <th>242032</th>\n",
       "      <td>GDSC2</td>\n",
       "      <td>401</td>\n",
       "      <td>19187943</td>\n",
       "      <td>1660034</td>\n",
       "      <td>SNU-407</td>\n",
       "      <td>SIDM00214</td>\n",
       "      <td>COREAD</td>\n",
       "      <td>2499</td>\n",
       "      <td>N-acetyl cysteine</td>\n",
       "      <td>Metabolism</td>\n",
       "      <td>...</td>\n",
       "      <td>NaN</td>\n",
       "      <td>2.628609</td>\n",
       "      <td>5.042005</td>\n",
       "      <td>5.055076</td>\n",
       "      <td>4.918666</td>\n",
       "      <td>4.122141</td>\n",
       "      <td>11.121460</td>\n",
       "      <td>9.528520</td>\n",
       "      <td>8.344004</td>\n",
       "      <td>8.575555</td>\n",
       "    </tr>\n",
       "    <tr>\n",
       "      <th>242033</th>\n",
       "      <td>GDSC2</td>\n",
       "      <td>401</td>\n",
       "      <td>19188201</td>\n",
       "      <td>1660035</td>\n",
       "      <td>SNU-61</td>\n",
       "      <td>SIDM00194</td>\n",
       "      <td>COREAD</td>\n",
       "      <td>2499</td>\n",
       "      <td>N-acetyl cysteine</td>\n",
       "      <td>Metabolism</td>\n",
       "      <td>...</td>\n",
       "      <td>NaN</td>\n",
       "      <td>2.866949</td>\n",
       "      <td>6.130028</td>\n",
       "      <td>5.649833</td>\n",
       "      <td>4.392357</td>\n",
       "      <td>4.382946</td>\n",
       "      <td>10.879932</td>\n",
       "      <td>10.092187</td>\n",
       "      <td>7.743591</td>\n",
       "      <td>10.520666</td>\n",
       "    </tr>\n",
       "    <tr>\n",
       "      <th>242034</th>\n",
       "      <td>GDSC2</td>\n",
       "      <td>401</td>\n",
       "      <td>19188741</td>\n",
       "      <td>1674021</td>\n",
       "      <td>SNU-C5</td>\n",
       "      <td>SIDM00498</td>\n",
       "      <td>COREAD</td>\n",
       "      <td>2499</td>\n",
       "      <td>N-acetyl cysteine</td>\n",
       "      <td>Metabolism</td>\n",
       "      <td>...</td>\n",
       "      <td>NaN</td>\n",
       "      <td>2.653533</td>\n",
       "      <td>6.151265</td>\n",
       "      <td>6.022426</td>\n",
       "      <td>5.661197</td>\n",
       "      <td>4.820414</td>\n",
       "      <td>9.652950</td>\n",
       "      <td>10.181355</td>\n",
       "      <td>7.305220</td>\n",
       "      <td>10.701430</td>\n",
       "    </tr>\n",
       "    <tr>\n",
       "      <th>242035</th>\n",
       "      <td>GDSC2</td>\n",
       "      <td>401</td>\n",
       "      <td>19189023</td>\n",
       "      <td>1789883</td>\n",
       "      <td>DiFi</td>\n",
       "      <td>SIDM00049</td>\n",
       "      <td>COREAD</td>\n",
       "      <td>2499</td>\n",
       "      <td>N-acetyl cysteine</td>\n",
       "      <td>Metabolism</td>\n",
       "      <td>...</td>\n",
       "      <td>NaN</td>\n",
       "      <td>1.537148</td>\n",
       "      <td>5.757955</td>\n",
       "      <td>5.714278</td>\n",
       "      <td>5.576271</td>\n",
       "      <td>5.645880</td>\n",
       "      <td>10.544895</td>\n",
       "      <td>9.265865</td>\n",
       "      <td>8.275000</td>\n",
       "      <td>10.038769</td>\n",
       "    </tr>\n",
       "  </tbody>\n",
       "</table>\n",
       "<p>242036 rows × 314 columns</p>\n",
       "</div>"
      ],
      "text/plain": [
       "       DATASET  NLME_RESULT_ID  NLME_CURVE_ID  COSMIC_ID CELL_LINE_NAME  \\\n",
       "0        GDSC2             401       18945558     683667         PFSK-1   \n",
       "1        GDSC2             401       18945796     684052           A673   \n",
       "2        GDSC2             401       18946078     684057            ES5   \n",
       "3        GDSC2             401       18946335     684059            ES7   \n",
       "4        GDSC2             401       18946617     684062          EW-11   \n",
       "...        ...             ...            ...        ...            ...   \n",
       "242031   GDSC2             401       19187490    1659928        SNU-175   \n",
       "242032   GDSC2             401       19187943    1660034        SNU-407   \n",
       "242033   GDSC2             401       19188201    1660035         SNU-61   \n",
       "242034   GDSC2             401       19188741    1674021         SNU-C5   \n",
       "242035   GDSC2             401       19189023    1789883           DiFi   \n",
       "\n",
       "       SANGER_MODEL_ID     TCGA_DESC  DRUG_ID          DRUG_NAME  \\\n",
       "0            SIDM01132            MB     1003       Camptothecin   \n",
       "1            SIDM00848  UNCLASSIFIED     1003       Camptothecin   \n",
       "2            SIDM00263  UNCLASSIFIED     1003       Camptothecin   \n",
       "3            SIDM00269  UNCLASSIFIED     1003       Camptothecin   \n",
       "4            SIDM00203  UNCLASSIFIED     1003       Camptothecin   \n",
       "...                ...           ...      ...                ...   \n",
       "242031       SIDM00216        COREAD     2499  N-acetyl cysteine   \n",
       "242032       SIDM00214        COREAD     2499  N-acetyl cysteine   \n",
       "242033       SIDM00194        COREAD     2499  N-acetyl cysteine   \n",
       "242034       SIDM00498        COREAD     2499  N-acetyl cysteine   \n",
       "242035       SIDM00049        COREAD     2499  N-acetyl cysteine   \n",
       "\n",
       "       PUTATIVE_TARGET  ...      2175      2177      2359      2360      2361  \\\n",
       "0                 TOP1  ...       NaN  2.366388       NaN       NaN       NaN   \n",
       "1                 TOP1  ...       NaN  1.723942  5.240599  4.432934  4.716167   \n",
       "2                 TOP1  ...  4.879849  1.901766       NaN       NaN       NaN   \n",
       "3                 TOP1  ...       NaN  2.133421  4.578782  3.893851  3.137208   \n",
       "4                 TOP1  ...       NaN  1.880307  5.137711  4.863771  5.007426   \n",
       "...                ...  ...       ...       ...       ...       ...       ...   \n",
       "242031      Metabolism  ...       NaN  1.310061  5.423870  5.397164  5.401524   \n",
       "242032      Metabolism  ...       NaN  2.628609  5.042005  5.055076  4.918666   \n",
       "242033      Metabolism  ...       NaN  2.866949  6.130028  5.649833  4.392357   \n",
       "242034      Metabolism  ...       NaN  2.653533  6.151265  6.022426  5.661197   \n",
       "242035      Metabolism  ...       NaN  1.537148  5.757955  5.714278  5.576271   \n",
       "\n",
       "            2362       2438       2439      2498       2499  \n",
       "0            NaN        NaN        NaN  7.846626  10.613759  \n",
       "1       4.285911   7.793623   9.156372  7.568813   7.063871  \n",
       "2            NaN        NaN        NaN       NaN        NaN  \n",
       "3       2.719145   8.871504   9.302207  6.655762   9.441838  \n",
       "4       5.389040  10.462131   9.801610  8.228663  10.817398  \n",
       "...          ...        ...        ...       ...        ...  \n",
       "242031  4.973343   9.264933   9.211173  7.445385  10.134495  \n",
       "242032  4.122141  11.121460   9.528520  8.344004   8.575555  \n",
       "242033  4.382946  10.879932  10.092187  7.743591  10.520666  \n",
       "242034  4.820414   9.652950  10.181355  7.305220  10.701430  \n",
       "242035  5.645880  10.544895   9.265865  8.275000  10.038769  \n",
       "\n",
       "[242036 rows x 314 columns]"
      ]
     },
     "execution_count": 133,
     "metadata": {},
     "output_type": "execute_result"
    }
   ],
   "source": [
    "# pivot_targets = pd.pivot_table(targets, values=\"LN_IC50\", index=[\"SANGER_MODEL_ID\"],\n",
    "#                        columns=['DRUG_ID'])\n",
    "\n",
    "# pd.merge(targets.loc[:, [\"SANGER_MODEL_ID\",'PUTATIVE_TARGET', 'PATHWAY_NAME', 'MIN_CONC', 'MAX_CONC']], pivot_targets, on=[\"SANGER_MODEL_ID\",\"SANGER_MODEL_ID\"])"
   ]
  },
  {
   "cell_type": "code",
   "execution_count": 79,
   "id": "6b7bc938-68ed-4f07-8e88-4124ed0a26f2",
   "metadata": {},
   "outputs": [
    {
     "data": {
      "text/html": [
       "<div>\n",
       "<style scoped>\n",
       "    .dataframe tbody tr th:only-of-type {\n",
       "        vertical-align: middle;\n",
       "    }\n",
       "\n",
       "    .dataframe tbody tr th {\n",
       "        vertical-align: top;\n",
       "    }\n",
       "\n",
       "    .dataframe thead th {\n",
       "        text-align: right;\n",
       "    }\n",
       "</style>\n",
       "<table border=\"1\" class=\"dataframe\">\n",
       "  <thead>\n",
       "    <tr style=\"text-align: right;\">\n",
       "      <th>DRUG_ID</th>\n",
       "      <th>1003</th>\n",
       "      <th>1004</th>\n",
       "      <th>1005</th>\n",
       "      <th>1006</th>\n",
       "      <th>1007</th>\n",
       "      <th>1008</th>\n",
       "      <th>1009</th>\n",
       "      <th>1010</th>\n",
       "      <th>1011</th>\n",
       "      <th>1012</th>\n",
       "      <th>...</th>\n",
       "      <th>2175</th>\n",
       "      <th>2177</th>\n",
       "      <th>2359</th>\n",
       "      <th>2360</th>\n",
       "      <th>2361</th>\n",
       "      <th>2362</th>\n",
       "      <th>2438</th>\n",
       "      <th>2439</th>\n",
       "      <th>2498</th>\n",
       "      <th>2499</th>\n",
       "    </tr>\n",
       "    <tr>\n",
       "      <th>SANGER_MODEL_ID</th>\n",
       "      <th></th>\n",
       "      <th></th>\n",
       "      <th></th>\n",
       "      <th></th>\n",
       "      <th></th>\n",
       "      <th></th>\n",
       "      <th></th>\n",
       "      <th></th>\n",
       "      <th></th>\n",
       "      <th></th>\n",
       "      <th></th>\n",
       "      <th></th>\n",
       "      <th></th>\n",
       "      <th></th>\n",
       "      <th></th>\n",
       "      <th></th>\n",
       "      <th></th>\n",
       "      <th></th>\n",
       "      <th></th>\n",
       "      <th></th>\n",
       "      <th></th>\n",
       "    </tr>\n",
       "  </thead>\n",
       "  <tbody>\n",
       "    <tr>\n",
       "      <th>SIDM00003</th>\n",
       "      <td>True</td>\n",
       "      <td>True</td>\n",
       "      <td>True</td>\n",
       "      <td>True</td>\n",
       "      <td>True</td>\n",
       "      <td>False</td>\n",
       "      <td>False</td>\n",
       "      <td>True</td>\n",
       "      <td>True</td>\n",
       "      <td>True</td>\n",
       "      <td>...</td>\n",
       "      <td>False</td>\n",
       "      <td>False</td>\n",
       "      <td>False</td>\n",
       "      <td>False</td>\n",
       "      <td>False</td>\n",
       "      <td>False</td>\n",
       "      <td>False</td>\n",
       "      <td>False</td>\n",
       "      <td>False</td>\n",
       "      <td>False</td>\n",
       "    </tr>\n",
       "    <tr>\n",
       "      <th>SIDM00023</th>\n",
       "      <td>True</td>\n",
       "      <td>False</td>\n",
       "      <td>False</td>\n",
       "      <td>False</td>\n",
       "      <td>True</td>\n",
       "      <td>True</td>\n",
       "      <td>True</td>\n",
       "      <td>True</td>\n",
       "      <td>True</td>\n",
       "      <td>True</td>\n",
       "      <td>...</td>\n",
       "      <td>True</td>\n",
       "      <td>True</td>\n",
       "      <td>False</td>\n",
       "      <td>False</td>\n",
       "      <td>False</td>\n",
       "      <td>False</td>\n",
       "      <td>False</td>\n",
       "      <td>False</td>\n",
       "      <td>False</td>\n",
       "      <td>False</td>\n",
       "    </tr>\n",
       "    <tr>\n",
       "      <th>SIDM00040</th>\n",
       "      <td>True</td>\n",
       "      <td>False</td>\n",
       "      <td>False</td>\n",
       "      <td>False</td>\n",
       "      <td>True</td>\n",
       "      <td>True</td>\n",
       "      <td>True</td>\n",
       "      <td>True</td>\n",
       "      <td>True</td>\n",
       "      <td>True</td>\n",
       "      <td>...</td>\n",
       "      <td>True</td>\n",
       "      <td>True</td>\n",
       "      <td>False</td>\n",
       "      <td>False</td>\n",
       "      <td>False</td>\n",
       "      <td>False</td>\n",
       "      <td>False</td>\n",
       "      <td>False</td>\n",
       "      <td>False</td>\n",
       "      <td>False</td>\n",
       "    </tr>\n",
       "    <tr>\n",
       "      <th>SIDM00041</th>\n",
       "      <td>True</td>\n",
       "      <td>False</td>\n",
       "      <td>False</td>\n",
       "      <td>False</td>\n",
       "      <td>True</td>\n",
       "      <td>True</td>\n",
       "      <td>True</td>\n",
       "      <td>True</td>\n",
       "      <td>True</td>\n",
       "      <td>True</td>\n",
       "      <td>...</td>\n",
       "      <td>True</td>\n",
       "      <td>True</td>\n",
       "      <td>False</td>\n",
       "      <td>False</td>\n",
       "      <td>False</td>\n",
       "      <td>False</td>\n",
       "      <td>False</td>\n",
       "      <td>False</td>\n",
       "      <td>False</td>\n",
       "      <td>False</td>\n",
       "    </tr>\n",
       "    <tr>\n",
       "      <th>SIDM00042</th>\n",
       "      <td>True</td>\n",
       "      <td>True</td>\n",
       "      <td>True</td>\n",
       "      <td>True</td>\n",
       "      <td>True</td>\n",
       "      <td>True</td>\n",
       "      <td>False</td>\n",
       "      <td>True</td>\n",
       "      <td>True</td>\n",
       "      <td>True</td>\n",
       "      <td>...</td>\n",
       "      <td>False</td>\n",
       "      <td>True</td>\n",
       "      <td>True</td>\n",
       "      <td>True</td>\n",
       "      <td>True</td>\n",
       "      <td>True</td>\n",
       "      <td>True</td>\n",
       "      <td>True</td>\n",
       "      <td>True</td>\n",
       "      <td>True</td>\n",
       "    </tr>\n",
       "    <tr>\n",
       "      <th>...</th>\n",
       "      <td>...</td>\n",
       "      <td>...</td>\n",
       "      <td>...</td>\n",
       "      <td>...</td>\n",
       "      <td>...</td>\n",
       "      <td>...</td>\n",
       "      <td>...</td>\n",
       "      <td>...</td>\n",
       "      <td>...</td>\n",
       "      <td>...</td>\n",
       "      <td>...</td>\n",
       "      <td>...</td>\n",
       "      <td>...</td>\n",
       "      <td>...</td>\n",
       "      <td>...</td>\n",
       "      <td>...</td>\n",
       "      <td>...</td>\n",
       "      <td>...</td>\n",
       "      <td>...</td>\n",
       "      <td>...</td>\n",
       "      <td>...</td>\n",
       "    </tr>\n",
       "    <tr>\n",
       "      <th>SIDM01248</th>\n",
       "      <td>True</td>\n",
       "      <td>True</td>\n",
       "      <td>True</td>\n",
       "      <td>True</td>\n",
       "      <td>True</td>\n",
       "      <td>True</td>\n",
       "      <td>False</td>\n",
       "      <td>True</td>\n",
       "      <td>True</td>\n",
       "      <td>True</td>\n",
       "      <td>...</td>\n",
       "      <td>False</td>\n",
       "      <td>True</td>\n",
       "      <td>True</td>\n",
       "      <td>True</td>\n",
       "      <td>True</td>\n",
       "      <td>True</td>\n",
       "      <td>True</td>\n",
       "      <td>True</td>\n",
       "      <td>True</td>\n",
       "      <td>True</td>\n",
       "    </tr>\n",
       "    <tr>\n",
       "      <th>SIDM01251</th>\n",
       "      <td>True</td>\n",
       "      <td>True</td>\n",
       "      <td>True</td>\n",
       "      <td>True</td>\n",
       "      <td>True</td>\n",
       "      <td>False</td>\n",
       "      <td>False</td>\n",
       "      <td>True</td>\n",
       "      <td>True</td>\n",
       "      <td>True</td>\n",
       "      <td>...</td>\n",
       "      <td>False</td>\n",
       "      <td>True</td>\n",
       "      <td>True</td>\n",
       "      <td>True</td>\n",
       "      <td>True</td>\n",
       "      <td>True</td>\n",
       "      <td>True</td>\n",
       "      <td>True</td>\n",
       "      <td>True</td>\n",
       "      <td>True</td>\n",
       "    </tr>\n",
       "    <tr>\n",
       "      <th>SIDM01259</th>\n",
       "      <td>True</td>\n",
       "      <td>True</td>\n",
       "      <td>True</td>\n",
       "      <td>True</td>\n",
       "      <td>True</td>\n",
       "      <td>True</td>\n",
       "      <td>False</td>\n",
       "      <td>True</td>\n",
       "      <td>True</td>\n",
       "      <td>True</td>\n",
       "      <td>...</td>\n",
       "      <td>False</td>\n",
       "      <td>True</td>\n",
       "      <td>True</td>\n",
       "      <td>True</td>\n",
       "      <td>True</td>\n",
       "      <td>True</td>\n",
       "      <td>True</td>\n",
       "      <td>True</td>\n",
       "      <td>True</td>\n",
       "      <td>True</td>\n",
       "    </tr>\n",
       "    <tr>\n",
       "      <th>SIDM01261</th>\n",
       "      <td>True</td>\n",
       "      <td>False</td>\n",
       "      <td>False</td>\n",
       "      <td>False</td>\n",
       "      <td>True</td>\n",
       "      <td>True</td>\n",
       "      <td>True</td>\n",
       "      <td>True</td>\n",
       "      <td>True</td>\n",
       "      <td>True</td>\n",
       "      <td>...</td>\n",
       "      <td>True</td>\n",
       "      <td>True</td>\n",
       "      <td>False</td>\n",
       "      <td>False</td>\n",
       "      <td>False</td>\n",
       "      <td>False</td>\n",
       "      <td>False</td>\n",
       "      <td>False</td>\n",
       "      <td>False</td>\n",
       "      <td>False</td>\n",
       "    </tr>\n",
       "    <tr>\n",
       "      <th>SIDM01265</th>\n",
       "      <td>True</td>\n",
       "      <td>True</td>\n",
       "      <td>True</td>\n",
       "      <td>True</td>\n",
       "      <td>True</td>\n",
       "      <td>True</td>\n",
       "      <td>False</td>\n",
       "      <td>True</td>\n",
       "      <td>True</td>\n",
       "      <td>True</td>\n",
       "      <td>...</td>\n",
       "      <td>False</td>\n",
       "      <td>True</td>\n",
       "      <td>True</td>\n",
       "      <td>True</td>\n",
       "      <td>True</td>\n",
       "      <td>True</td>\n",
       "      <td>True</td>\n",
       "      <td>True</td>\n",
       "      <td>True</td>\n",
       "      <td>True</td>\n",
       "    </tr>\n",
       "  </tbody>\n",
       "</table>\n",
       "<p>969 rows × 295 columns</p>\n",
       "</div>"
      ],
      "text/plain": [
       "DRUG_ID          1003   1004   1005   1006  1007   1008   1009  1010  1011  \\\n",
       "SANGER_MODEL_ID                                                              \n",
       "SIDM00003        True   True   True   True  True  False  False  True  True   \n",
       "SIDM00023        True  False  False  False  True   True   True  True  True   \n",
       "SIDM00040        True  False  False  False  True   True   True  True  True   \n",
       "SIDM00041        True  False  False  False  True   True   True  True  True   \n",
       "SIDM00042        True   True   True   True  True   True  False  True  True   \n",
       "...               ...    ...    ...    ...   ...    ...    ...   ...   ...   \n",
       "SIDM01248        True   True   True   True  True   True  False  True  True   \n",
       "SIDM01251        True   True   True   True  True  False  False  True  True   \n",
       "SIDM01259        True   True   True   True  True   True  False  True  True   \n",
       "SIDM01261        True  False  False  False  True   True   True  True  True   \n",
       "SIDM01265        True   True   True   True  True   True  False  True  True   \n",
       "\n",
       "DRUG_ID          1012  ...   2175   2177   2359   2360   2361   2362   2438  \\\n",
       "SANGER_MODEL_ID        ...                                                    \n",
       "SIDM00003        True  ...  False  False  False  False  False  False  False   \n",
       "SIDM00023        True  ...   True   True  False  False  False  False  False   \n",
       "SIDM00040        True  ...   True   True  False  False  False  False  False   \n",
       "SIDM00041        True  ...   True   True  False  False  False  False  False   \n",
       "SIDM00042        True  ...  False   True   True   True   True   True   True   \n",
       "...               ...  ...    ...    ...    ...    ...    ...    ...    ...   \n",
       "SIDM01248        True  ...  False   True   True   True   True   True   True   \n",
       "SIDM01251        True  ...  False   True   True   True   True   True   True   \n",
       "SIDM01259        True  ...  False   True   True   True   True   True   True   \n",
       "SIDM01261        True  ...   True   True  False  False  False  False  False   \n",
       "SIDM01265        True  ...  False   True   True   True   True   True   True   \n",
       "\n",
       "DRUG_ID           2439   2498   2499  \n",
       "SANGER_MODEL_ID                       \n",
       "SIDM00003        False  False  False  \n",
       "SIDM00023        False  False  False  \n",
       "SIDM00040        False  False  False  \n",
       "SIDM00041        False  False  False  \n",
       "SIDM00042         True   True   True  \n",
       "...                ...    ...    ...  \n",
       "SIDM01248         True   True   True  \n",
       "SIDM01251         True   True   True  \n",
       "SIDM01259         True   True   True  \n",
       "SIDM01261        False  False  False  \n",
       "SIDM01265         True   True   True  \n",
       "\n",
       "[969 rows x 295 columns]"
      ]
     },
     "execution_count": 79,
     "metadata": {},
     "output_type": "execute_result"
    }
   ],
   "source": [
    "# ~pivot_targets.isnull()"
   ]
  },
  {
   "cell_type": "markdown",
   "id": "bf8dcbdd-6239-4cbe-88f1-4a327943db00",
   "metadata": {},
   "source": [
    "## TODO\n",
    "1) Hyperparam anpassen\n",
    "2) Andere drug testen\n",
    "3) Evaluate other losses? something like r2 loss?\n"
   ]
  },
  {
   "cell_type": "markdown",
   "id": "83956263-f695-43cf-94f6-01fa80cfc8c0",
   "metadata": {},
   "source": [
    "## Questions\n",
    "- Which features from mutations and genes I listed are irrelevant? If unknown pick all but probably I have some that does not make sense to include\n",
    "  => Main goal: Just run with all\n",
    "  (=> List with classical oncogenes, tummor suppressor genes)\n",
    "- What is our goal/baseline? => feature selector from Johannes or paper https://academic.oup.com/bib/article/23/3/bbac100/6554594 (can create one but probably you have one)\n",
    "- Which metric? IC 50 -> root mean squared error, R2-> 0.9 / 0.96\n",
    "- Label as LN_IC50? IC50\n",
    "- Defaul test dataset oder k-fold CV? 10 fold vs LOO-CV? \n",
    "- Depth vs Breadth? Bei dem Drug bleiben und versuchen zu verbessern (neue Architekturen, Batching etc) oder Lieber den kompletten graphen mit allen drugs und ziel edge attribute regression? Lieber ersteres da unabhängigkeit zwischen medikamenten\n",
    "- Edge regression task preferred?:\n",
    "x = ...  # Node feature matrix: [num_nodes, num_features]\r\n",
    "edge_index = ... # Edge indices: [2, num_edges\n",
    "- What is the goal paper for johannes]\r\n",
    "\r\n",
    "src, dst = edge_index\r\n",
    "score = (x[src] * x[dst]).sum(dim=-1)\r\n",
    "\r\n",
    "loss = F.cross_entropy(score, data.edge_label)  # Classification\r\n",
    "loss = F.mse_loss(score, data.edge_value)  # Regression"
   ]
  },
  {
   "cell_type": "markdown",
   "id": "0f86741c-61fe-42cd-97a6-662bbb979303",
   "metadata": {},
   "source": [
    "## Problems\n",
    "\t\n",
    " CUDA allocation error in training\n",
    " \n",
    " duplicate model_id + gene_id\n",
    " model_name\tmodel_id\tsymbol\tgene_id\tchr_name\tchr_start\tchr_end\ttotal_copy_number\tminor_copy_number\tloh\t...\tseg_mean\tgene_mean\tnum_targets\tfocal\tbreakpoints\tnum_snps\tgatk_mean_log2_copy_ratio\tcomment\tsource\tdata_type\n",
    "0\tMEC-1\tSIDM00001\tABCB1\tSIDG00064\tchr7\t87503966\t87600461\t3.0\t1.0\tFalse\t...\t0.599167\t0.414125\t28.0\tFalse\t0.0\t1124.0\t0.574127\tPOOR GOF (70.4%)\tSanger\tWES\n",
    "844\tMEC-1\tSIDM00001\tABCB1\tSIDG00064\tchr7\t87503966\t87600461\t3.0\t1.0\tFalse\t...\t0.551774\t0.692527\t\n",
    "\n",
    "-> pre-filter? highest POF in comment? or take both?"
   ]
  }
 ],
 "metadata": {
  "kernelspec": {
   "display_name": "Python 3 (ipykernel)",
   "language": "python",
   "name": "python3"
  },
  "language_info": {
   "codemirror_mode": {
    "name": "ipython",
    "version": 3
   },
   "file_extension": ".py",
   "mimetype": "text/x-python",
   "name": "python",
   "nbconvert_exporter": "python",
   "pygments_lexer": "ipython3",
   "version": "3.10.12"
  }
 },
 "nbformat": 4,
 "nbformat_minor": 5
}
