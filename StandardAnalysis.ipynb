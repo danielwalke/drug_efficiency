{
 "cells": [
  {
   "cell_type": "markdown",
   "id": "4a51acd3-1d9b-4920-8d5f-d0536f63c1e1",
   "metadata": {},
   "source": [
    "## Useful libraries"
   ]
  },
  {
   "cell_type": "code",
   "execution_count": 1,
   "id": "9b382b8b-c7f2-4ab5-a486-ad3949c22dec",
   "metadata": {},
   "outputs": [],
   "source": [
    "import pandas as pd\n",
    "from matplotlib import pyplot as plt\n",
    "import numpy as np\n",
    "import torch_geometric\n",
    "import sklearn"
   ]
  },
  {
   "cell_type": "code",
   "execution_count": 2,
   "id": "cb66ecc2-e662-4244-b1c7-f401a6729f8e",
   "metadata": {},
   "outputs": [],
   "source": [
    "## TODO: https://medium.com/math-simplified/checking-for-linear-dependence-in-sympy-9776b66dbe75"
   ]
  },
  {
   "cell_type": "markdown",
   "id": "815e7d14-8b0d-4986-8fe3-0fe2ab1ecc51",
   "metadata": {},
   "source": [
    "## Utility functions"
   ]
  },
  {
   "cell_type": "code",
   "execution_count": 3,
   "id": "211a7c02-ef90-4fdb-b990-a489fb91cab1",
   "metadata": {},
   "outputs": [],
   "source": [
    "def categorize_columns(df, columns):\n",
    "    for column in columns:\n",
    "        df[column] = df[column].astype(\"category\")\n",
    "    cat_columns = df.select_dtypes(['category']).columns\n",
    "    df[cat_columns] = df[cat_columns].apply(lambda x: x.cat.codes)\n",
    "    return df"
   ]
  },
  {
   "cell_type": "code",
   "execution_count": 4,
   "id": "ceac2ce7-18d8-4af9-bc95-b912bf979089",
   "metadata": {},
   "outputs": [],
   "source": [
    "def z_scale(df_z_scaled, columns): ## is a bit better for neural networks\n",
    "    # for column in columns:\n",
    "    #     df_z_scaled[column] = (df_z_scaled[column] - df_z_scaled[column].mean()) / df_z_scaled[column].std()   \n",
    "    return df_z_scaled"
   ]
  },
  {
   "cell_type": "code",
   "execution_count": 5,
   "id": "dbe70eb0-f7b2-4176-8396-c0927e128da1",
   "metadata": {},
   "outputs": [],
   "source": [
    "from pandas.api.types import is_numeric_dtype\n",
    "def remove_uninformative_columns(df, columns):\n",
    "    ## removes categorcial columns where we have no duplicates (i.e., columns with all different categorical values like ids)\n",
    "    filtered_columns = []\n",
    "    for column in columns:\n",
    "        all_values_in_column_identical = df[column].unique().shape[0] < 2\n",
    "        if all_values_in_column_identical:\n",
    "            continue\n",
    "        category_has_duplicates = df.duplicated(subset=column).sum()> 0 ##is informative\n",
    "        if category_has_duplicates or is_numeric_dtype(df[column]) :\n",
    "            filtered_columns.append(column)\n",
    "    return filtered_columns"
   ]
  },
  {
   "cell_type": "code",
   "execution_count": 6,
   "id": "3151e4a1-9cbc-472b-9570-95c1875dea43",
   "metadata": {},
   "outputs": [],
   "source": [
    "import torch\n",
    "def reverse_edge_index(torch_tensor):\n",
    "    reversed_torch_tensor = torch.zeros_like(torch_tensor)\n",
    "    reversed_torch_tensor[:, 0] = torch_tensor[:, 1]\n",
    "    reversed_torch_tensor[:, 1] = torch_tensor[:, 0]\n",
    "    return reversed_torch_tensor"
   ]
  },
  {
   "cell_type": "markdown",
   "id": "843dee8e-c226-44e0-a6a9-23bb4374c923",
   "metadata": {},
   "source": [
    "## What we need\n",
    "- Gene node feature #genes x #features\n",
    "- Model node feature #models x features (for now includes drug inofrmation and the drug IC50 target for simplicity) (more complicated than I expected)\n",
    "  -> later edge attribute prediction?\n",
    "- Gene_model_edge_index_cn #edges x 2\n",
    "- Gene_model_edge_index_mutations #edges x 2\n",
    "- Gene_model_edge_index_geneexpressions #edges x 2\n",
    "- Gene_model_edge_attributes_cn #edges x #attributes\n",
    "- Gene_model_edge_attributes_mutations #edges x #attributes\n",
    "- Gene_model_edge_attributes_geneexpressions #edges x #attributes\n",
    "\n",
    "  Het-GAT for regression task with MSE as loss"
   ]
  },
  {
   "cell_type": "markdown",
   "id": "2d8fff4c-8aa3-44f3-a6fb-e131cde8971e",
   "metadata": {},
   "source": [
    "## Read human genome"
   ]
  },
  {
   "cell_type": "code",
   "execution_count": 7,
   "id": "46fe3d4c-7e10-44d0-9c64-011bda21768b",
   "metadata": {},
   "outputs": [
    {
     "data": {
      "text/html": [
       "<div>\n",
       "<style scoped>\n",
       "    .dataframe tbody tr th:only-of-type {\n",
       "        vertical-align: middle;\n",
       "    }\n",
       "\n",
       "    .dataframe tbody tr th {\n",
       "        vertical-align: top;\n",
       "    }\n",
       "\n",
       "    .dataframe thead th {\n",
       "        text-align: right;\n",
       "    }\n",
       "</style>\n",
       "<table border=\"1\" class=\"dataframe\">\n",
       "  <thead>\n",
       "    <tr style=\"text-align: right;\">\n",
       "      <th></th>\n",
       "      <th>0</th>\n",
       "      <th>1</th>\n",
       "      <th>2</th>\n",
       "      <th>3</th>\n",
       "      <th>human_genome_index</th>\n",
       "    </tr>\n",
       "  </thead>\n",
       "  <tbody>\n",
       "    <tr>\n",
       "      <th>0</th>\n",
       "      <td>hsa:102466751</td>\n",
       "      <td>miRNA</td>\n",
       "      <td>1:complement(17369..17436)</td>\n",
       "      <td>MIR6859-1, hsa-mir-6859-1; microRNA 6859-1</td>\n",
       "      <td>0</td>\n",
       "    </tr>\n",
       "    <tr>\n",
       "      <th>1</th>\n",
       "      <td>hsa:100302278</td>\n",
       "      <td>miRNA</td>\n",
       "      <td>1:30366..30503</td>\n",
       "      <td>MIR1302-2, MIRN1302-2, hsa-mir-1302-2; microRN...</td>\n",
       "      <td>1</td>\n",
       "    </tr>\n",
       "    <tr>\n",
       "      <th>2</th>\n",
       "      <td>hsa:79501</td>\n",
       "      <td>CDS</td>\n",
       "      <td>1:65419..71585</td>\n",
       "      <td>OR4F5; olfactory receptor family 4 subfamily F...</td>\n",
       "      <td>2</td>\n",
       "    </tr>\n",
       "    <tr>\n",
       "      <th>3</th>\n",
       "      <td>hsa:102465909</td>\n",
       "      <td>miRNA</td>\n",
       "      <td>1:complement(187891..187958)</td>\n",
       "      <td>MIR6859-2, hsa-mir-6859-2; microRNA 6859-2</td>\n",
       "      <td>3</td>\n",
       "    </tr>\n",
       "    <tr>\n",
       "      <th>4</th>\n",
       "      <td>hsa:112268260</td>\n",
       "      <td>CDS</td>\n",
       "      <td>1:complement(365134..382235)</td>\n",
       "      <td>uncharacterized LOC112268260</td>\n",
       "      <td>4</td>\n",
       "    </tr>\n",
       "  </tbody>\n",
       "</table>\n",
       "</div>"
      ],
      "text/plain": [
       "               0      1                             2  \\\n",
       "0  hsa:102466751  miRNA    1:complement(17369..17436)   \n",
       "1  hsa:100302278  miRNA                1:30366..30503   \n",
       "2      hsa:79501    CDS                1:65419..71585   \n",
       "3  hsa:102465909  miRNA  1:complement(187891..187958)   \n",
       "4  hsa:112268260    CDS  1:complement(365134..382235)   \n",
       "\n",
       "                                                   3  human_genome_index  \n",
       "0         MIR6859-1, hsa-mir-6859-1; microRNA 6859-1                   0  \n",
       "1  MIR1302-2, MIRN1302-2, hsa-mir-1302-2; microRN...                   1  \n",
       "2  OR4F5; olfactory receptor family 4 subfamily F...                   2  \n",
       "3         MIR6859-2, hsa-mir-6859-2; microRNA 6859-2                   3  \n",
       "4                       uncharacterized LOC112268260                   4  "
      ]
     },
     "execution_count": 7,
     "metadata": {},
     "output_type": "execute_result"
    }
   ],
   "source": [
    "human_genome = pd.read_csv(\"human_genome.tsv\", sep=\"\\t\", header=None) ## merging via gene symbol\n",
    "human_genome[\"human_genome_index\"] = human_genome.index\n",
    "human_genome.head()"
   ]
  },
  {
   "cell_type": "markdown",
   "id": "03df2aa8-d19b-4f82-bfac-59bb75be0f4e",
   "metadata": {},
   "source": [
    "## Get gene symbols to human genome index dataframe (is in nested list semicolon, comma separated)"
   ]
  },
  {
   "cell_type": "code",
   "execution_count": 8,
   "id": "29e589c8-0962-49fa-82d6-ed31273f874b",
   "metadata": {},
   "outputs": [],
   "source": [
    "def get_gene_idx_to_gene_symbol(human_genome):\n",
    "    sem_split = human_genome[3].str.split(\"; \")\n",
    "    comma_split = sem_split.map(lambda n: n[0]).str.split(\",\")\n",
    "    exploded_gene_symbols = comma_split.explode().str.strip().to_frame()\n",
    "    exploded_gene_symbols = exploded_gene_symbols.rename(columns={3:\"symbol\"})\n",
    "    exploded_gene_symbols[\"human_genome_index\"] = exploded_gene_symbols.index\n",
    "    exploded_gene_symbols = exploded_gene_symbols.reset_index(drop=True)\n",
    "    return exploded_gene_symbols"
   ]
  },
  {
   "cell_type": "code",
   "execution_count": 9,
   "id": "152e224a-646f-434f-afdb-761c23f3ac92",
   "metadata": {},
   "outputs": [],
   "source": [
    "gene_idx_to_gene_symbol_df = get_gene_idx_to_gene_symbol(human_genome)"
   ]
  },
  {
   "cell_type": "markdown",
   "id": "daade5af-e566-4297-ab2d-e5dc06e78ee9",
   "metadata": {},
   "source": [
    "## Generate nodes features for gene nodes"
   ]
  },
  {
   "cell_type": "code",
   "execution_count": 10,
   "id": "6c9e6013-ece8-42de-9ecb-e57984394c0d",
   "metadata": {},
   "outputs": [],
   "source": [
    "def get_gene_features(human_genome):\n",
    "    categorize_columns(human_genome, human_genome.columns[:3])\n",
    "    z_scale(human_genome, human_genome.columns[:3])\n",
    "    gene_features = human_genome.loc[:, :2].values\n",
    "    return gene_features"
   ]
  },
  {
   "cell_type": "code",
   "execution_count": 11,
   "id": "6702079a-f995-4020-bdd6-71a0eb17ce10",
   "metadata": {},
   "outputs": [],
   "source": [
    "gene_features = get_gene_features(human_genome)"
   ]
  },
  {
   "cell_type": "code",
   "execution_count": 12,
   "id": "ab8f3b36-3a1a-49e8-8429-0afc0632f9bc",
   "metadata": {},
   "outputs": [
    {
     "data": {
      "text/plain": [
       "(24689, 3)"
      ]
     },
     "execution_count": 12,
     "metadata": {},
     "output_type": "execute_result"
    }
   ],
   "source": [
    "gene_features.shape"
   ]
  },
  {
   "cell_type": "markdown",
   "id": "d1e43de4-16ad-4df2-8ffe-9876bff1e0e4",
   "metadata": {},
   "source": [
    "## Generate node features for models (with target) and target labels"
   ]
  },
  {
   "cell_type": "code",
   "execution_count": 13,
   "id": "76e4ef3e-fad7-4389-b2d9-049d1c025b4f",
   "metadata": {},
   "outputs": [
    {
     "data": {
      "text/html": [
       "<div>\n",
       "<style scoped>\n",
       "    .dataframe tbody tr th:only-of-type {\n",
       "        vertical-align: middle;\n",
       "    }\n",
       "\n",
       "    .dataframe tbody tr th {\n",
       "        vertical-align: top;\n",
       "    }\n",
       "\n",
       "    .dataframe thead th {\n",
       "        text-align: right;\n",
       "    }\n",
       "</style>\n",
       "<table border=\"1\" class=\"dataframe\">\n",
       "  <thead>\n",
       "    <tr style=\"text-align: right;\">\n",
       "      <th></th>\n",
       "      <th>model_id</th>\n",
       "      <th>sample_id</th>\n",
       "      <th>patient_id</th>\n",
       "      <th>parent_id</th>\n",
       "      <th>model_name</th>\n",
       "      <th>synonyms</th>\n",
       "      <th>tissue</th>\n",
       "      <th>cancer_type</th>\n",
       "      <th>cancer_type_ncit_id</th>\n",
       "      <th>tissue_status</th>\n",
       "      <th>...</th>\n",
       "      <th>msh6_expression_by_ihc</th>\n",
       "      <th>braf_mutation_identified</th>\n",
       "      <th>braf_expression_by_ihc</th>\n",
       "      <th>pik3ca_mutation_identified</th>\n",
       "      <th>pten_expression_by_ihc</th>\n",
       "      <th>pten_mutation_identified</th>\n",
       "      <th>kras_mutation_identified</th>\n",
       "      <th>mismatch_repair_status</th>\n",
       "      <th>preoperative_ce_alevel</th>\n",
       "      <th>crispr_ko_data</th>\n",
       "    </tr>\n",
       "  </thead>\n",
       "  <tbody>\n",
       "    <tr>\n",
       "      <th>0</th>\n",
       "      <td>SIDM01774</td>\n",
       "      <td>SIDS01659</td>\n",
       "      <td>SIDP01578</td>\n",
       "      <td>NaN</td>\n",
       "      <td>PK-59</td>\n",
       "      <td>NaN</td>\n",
       "      <td>Pancreas</td>\n",
       "      <td>Pancreatic Carcinoma</td>\n",
       "      <td>C3850</td>\n",
       "      <td>Metastasis</td>\n",
       "      <td>...</td>\n",
       "      <td>NaN</td>\n",
       "      <td>NaN</td>\n",
       "      <td>NaN</td>\n",
       "      <td>NaN</td>\n",
       "      <td>NaN</td>\n",
       "      <td>NaN</td>\n",
       "      <td>NaN</td>\n",
       "      <td>NaN</td>\n",
       "      <td>NaN</td>\n",
       "      <td>False</td>\n",
       "    </tr>\n",
       "    <tr>\n",
       "      <th>1</th>\n",
       "      <td>SIDM00192</td>\n",
       "      <td>SIDS00612</td>\n",
       "      <td>SIDP00541</td>\n",
       "      <td>NaN</td>\n",
       "      <td>SNU-1033</td>\n",
       "      <td>NaN</td>\n",
       "      <td>Large Intestine</td>\n",
       "      <td>Colorectal Carcinoma</td>\n",
       "      <td>C9383</td>\n",
       "      <td>Tumour</td>\n",
       "      <td>...</td>\n",
       "      <td>NaN</td>\n",
       "      <td>NaN</td>\n",
       "      <td>NaN</td>\n",
       "      <td>NaN</td>\n",
       "      <td>NaN</td>\n",
       "      <td>NaN</td>\n",
       "      <td>NaN</td>\n",
       "      <td>NaN</td>\n",
       "      <td>NaN</td>\n",
       "      <td>True</td>\n",
       "    </tr>\n",
       "    <tr>\n",
       "      <th>2</th>\n",
       "      <td>SIDM01447</td>\n",
       "      <td>SIDS01466</td>\n",
       "      <td>SIDP01347</td>\n",
       "      <td>NaN</td>\n",
       "      <td>SNU-466</td>\n",
       "      <td>NaN</td>\n",
       "      <td>Central Nervous System</td>\n",
       "      <td>Glioblastoma</td>\n",
       "      <td>C3058</td>\n",
       "      <td>Tumour</td>\n",
       "      <td>...</td>\n",
       "      <td>NaN</td>\n",
       "      <td>NaN</td>\n",
       "      <td>NaN</td>\n",
       "      <td>NaN</td>\n",
       "      <td>NaN</td>\n",
       "      <td>NaN</td>\n",
       "      <td>NaN</td>\n",
       "      <td>NaN</td>\n",
       "      <td>NaN</td>\n",
       "      <td>False</td>\n",
       "    </tr>\n",
       "    <tr>\n",
       "      <th>3</th>\n",
       "      <td>SIDM01554</td>\n",
       "      <td>SIDS01363</td>\n",
       "      <td>SIDP01247</td>\n",
       "      <td>NaN</td>\n",
       "      <td>IST-MES-2</td>\n",
       "      <td>NaN</td>\n",
       "      <td>Lung</td>\n",
       "      <td>Mesothelioma</td>\n",
       "      <td>C45662</td>\n",
       "      <td>Unknown</td>\n",
       "      <td>...</td>\n",
       "      <td>NaN</td>\n",
       "      <td>NaN</td>\n",
       "      <td>NaN</td>\n",
       "      <td>NaN</td>\n",
       "      <td>NaN</td>\n",
       "      <td>NaN</td>\n",
       "      <td>NaN</td>\n",
       "      <td>NaN</td>\n",
       "      <td>NaN</td>\n",
       "      <td>True</td>\n",
       "    </tr>\n",
       "    <tr>\n",
       "      <th>4</th>\n",
       "      <td>SIDM01689</td>\n",
       "      <td>SIDS01631</td>\n",
       "      <td>SIDP01557</td>\n",
       "      <td>NaN</td>\n",
       "      <td>MUTZ-5</td>\n",
       "      <td>NaN</td>\n",
       "      <td>Haematopoietic and Lymphoid</td>\n",
       "      <td>B-Lymphoblastic Leukemia</td>\n",
       "      <td>C8644</td>\n",
       "      <td>Tumour</td>\n",
       "      <td>...</td>\n",
       "      <td>NaN</td>\n",
       "      <td>NaN</td>\n",
       "      <td>NaN</td>\n",
       "      <td>NaN</td>\n",
       "      <td>NaN</td>\n",
       "      <td>NaN</td>\n",
       "      <td>NaN</td>\n",
       "      <td>NaN</td>\n",
       "      <td>NaN</td>\n",
       "      <td>False</td>\n",
       "    </tr>\n",
       "  </tbody>\n",
       "</table>\n",
       "<p>5 rows × 97 columns</p>\n",
       "</div>"
      ],
      "text/plain": [
       "    model_id  sample_id patient_id parent_id model_name synonyms  \\\n",
       "0  SIDM01774  SIDS01659  SIDP01578       NaN      PK-59      NaN   \n",
       "1  SIDM00192  SIDS00612  SIDP00541       NaN   SNU-1033      NaN   \n",
       "2  SIDM01447  SIDS01466  SIDP01347       NaN    SNU-466      NaN   \n",
       "3  SIDM01554  SIDS01363  SIDP01247       NaN  IST-MES-2      NaN   \n",
       "4  SIDM01689  SIDS01631  SIDP01557       NaN     MUTZ-5      NaN   \n",
       "\n",
       "                        tissue               cancer_type cancer_type_ncit_id  \\\n",
       "0                     Pancreas      Pancreatic Carcinoma               C3850   \n",
       "1              Large Intestine      Colorectal Carcinoma               C9383   \n",
       "2       Central Nervous System              Glioblastoma               C3058   \n",
       "3                         Lung              Mesothelioma              C45662   \n",
       "4  Haematopoietic and Lymphoid  B-Lymphoblastic Leukemia               C8644   \n",
       "\n",
       "  tissue_status  ... msh6_expression_by_ihc braf_mutation_identified  \\\n",
       "0    Metastasis  ...                    NaN                      NaN   \n",
       "1        Tumour  ...                    NaN                      NaN   \n",
       "2        Tumour  ...                    NaN                      NaN   \n",
       "3       Unknown  ...                    NaN                      NaN   \n",
       "4        Tumour  ...                    NaN                      NaN   \n",
       "\n",
       "  braf_expression_by_ihc pik3ca_mutation_identified pten_expression_by_ihc  \\\n",
       "0                    NaN                        NaN                    NaN   \n",
       "1                    NaN                        NaN                    NaN   \n",
       "2                    NaN                        NaN                    NaN   \n",
       "3                    NaN                        NaN                    NaN   \n",
       "4                    NaN                        NaN                    NaN   \n",
       "\n",
       "   pten_mutation_identified  kras_mutation_identified  mismatch_repair_status  \\\n",
       "0                       NaN                       NaN                     NaN   \n",
       "1                       NaN                       NaN                     NaN   \n",
       "2                       NaN                       NaN                     NaN   \n",
       "3                       NaN                       NaN                     NaN   \n",
       "4                       NaN                       NaN                     NaN   \n",
       "\n",
       "  preoperative_ce_alevel  crispr_ko_data  \n",
       "0                    NaN           False  \n",
       "1                    NaN            True  \n",
       "2                    NaN           False  \n",
       "3                    NaN            True  \n",
       "4                    NaN           False  \n",
       "\n",
       "[5 rows x 97 columns]"
      ]
     },
     "execution_count": 13,
     "metadata": {},
     "output_type": "execute_result"
    }
   ],
   "source": [
    "targets = pd.read_csv(\"target.csv\",sep=\";\")\n",
    "models = pd.read_csv(\"model_list_20240110.csv\")\n",
    "models.head()"
   ]
  },
  {
   "cell_type": "code",
   "execution_count": 14,
   "id": "2589f1bf-13bd-4379-8b6e-90674d079ad8",
   "metadata": {},
   "outputs": [],
   "source": [
    "def get_transformed_merged_drug_model_df(models, targets):\n",
    "    columns_with_most_val_filled = models.columns[models.isnull().sum(axis=0)/ models.shape[0] <= 0.1]\n",
    "    filtered_columns = remove_uninformative_columns(models, columns_with_most_val_filled) ##all categorical\n",
    "    filtered_columns.append(\"model_id\") ## required for later join\n",
    "    print(filtered_columns)\n",
    "    models = models[filtered_columns].fillna(\"Unkown\")\n",
    "    columns_besides_id = list(filter(lambda x: x != \"model_id\", filtered_columns))\n",
    "    models = categorize_columns(models, columns_besides_id)\n",
    "    z_scale(models, columns_besides_id)\n",
    "    models = models.rename(columns={\"model_id\":\"SANGER_MODEL_ID\"}) ##rename for join\n",
    "    limited_drug_target = targets[targets[\"DRUG_ID\"] == 1862] ##filter specific drug\n",
    "    limited_drug_target_filtered = limited_drug_target.loc[:, [\"CELL_LINE_NAME\", \"SANGER_MODEL_ID\", \"MIN_CONC\", \"LN_IC50\"]]\n",
    "    limited_drug_target_filtered = categorize_columns(limited_drug_target_filtered, [\"CELL_LINE_NAME\"])\n",
    "    z_scale(limited_drug_target_filtered, list(filter(lambda x: x not in [\"LN_IC50\", \"SANGER_MODEL_ID\"], limited_drug_target_filtered.columns)))\n",
    "    model_drug_information = pd.merge(limited_drug_target_filtered, models, how=\"inner\", on=\"SANGER_MODEL_ID\") ## merge drug and model information\n",
    "    model_drug_information[\"model_idx\"] = model_drug_information.index ##store index for later joins to retrieve edge index\n",
    "    return model_drug_information"
   ]
  },
  {
   "cell_type": "code",
   "execution_count": 15,
   "id": "aefb43ef-a45a-4f20-9bd2-9b430e22e0f4",
   "metadata": {},
   "outputs": [
    {
     "name": "stdout",
     "output_type": "stream",
     "text": [
      "['sample_id', 'patient_id', 'model_name', 'tissue', 'cancer_type', 'cancer_type_ncit_id', 'tissue_status', 'sample_site', 'cancer_type_detail', 'model_type', 'growth_properties', 'gender', 'ethnicity', 'smoking_status', 'sample_treatment', 'crispr_ko_data', 'model_id']\n"
     ]
    }
   ],
   "source": [
    "merged_drug_model_df = get_transformed_merged_drug_model_df(models,  targets)"
   ]
  },
  {
   "cell_type": "code",
   "execution_count": 16,
   "id": "4ca00747-6fe0-448f-ad39-c4b02cc69b41",
   "metadata": {},
   "outputs": [],
   "source": [
    "def get_target_label_and_model_with_target_feature(model_drug_information):\n",
    "    target_labels = model_drug_information.pop(\"LN_IC50\").values\n",
    "    model_feature_columns = list(filter(lambda x: x not in [\"model_idx\", \"SANGER_MODEL_ID\"], model_drug_information.columns))\n",
    "    print(model_feature_columns)\n",
    "    model_and_target_features = model_drug_information[model_feature_columns].values\n",
    "    return (target_labels, model_and_target_features)"
   ]
  },
  {
   "cell_type": "code",
   "execution_count": 17,
   "id": "3e27ec9f-5956-4778-9a10-e8e2d6799898",
   "metadata": {},
   "outputs": [
    {
     "name": "stdout",
     "output_type": "stream",
     "text": [
      "['CELL_LINE_NAME', 'MIN_CONC', 'sample_id', 'patient_id', 'model_name', 'tissue', 'cancer_type', 'cancer_type_ncit_id', 'tissue_status', 'sample_site', 'cancer_type_detail', 'model_type', 'growth_properties', 'gender', 'ethnicity', 'smoking_status', 'sample_treatment', 'crispr_ko_data']\n"
     ]
    }
   ],
   "source": [
    "target_labels, model_and_target_features = get_target_label_and_model_with_target_feature(merged_drug_model_df)"
   ]
  },
  {
   "cell_type": "code",
   "execution_count": 18,
   "id": "347c749c-587b-47a7-ba1f-d7c6242116ce",
   "metadata": {},
   "outputs": [
    {
     "data": {
      "text/plain": [
       "((969,), (969, 18))"
      ]
     },
     "execution_count": 18,
     "metadata": {},
     "output_type": "execute_result"
    }
   ],
   "source": [
    "target_labels.shape, model_and_target_features.shape"
   ]
  },
  {
   "cell_type": "markdown",
   "id": "fdfdd5f8-1289-422e-b4f6-b43ba89a7eb9",
   "metadata": {},
   "source": [
    "## Generate edge indices and edge attributes"
   ]
  },
  {
   "cell_type": "markdown",
   "id": "36927cda-6a32-4ceb-9f08-53e69f5f4b9e",
   "metadata": {},
   "source": [
    "### Read copy numbers"
   ]
  },
  {
   "cell_type": "code",
   "execution_count": 19,
   "id": "ac410ccb-6350-46c5-b5fb-2604c5b1e928",
   "metadata": {},
   "outputs": [
    {
     "data": {
      "text/html": [
       "<div>\n",
       "<style scoped>\n",
       "    .dataframe tbody tr th:only-of-type {\n",
       "        vertical-align: middle;\n",
       "    }\n",
       "\n",
       "    .dataframe tbody tr th {\n",
       "        vertical-align: top;\n",
       "    }\n",
       "\n",
       "    .dataframe thead th {\n",
       "        text-align: right;\n",
       "    }\n",
       "</style>\n",
       "<table border=\"1\" class=\"dataframe\">\n",
       "  <thead>\n",
       "    <tr style=\"text-align: right;\">\n",
       "      <th></th>\n",
       "      <th>model_name</th>\n",
       "      <th>model_id</th>\n",
       "      <th>symbol</th>\n",
       "      <th>gene_id</th>\n",
       "      <th>chr_name</th>\n",
       "      <th>chr_start</th>\n",
       "      <th>chr_end</th>\n",
       "      <th>total_copy_number</th>\n",
       "      <th>minor_copy_number</th>\n",
       "      <th>loh</th>\n",
       "      <th>...</th>\n",
       "      <th>seg_mean</th>\n",
       "      <th>gene_mean</th>\n",
       "      <th>num_targets</th>\n",
       "      <th>focal</th>\n",
       "      <th>breakpoints</th>\n",
       "      <th>num_snps</th>\n",
       "      <th>gatk_mean_log2_copy_ratio</th>\n",
       "      <th>comment</th>\n",
       "      <th>source</th>\n",
       "      <th>data_type</th>\n",
       "    </tr>\n",
       "  </thead>\n",
       "  <tbody>\n",
       "    <tr>\n",
       "      <th>0</th>\n",
       "      <td>MEC-1</td>\n",
       "      <td>SIDM00001</td>\n",
       "      <td>ABCB1</td>\n",
       "      <td>SIDG00064</td>\n",
       "      <td>chr7</td>\n",
       "      <td>87503966</td>\n",
       "      <td>87600461</td>\n",
       "      <td>3.0</td>\n",
       "      <td>1.0</td>\n",
       "      <td>False</td>\n",
       "      <td>...</td>\n",
       "      <td>0.599167</td>\n",
       "      <td>0.414125</td>\n",
       "      <td>28.0</td>\n",
       "      <td>False</td>\n",
       "      <td>0.0</td>\n",
       "      <td>1124.0</td>\n",
       "      <td>0.574127</td>\n",
       "      <td>POOR GOF (70.4%)</td>\n",
       "      <td>Sanger</td>\n",
       "      <td>WES</td>\n",
       "    </tr>\n",
       "    <tr>\n",
       "      <th>1</th>\n",
       "      <td>MEC-1</td>\n",
       "      <td>SIDM00001</td>\n",
       "      <td>ABL1</td>\n",
       "      <td>SIDG00150</td>\n",
       "      <td>chr9</td>\n",
       "      <td>130714099</td>\n",
       "      <td>130885948</td>\n",
       "      <td>3.0</td>\n",
       "      <td>1.0</td>\n",
       "      <td>False</td>\n",
       "      <td>...</td>\n",
       "      <td>0.599167</td>\n",
       "      <td>0.472693</td>\n",
       "      <td>12.0</td>\n",
       "      <td>False</td>\n",
       "      <td>0.0</td>\n",
       "      <td>977.0</td>\n",
       "      <td>0.585569</td>\n",
       "      <td>POOR GOF (70.4%)</td>\n",
       "      <td>Sanger</td>\n",
       "      <td>WES</td>\n",
       "    </tr>\n",
       "    <tr>\n",
       "      <th>2</th>\n",
       "      <td>MEC-1</td>\n",
       "      <td>SIDM00001</td>\n",
       "      <td>BRD3</td>\n",
       "      <td>SIDG02504</td>\n",
       "      <td>chr9</td>\n",
       "      <td>134033313</td>\n",
       "      <td>134053689</td>\n",
       "      <td>3.0</td>\n",
       "      <td>1.0</td>\n",
       "      <td>False</td>\n",
       "      <td>...</td>\n",
       "      <td>0.599167</td>\n",
       "      <td>0.705704</td>\n",
       "      <td>11.0</td>\n",
       "      <td>False</td>\n",
       "      <td>0.0</td>\n",
       "      <td>977.0</td>\n",
       "      <td>0.585569</td>\n",
       "      <td>POOR GOF (70.4%)</td>\n",
       "      <td>Sanger</td>\n",
       "      <td>WES</td>\n",
       "    </tr>\n",
       "    <tr>\n",
       "      <th>3</th>\n",
       "      <td>MEC-1</td>\n",
       "      <td>SIDM00001</td>\n",
       "      <td>CARD11</td>\n",
       "      <td>SIDG03455</td>\n",
       "      <td>chr7</td>\n",
       "      <td>2906361</td>\n",
       "      <td>2958783</td>\n",
       "      <td>3.0</td>\n",
       "      <td>1.0</td>\n",
       "      <td>False</td>\n",
       "      <td>...</td>\n",
       "      <td>0.599167</td>\n",
       "      <td>0.696245</td>\n",
       "      <td>23.0</td>\n",
       "      <td>False</td>\n",
       "      <td>0.0</td>\n",
       "      <td>1124.0</td>\n",
       "      <td>0.574127</td>\n",
       "      <td>POOR GOF (70.4%)</td>\n",
       "      <td>Sanger</td>\n",
       "      <td>WES</td>\n",
       "    </tr>\n",
       "    <tr>\n",
       "      <th>4</th>\n",
       "      <td>MEC-1</td>\n",
       "      <td>SIDM00001</td>\n",
       "      <td>CDK6</td>\n",
       "      <td>SIDG04156</td>\n",
       "      <td>chr7</td>\n",
       "      <td>92614869</td>\n",
       "      <td>92833599</td>\n",
       "      <td>3.0</td>\n",
       "      <td>1.0</td>\n",
       "      <td>False</td>\n",
       "      <td>...</td>\n",
       "      <td>0.599167</td>\n",
       "      <td>0.750720</td>\n",
       "      <td>7.0</td>\n",
       "      <td>False</td>\n",
       "      <td>0.0</td>\n",
       "      <td>1124.0</td>\n",
       "      <td>0.574127</td>\n",
       "      <td>POOR GOF (70.4%)</td>\n",
       "      <td>Sanger</td>\n",
       "      <td>WES</td>\n",
       "    </tr>\n",
       "  </tbody>\n",
       "</table>\n",
       "<p>5 rows × 23 columns</p>\n",
       "</div>"
      ],
      "text/plain": [
       "  model_name   model_id  symbol    gene_id chr_name  chr_start    chr_end  \\\n",
       "0      MEC-1  SIDM00001   ABCB1  SIDG00064     chr7   87503966   87600461   \n",
       "1      MEC-1  SIDM00001    ABL1  SIDG00150     chr9  130714099  130885948   \n",
       "2      MEC-1  SIDM00001    BRD3  SIDG02504     chr9  134033313  134053689   \n",
       "3      MEC-1  SIDM00001  CARD11  SIDG03455     chr7    2906361    2958783   \n",
       "4      MEC-1  SIDM00001    CDK6  SIDG04156     chr7   92614869   92833599   \n",
       "\n",
       "   total_copy_number  minor_copy_number    loh  ...  seg_mean  gene_mean  \\\n",
       "0                3.0                1.0  False  ...  0.599167   0.414125   \n",
       "1                3.0                1.0  False  ...  0.599167   0.472693   \n",
       "2                3.0                1.0  False  ...  0.599167   0.705704   \n",
       "3                3.0                1.0  False  ...  0.599167   0.696245   \n",
       "4                3.0                1.0  False  ...  0.599167   0.750720   \n",
       "\n",
       "  num_targets  focal  breakpoints  num_snps gatk_mean_log2_copy_ratio  \\\n",
       "0        28.0  False          0.0    1124.0                  0.574127   \n",
       "1        12.0  False          0.0     977.0                  0.585569   \n",
       "2        11.0  False          0.0     977.0                  0.585569   \n",
       "3        23.0  False          0.0    1124.0                  0.574127   \n",
       "4         7.0  False          0.0    1124.0                  0.574127   \n",
       "\n",
       "            comment  source  data_type  \n",
       "0  POOR GOF (70.4%)  Sanger        WES  \n",
       "1  POOR GOF (70.4%)  Sanger        WES  \n",
       "2  POOR GOF (70.4%)  Sanger        WES  \n",
       "3  POOR GOF (70.4%)  Sanger        WES  \n",
       "4  POOR GOF (70.4%)  Sanger        WES  \n",
       "\n",
       "[5 rows x 23 columns]"
      ]
     },
     "execution_count": 19,
     "metadata": {},
     "output_type": "execute_result"
    }
   ],
   "source": [
    "copy_numbers = pd.read_csv(\"WES_pureCN_CNV_genes_20220623.csv\")\n",
    "copy_numbers.head()"
   ]
  },
  {
   "cell_type": "markdown",
   "id": "2ee4345d-a3f9-472d-a466-15142d6afe83",
   "metadata": {},
   "source": [
    "### Get edge index (model-[CopyNumbers]->gene)"
   ]
  },
  {
   "cell_type": "code",
   "execution_count": 20,
   "id": "d4a88811-c2ee-45d3-a73a-c8e766cef098",
   "metadata": {},
   "outputs": [],
   "source": [
    "def get_gene_and_model_merged_df(gene_idx_to_gene_symbol_df, merged_drug_model_df, df):\n",
    "    human_genome_index_merged_df = pd.merge(gene_idx_to_gene_symbol_df, df, on=\"symbol\", how = \"inner\")\n",
    "    human_genome_index_merged_df = human_genome_index_merged_df.rename(columns={\"model_id\": \"SANGER_MODEL_ID\"}) ##rename for join\n",
    "    model_gene_merged_df = pd.merge(human_genome_index_merged_df, merged_drug_model_df, on=\"SANGER_MODEL_ID\", how=\"inner\")\n",
    "    return model_gene_merged_df"
   ]
  },
  {
   "cell_type": "code",
   "execution_count": 21,
   "id": "c62a20f9-3395-4d81-b891-0ffa5bc3ccb7",
   "metadata": {},
   "outputs": [
    {
     "data": {
      "text/plain": [
       "(887292, 2)"
      ]
     },
     "execution_count": 21,
     "metadata": {},
     "output_type": "execute_result"
    }
   ],
   "source": [
    "model_gene_merged_copy_number_df = get_gene_and_model_merged_df(gene_idx_to_gene_symbol_df, merged_drug_model_df, copy_numbers)\n",
    "model_to_gene_copy_number_edge_index = model_gene_merged_copy_number_df.loc[:, [\"model_idx\", \"human_genome_index\"]].values.astype(np.int64)\n",
    "model_to_gene_copy_number_edge_index.shape"
   ]
  },
  {
   "cell_type": "markdown",
   "id": "d0f5f95a-c45a-4350-8f3a-290a63ebd1b2",
   "metadata": {},
   "source": [
    "### Get edge attributes (model-[CopyNumbers]->gene)"
   ]
  },
  {
   "cell_type": "code",
   "execution_count": 22,
   "id": "5bb18868-44e0-4471-9cba-7700d8e7c982",
   "metadata": {},
   "outputs": [
    {
     "data": {
      "text/plain": [
       "(887292, 8)"
      ]
     },
     "execution_count": 22,
     "metadata": {},
     "output_type": "execute_result"
    }
   ],
   "source": [
    "reduced_model_gene_attributes = model_gene_merged_copy_number_df.loc[:, ['total_copy_number',\n",
    "       'minor_copy_number', 'cn_category', 'seg_mean', 'gene_mean', 'num_targets', 'num_snps', 'gatk_mean_log2_copy_ratio']]\n",
    "reduced_model_gene_attributes = categorize_columns(reduced_model_gene_attributes, [\"cn_category\"])\n",
    "reduced_model_gene_attributes = reduced_model_gene_attributes.fillna(0)\n",
    "reduced_model_gene_attributes = z_scale(reduced_model_gene_attributes, reduced_model_gene_attributes.columns)\n",
    "copy_number_edge_attributes = reduced_model_gene_attributes.values\n",
    "copy_number_edge_attributes.shape"
   ]
  },
  {
   "cell_type": "markdown",
   "id": "e38b19ee-40f1-4dc3-9e7d-d72f06e3850c",
   "metadata": {},
   "source": [
    "### Read mutations"
   ]
  },
  {
   "cell_type": "code",
   "execution_count": 23,
   "id": "24eb7bf2-0828-437d-8d47-7f0b8b99cebf",
   "metadata": {},
   "outputs": [
    {
     "data": {
      "text/html": [
       "<div>\n",
       "<style scoped>\n",
       "    .dataframe tbody tr th:only-of-type {\n",
       "        vertical-align: middle;\n",
       "    }\n",
       "\n",
       "    .dataframe tbody tr th {\n",
       "        vertical-align: top;\n",
       "    }\n",
       "\n",
       "    .dataframe thead th {\n",
       "        text-align: right;\n",
       "    }\n",
       "</style>\n",
       "<table border=\"1\" class=\"dataframe\">\n",
       "  <thead>\n",
       "    <tr style=\"text-align: right;\">\n",
       "      <th></th>\n",
       "      <th>gene_id</th>\n",
       "      <th>symbol</th>\n",
       "      <th>model_id</th>\n",
       "      <th>protein_mutation</th>\n",
       "      <th>rna_mutation</th>\n",
       "      <th>cdna_mutation</th>\n",
       "      <th>cancer_driver</th>\n",
       "      <th>cancer_predisposition_variant</th>\n",
       "      <th>effect</th>\n",
       "      <th>vaf</th>\n",
       "      <th>coding</th>\n",
       "      <th>source</th>\n",
       "      <th>model_name</th>\n",
       "    </tr>\n",
       "  </thead>\n",
       "  <tbody>\n",
       "    <tr>\n",
       "      <th>0</th>\n",
       "      <td>SIDG13960</td>\n",
       "      <td>KRAS</td>\n",
       "      <td>SIDM02080</td>\n",
       "      <td>p.Q61H</td>\n",
       "      <td>r.373a&gt;c</td>\n",
       "      <td>c.183A&gt;C</td>\n",
       "      <td>True</td>\n",
       "      <td>False</td>\n",
       "      <td>missense</td>\n",
       "      <td>1.0000</td>\n",
       "      <td>True</td>\n",
       "      <td>Sanger</td>\n",
       "      <td>HCM-SANG-1308-C25</td>\n",
       "    </tr>\n",
       "    <tr>\n",
       "      <th>1</th>\n",
       "      <td>SIDG38363</td>\n",
       "      <td>TP53</td>\n",
       "      <td>SIDM02080</td>\n",
       "      <td>p.E204*</td>\n",
       "      <td>r.800g&gt;u</td>\n",
       "      <td>c.610G&gt;T</td>\n",
       "      <td>True</td>\n",
       "      <td>False</td>\n",
       "      <td>nonsense</td>\n",
       "      <td>1.0000</td>\n",
       "      <td>True</td>\n",
       "      <td>Sanger</td>\n",
       "      <td>HCM-SANG-1308-C25</td>\n",
       "    </tr>\n",
       "    <tr>\n",
       "      <th>2</th>\n",
       "      <td>SIDG35070</td>\n",
       "      <td>SMAD4</td>\n",
       "      <td>SIDM02080</td>\n",
       "      <td>p.?</td>\n",
       "      <td>r.1494-2a&gt;g</td>\n",
       "      <td>c.956-2A&gt;G</td>\n",
       "      <td>True</td>\n",
       "      <td>False</td>\n",
       "      <td>ess_splice</td>\n",
       "      <td>1.0000</td>\n",
       "      <td>True</td>\n",
       "      <td>Sanger</td>\n",
       "      <td>HCM-SANG-1308-C25</td>\n",
       "    </tr>\n",
       "    <tr>\n",
       "      <th>3</th>\n",
       "      <td>SIDG25750</td>\n",
       "      <td>PREX2</td>\n",
       "      <td>SIDM02080</td>\n",
       "      <td>p.E553K</td>\n",
       "      <td>r.2006g&gt;a</td>\n",
       "      <td>c.1657G&gt;A</td>\n",
       "      <td>True</td>\n",
       "      <td>False</td>\n",
       "      <td>missense</td>\n",
       "      <td>0.2911</td>\n",
       "      <td>True</td>\n",
       "      <td>Sanger</td>\n",
       "      <td>HCM-SANG-1308-C25</td>\n",
       "    </tr>\n",
       "    <tr>\n",
       "      <th>4</th>\n",
       "      <td>SIDG01214</td>\n",
       "      <td>APC</td>\n",
       "      <td>SIDM02066</td>\n",
       "      <td>p.R790fs*8</td>\n",
       "      <td>r.2425_2426delAG</td>\n",
       "      <td>c.2366_2367delAG</td>\n",
       "      <td>True</td>\n",
       "      <td>False</td>\n",
       "      <td>frameshift</td>\n",
       "      <td>1.0000</td>\n",
       "      <td>True</td>\n",
       "      <td>Sanger</td>\n",
       "      <td>HCM-SANG-1313-C18</td>\n",
       "    </tr>\n",
       "  </tbody>\n",
       "</table>\n",
       "</div>"
      ],
      "text/plain": [
       "     gene_id symbol   model_id protein_mutation      rna_mutation  \\\n",
       "0  SIDG13960   KRAS  SIDM02080           p.Q61H          r.373a>c   \n",
       "1  SIDG38363   TP53  SIDM02080          p.E204*          r.800g>u   \n",
       "2  SIDG35070  SMAD4  SIDM02080              p.?       r.1494-2a>g   \n",
       "3  SIDG25750  PREX2  SIDM02080          p.E553K         r.2006g>a   \n",
       "4  SIDG01214    APC  SIDM02066       p.R790fs*8  r.2425_2426delAG   \n",
       "\n",
       "      cdna_mutation  cancer_driver  cancer_predisposition_variant      effect  \\\n",
       "0          c.183A>C           True                          False    missense   \n",
       "1          c.610G>T           True                          False    nonsense   \n",
       "2        c.956-2A>G           True                          False  ess_splice   \n",
       "3         c.1657G>A           True                          False    missense   \n",
       "4  c.2366_2367delAG           True                          False  frameshift   \n",
       "\n",
       "      vaf  coding  source         model_name  \n",
       "0  1.0000    True  Sanger  HCM-SANG-1308-C25  \n",
       "1  1.0000    True  Sanger  HCM-SANG-1308-C25  \n",
       "2  1.0000    True  Sanger  HCM-SANG-1308-C25  \n",
       "3  0.2911    True  Sanger  HCM-SANG-1308-C25  \n",
       "4  1.0000    True  Sanger  HCM-SANG-1313-C18  "
      ]
     },
     "execution_count": 23,
     "metadata": {},
     "output_type": "execute_result"
    }
   ],
   "source": [
    "mutations = pd.read_csv(\"mutations_summary_20221018.csv\")\n",
    "mutations = mutations.rename(columns={\"gene_symbol\": \"symbol\"})\n",
    "mutations.head()"
   ]
  },
  {
   "cell_type": "markdown",
   "id": "3ebc93e5-1763-4867-bcdc-e8467e65ca1d",
   "metadata": {},
   "source": [
    "### Get edge index (model-[Mutations]->gene)"
   ]
  },
  {
   "cell_type": "code",
   "execution_count": 24,
   "id": "8ceb435d-01a5-4c96-874d-b1f1bf7e5530",
   "metadata": {},
   "outputs": [
    {
     "data": {
      "text/plain": [
       "(9183, 2)"
      ]
     },
     "execution_count": 24,
     "metadata": {},
     "output_type": "execute_result"
    }
   ],
   "source": [
    "model_gene_merged_mutations_df = get_gene_and_model_merged_df(gene_idx_to_gene_symbol_df, merged_drug_model_df, mutations)\n",
    "model_to_gene_mutations_edge_index = model_gene_merged_mutations_df.loc[:, [\"model_idx\", \"human_genome_index\"]].values.astype(np.int64)\n",
    "model_to_gene_mutations_edge_index.shape"
   ]
  },
  {
   "cell_type": "code",
   "execution_count": 25,
   "id": "033e8217-1ba4-4e22-b3e8-686a5184b769",
   "metadata": {},
   "outputs": [
    {
     "data": {
      "text/plain": [
       "protein_mutation                 0\n",
       "rna_mutation                     0\n",
       "cdna_mutation                    0\n",
       "cancer_driver                    0\n",
       "cancer_predisposition_variant    0\n",
       "effect                           0\n",
       "vaf                              0\n",
       "dtype: int64"
      ]
     },
     "execution_count": 25,
     "metadata": {},
     "output_type": "execute_result"
    }
   ],
   "source": [
    "model_gene_merged_mutations_df.loc[:, [\"protein_mutation\", \"rna_mutation\", \"cdna_mutation\", \"cancer_driver\", \"cancer_predisposition_variant\", \"effect\", \"vaf\"]].isnull().sum()"
   ]
  },
  {
   "cell_type": "markdown",
   "id": "11fb6dbe-2fd2-4915-8f94-8817c1744e70",
   "metadata": {},
   "source": [
    "### Get edge attributes (model-[Mutations]->gene)"
   ]
  },
  {
   "cell_type": "code",
   "execution_count": 26,
   "id": "b4327178-6920-41d4-81ea-576c4f9e41de",
   "metadata": {},
   "outputs": [
    {
     "data": {
      "text/plain": [
       "(9183, 7)"
      ]
     },
     "execution_count": 26,
     "metadata": {},
     "output_type": "execute_result"
    }
   ],
   "source": [
    "mutations_edge_attributes = model_gene_merged_mutations_df.loc[:, [\"protein_mutation\", \"rna_mutation\", \"cdna_mutation\", \"cancer_driver\", \"cancer_predisposition_variant\", \"effect\", \"vaf\"]]\n",
    "mutations_edge_attributes = categorize_columns(mutations_edge_attributes,[\"protein_mutation\", \"rna_mutation\", \"cdna_mutation\", \"cancer_driver\", \"cancer_predisposition_variant\", \"effect\"])\n",
    "mutations_edge_attributes = z_scale(mutations_edge_attributes, mutations_edge_attributes.columns).values\n",
    "mutations_edge_attributes.shape"
   ]
  },
  {
   "cell_type": "markdown",
   "id": "3550c6da-5eab-475e-80cf-46de873e31ff",
   "metadata": {},
   "source": [
    "### Read Gene expression data"
   ]
  },
  {
   "cell_type": "code",
   "execution_count": 27,
   "id": "f767e84a-e9e4-4232-851b-0471b192677c",
   "metadata": {
    "scrolled": true
   },
   "outputs": [
    {
     "data": {
      "text/html": [
       "<div>\n",
       "<style scoped>\n",
       "    .dataframe tbody tr th:only-of-type {\n",
       "        vertical-align: middle;\n",
       "    }\n",
       "\n",
       "    .dataframe tbody tr th {\n",
       "        vertical-align: top;\n",
       "    }\n",
       "\n",
       "    .dataframe thead th {\n",
       "        text-align: right;\n",
       "    }\n",
       "</style>\n",
       "<table border=\"1\" class=\"dataframe\">\n",
       "  <thead>\n",
       "    <tr style=\"text-align: right;\">\n",
       "      <th></th>\n",
       "      <th>1</th>\n",
       "      <th>2</th>\n",
       "      <th>3</th>\n",
       "      <th>4</th>\n",
       "      <th>5</th>\n",
       "      <th>6</th>\n",
       "      <th>7</th>\n",
       "      <th>8</th>\n",
       "      <th>9</th>\n",
       "      <th>10</th>\n",
       "      <th>...</th>\n",
       "      <th>1423</th>\n",
       "      <th>1424</th>\n",
       "      <th>1425</th>\n",
       "      <th>1426</th>\n",
       "      <th>1427</th>\n",
       "      <th>1428</th>\n",
       "      <th>1429</th>\n",
       "      <th>1430</th>\n",
       "      <th>1431</th>\n",
       "      <th>1432</th>\n",
       "    </tr>\n",
       "    <tr>\n",
       "      <th>0</th>\n",
       "      <th></th>\n",
       "      <th></th>\n",
       "      <th></th>\n",
       "      <th></th>\n",
       "      <th></th>\n",
       "      <th></th>\n",
       "      <th></th>\n",
       "      <th></th>\n",
       "      <th></th>\n",
       "      <th></th>\n",
       "      <th></th>\n",
       "      <th></th>\n",
       "      <th></th>\n",
       "      <th></th>\n",
       "      <th></th>\n",
       "      <th></th>\n",
       "      <th></th>\n",
       "      <th></th>\n",
       "      <th></th>\n",
       "      <th></th>\n",
       "      <th></th>\n",
       "    </tr>\n",
       "  </thead>\n",
       "  <tbody>\n",
       "    <tr>\n",
       "      <th>model_id</th>\n",
       "      <td>NaN</td>\n",
       "      <td>SIDM00001</td>\n",
       "      <td>SIDM00002</td>\n",
       "      <td>SIDM00003</td>\n",
       "      <td>SIDM00005</td>\n",
       "      <td>SIDM00006</td>\n",
       "      <td>SIDM00007</td>\n",
       "      <td>SIDM00008</td>\n",
       "      <td>SIDM00009</td>\n",
       "      <td>SIDM00011</td>\n",
       "      <td>...</td>\n",
       "      <td>SIDM02071</td>\n",
       "      <td>SIDM02072</td>\n",
       "      <td>SIDM02073</td>\n",
       "      <td>SIDM02074</td>\n",
       "      <td>SIDM02075</td>\n",
       "      <td>SIDM02076</td>\n",
       "      <td>SIDM02077</td>\n",
       "      <td>SIDM02078</td>\n",
       "      <td>SIDM02079</td>\n",
       "      <td>SIDM02080</td>\n",
       "    </tr>\n",
       "    <tr>\n",
       "      <th>model_name</th>\n",
       "      <td>NaN</td>\n",
       "      <td>MEC-1</td>\n",
       "      <td>NBsusSR</td>\n",
       "      <td>M14</td>\n",
       "      <td>MDA-MB-134-VI</td>\n",
       "      <td>MCC26</td>\n",
       "      <td>MCC13</td>\n",
       "      <td>MCAS</td>\n",
       "      <td>MC-1010</td>\n",
       "      <td>Malme-3M</td>\n",
       "      <td>...</td>\n",
       "      <td>HCM-SANG-1325-C15</td>\n",
       "      <td>HCM-SANG-1331-C18</td>\n",
       "      <td>HCM-SANG-1337-C18</td>\n",
       "      <td>HCM-SANG-1326-C15</td>\n",
       "      <td>HCM-SANG-1300-C18</td>\n",
       "      <td>HCM-SANG-1322-C15</td>\n",
       "      <td>HCM-SANG-1332-C18</td>\n",
       "      <td>HCM-SANG-1095-C25</td>\n",
       "      <td>HCM-SANG-1336-C15</td>\n",
       "      <td>HCM-SANG-1308-C25</td>\n",
       "    </tr>\n",
       "    <tr>\n",
       "      <th>dataset_name</th>\n",
       "      <td>NaN</td>\n",
       "      <td>Sanger &amp; Broad Cell Lines RNASeq</td>\n",
       "      <td>Sanger &amp; Broad Cell Lines RNASeq</td>\n",
       "      <td>Sanger &amp; Broad Cell Lines RNASeq</td>\n",
       "      <td>Sanger &amp; Broad Cell Lines RNASeq</td>\n",
       "      <td>Sanger &amp; Broad Cell Lines RNASeq</td>\n",
       "      <td>Sanger &amp; Broad Cell Lines RNASeq</td>\n",
       "      <td>Sanger &amp; Broad Cell Lines RNASeq</td>\n",
       "      <td>Sanger &amp; Broad Cell Lines RNASeq</td>\n",
       "      <td>Sanger &amp; Broad Cell Lines RNASeq</td>\n",
       "      <td>...</td>\n",
       "      <td>Sanger Organoid RNASeq</td>\n",
       "      <td>Sanger Organoid RNASeq</td>\n",
       "      <td>Sanger Organoid RNASeq</td>\n",
       "      <td>Sanger Organoid RNASeq</td>\n",
       "      <td>Sanger Organoid RNASeq</td>\n",
       "      <td>Sanger Organoid RNASeq</td>\n",
       "      <td>Sanger Organoid RNASeq</td>\n",
       "      <td>Sanger Organoid RNASeq</td>\n",
       "      <td>Sanger Organoid RNASeq</td>\n",
       "      <td>Sanger Organoid RNASeq</td>\n",
       "    </tr>\n",
       "    <tr>\n",
       "      <th>data_source</th>\n",
       "      <td>NaN</td>\n",
       "      <td>Broad</td>\n",
       "      <td>Sanger</td>\n",
       "      <td>Sanger</td>\n",
       "      <td>Broad</td>\n",
       "      <td>Sanger</td>\n",
       "      <td>Sanger</td>\n",
       "      <td>Broad</td>\n",
       "      <td>Sanger</td>\n",
       "      <td>Broad</td>\n",
       "      <td>...</td>\n",
       "      <td>Sanger</td>\n",
       "      <td>Sanger</td>\n",
       "      <td>Sanger</td>\n",
       "      <td>Sanger</td>\n",
       "      <td>Sanger</td>\n",
       "      <td>Sanger</td>\n",
       "      <td>Sanger</td>\n",
       "      <td>Sanger</td>\n",
       "      <td>Sanger</td>\n",
       "      <td>Sanger</td>\n",
       "    </tr>\n",
       "    <tr>\n",
       "      <th>gene_id</th>\n",
       "      <td>symbol</td>\n",
       "      <td>NaN</td>\n",
       "      <td>NaN</td>\n",
       "      <td>NaN</td>\n",
       "      <td>NaN</td>\n",
       "      <td>NaN</td>\n",
       "      <td>NaN</td>\n",
       "      <td>NaN</td>\n",
       "      <td>NaN</td>\n",
       "      <td>NaN</td>\n",
       "      <td>...</td>\n",
       "      <td>NaN</td>\n",
       "      <td>NaN</td>\n",
       "      <td>NaN</td>\n",
       "      <td>NaN</td>\n",
       "      <td>NaN</td>\n",
       "      <td>NaN</td>\n",
       "      <td>NaN</td>\n",
       "      <td>NaN</td>\n",
       "      <td>NaN</td>\n",
       "      <td>NaN</td>\n",
       "    </tr>\n",
       "  </tbody>\n",
       "</table>\n",
       "<p>5 rows × 1432 columns</p>\n",
       "</div>"
      ],
      "text/plain": [
       "                1                                 2     \\\n",
       "0                                                        \n",
       "model_id         NaN                         SIDM00001   \n",
       "model_name       NaN                             MEC-1   \n",
       "dataset_name     NaN  Sanger & Broad Cell Lines RNASeq   \n",
       "data_source      NaN                             Broad   \n",
       "gene_id       symbol                               NaN   \n",
       "\n",
       "                                          3     \\\n",
       "0                                                \n",
       "model_id                             SIDM00002   \n",
       "model_name                             NBsusSR   \n",
       "dataset_name  Sanger & Broad Cell Lines RNASeq   \n",
       "data_source                             Sanger   \n",
       "gene_id                                    NaN   \n",
       "\n",
       "                                          4     \\\n",
       "0                                                \n",
       "model_id                             SIDM00003   \n",
       "model_name                                 M14   \n",
       "dataset_name  Sanger & Broad Cell Lines RNASeq   \n",
       "data_source                             Sanger   \n",
       "gene_id                                    NaN   \n",
       "\n",
       "                                          5     \\\n",
       "0                                                \n",
       "model_id                             SIDM00005   \n",
       "model_name                       MDA-MB-134-VI   \n",
       "dataset_name  Sanger & Broad Cell Lines RNASeq   \n",
       "data_source                              Broad   \n",
       "gene_id                                    NaN   \n",
       "\n",
       "                                          6     \\\n",
       "0                                                \n",
       "model_id                             SIDM00006   \n",
       "model_name                               MCC26   \n",
       "dataset_name  Sanger & Broad Cell Lines RNASeq   \n",
       "data_source                             Sanger   \n",
       "gene_id                                    NaN   \n",
       "\n",
       "                                          7     \\\n",
       "0                                                \n",
       "model_id                             SIDM00007   \n",
       "model_name                               MCC13   \n",
       "dataset_name  Sanger & Broad Cell Lines RNASeq   \n",
       "data_source                             Sanger   \n",
       "gene_id                                    NaN   \n",
       "\n",
       "                                          8     \\\n",
       "0                                                \n",
       "model_id                             SIDM00008   \n",
       "model_name                                MCAS   \n",
       "dataset_name  Sanger & Broad Cell Lines RNASeq   \n",
       "data_source                              Broad   \n",
       "gene_id                                    NaN   \n",
       "\n",
       "                                          9     \\\n",
       "0                                                \n",
       "model_id                             SIDM00009   \n",
       "model_name                             MC-1010   \n",
       "dataset_name  Sanger & Broad Cell Lines RNASeq   \n",
       "data_source                             Sanger   \n",
       "gene_id                                    NaN   \n",
       "\n",
       "                                          10    ...                    1423  \\\n",
       "0                                               ...                           \n",
       "model_id                             SIDM00011  ...               SIDM02071   \n",
       "model_name                            Malme-3M  ...       HCM-SANG-1325-C15   \n",
       "dataset_name  Sanger & Broad Cell Lines RNASeq  ...  Sanger Organoid RNASeq   \n",
       "data_source                              Broad  ...                  Sanger   \n",
       "gene_id                                    NaN  ...                     NaN   \n",
       "\n",
       "                                1424                    1425  \\\n",
       "0                                                              \n",
       "model_id                   SIDM02072               SIDM02073   \n",
       "model_name         HCM-SANG-1331-C18       HCM-SANG-1337-C18   \n",
       "dataset_name  Sanger Organoid RNASeq  Sanger Organoid RNASeq   \n",
       "data_source                   Sanger                  Sanger   \n",
       "gene_id                          NaN                     NaN   \n",
       "\n",
       "                                1426                    1427  \\\n",
       "0                                                              \n",
       "model_id                   SIDM02074               SIDM02075   \n",
       "model_name         HCM-SANG-1326-C15       HCM-SANG-1300-C18   \n",
       "dataset_name  Sanger Organoid RNASeq  Sanger Organoid RNASeq   \n",
       "data_source                   Sanger                  Sanger   \n",
       "gene_id                          NaN                     NaN   \n",
       "\n",
       "                                1428                    1429  \\\n",
       "0                                                              \n",
       "model_id                   SIDM02076               SIDM02077   \n",
       "model_name         HCM-SANG-1322-C15       HCM-SANG-1332-C18   \n",
       "dataset_name  Sanger Organoid RNASeq  Sanger Organoid RNASeq   \n",
       "data_source                   Sanger                  Sanger   \n",
       "gene_id                          NaN                     NaN   \n",
       "\n",
       "                                1430                    1431  \\\n",
       "0                                                              \n",
       "model_id                   SIDM02078               SIDM02079   \n",
       "model_name         HCM-SANG-1095-C25       HCM-SANG-1336-C15   \n",
       "dataset_name  Sanger Organoid RNASeq  Sanger Organoid RNASeq   \n",
       "data_source                   Sanger                  Sanger   \n",
       "gene_id                          NaN                     NaN   \n",
       "\n",
       "                                1432  \n",
       "0                                     \n",
       "model_id                   SIDM02080  \n",
       "model_name         HCM-SANG-1308-C25  \n",
       "dataset_name  Sanger Organoid RNASeq  \n",
       "data_source                   Sanger  \n",
       "gene_id                          NaN  \n",
       "\n",
       "[5 rows x 1432 columns]"
      ]
     },
     "execution_count": 27,
     "metadata": {},
     "output_type": "execute_result"
    }
   ],
   "source": [
    "rna_seq_df = pd.read_csv(\"rnaseq_tpm_20220624.csv\",index_col=0, header = None,low_memory=False)\n",
    "rna_seq_df.head()"
   ]
  },
  {
   "cell_type": "code",
   "execution_count": 28,
   "id": "599bf06c-7e33-4c62-9256-4bfa362a5afe",
   "metadata": {},
   "outputs": [],
   "source": [
    "def get_transformed_df_in_model_gene_value_format(rna_seq_df):\n",
    "    rna_seq_df_transposed = rna_seq_df.transpose().iloc[0:, :]\n",
    "    new_header = rna_seq_df_transposed.iloc[0, :] \n",
    "    rna_seq_df_transposed = rna_seq_df_transposed.iloc[1:, :] \n",
    "    rna_seq_df_transposed.columns = new_header\n",
    "    rna_seq_df_transposed = rna_seq_df_transposed.iloc[:, [0, *list(range(5, new_header.shape[0]))]]\n",
    "    rna_seq_df_transposed = rna_seq_df_transposed.rename(columns={rna_seq_df_transposed.columns[0]: \"SANGER_MODEL_ID\"})\n",
    "    rna_seq_df_transposed_stacked = rna_seq_df_transposed.set_index('SANGER_MODEL_ID').stack().reset_index(name='ExpressionValue')\n",
    "    rna_seq_df_transposed_stacked = rna_seq_df_transposed_stacked.rename(columns={1:'symbol'})\n",
    "    return rna_seq_df_transposed_stacked"
   ]
  },
  {
   "cell_type": "code",
   "execution_count": 29,
   "id": "10fa0820-d74b-4b14-aab2-ffc5ff45cdff",
   "metadata": {},
   "outputs": [],
   "source": [
    "transformed_seq_data = get_transformed_df_in_model_gene_value_format(rna_seq_df)"
   ]
  },
  {
   "cell_type": "markdown",
   "id": "f69bfb0e-ba6b-4960-acec-18a3686c49cf",
   "metadata": {},
   "source": [
    "### Get edge index (model-[Expression]->gene)"
   ]
  },
  {
   "cell_type": "code",
   "execution_count": 30,
   "id": "8fe472ab-2599-4bfb-bec4-420ca6b12d3b",
   "metadata": {},
   "outputs": [
    {
     "data": {
      "text/plain": [
       "(22177890, 2)"
      ]
     },
     "execution_count": 30,
     "metadata": {},
     "output_type": "execute_result"
    }
   ],
   "source": [
    "model_gene_merged_exprssion_df = get_gene_and_model_merged_df(gene_idx_to_gene_symbol_df, merged_drug_model_df, transformed_seq_data)\n",
    "gene_expression_model_edge_index = model_gene_merged_exprssion_df.loc[:,[\"model_idx\", \"human_genome_index\"]].values.astype(np.int64)\n",
    "gene_expression_model_edge_index.shape"
   ]
  },
  {
   "cell_type": "markdown",
   "id": "72d4715a-4074-4592-964b-586826ed06db",
   "metadata": {},
   "source": [
    "### Get edge attributes (model-[Expression]->gene)"
   ]
  },
  {
   "cell_type": "code",
   "execution_count": 31,
   "id": "533b582f-9dab-482c-bd98-13636e064ec2",
   "metadata": {},
   "outputs": [
    {
     "data": {
      "text/plain": [
       "(22177890, 1)"
      ]
     },
     "execution_count": 31,
     "metadata": {},
     "output_type": "execute_result"
    }
   ],
   "source": [
    "import torch\n",
    "device = torch.device(\"cpu\") #torch.device(\"cuda:1\")\n",
    "gene_expression_torch = torch.from_numpy(model_gene_merged_exprssion_df.loc[:, [\"ExpressionValue\"]].astype(float).values).to(device)\n",
    "gene_expression_model_edge_attributes_torch = (gene_expression_torch - gene_expression_torch.mean()) / gene_expression_torch.std()\n",
    "gene_expression_model_edge_attributes = gene_expression_model_edge_attributes_torch.cpu().numpy()\n",
    "gene_expression_model_edge_attributes.shape"
   ]
  },
  {
   "cell_type": "markdown",
   "id": "35056ef3-db3e-4825-9981-04f77cc97174",
   "metadata": {},
   "source": [
    "## Create graph"
   ]
  },
  {
   "cell_type": "code",
   "execution_count": 32,
   "id": "df2d0f8f-b0be-430b-8214-77c70faef03d",
   "metadata": {},
   "outputs": [],
   "source": [
    "from torch_geometric.data import HeteroData\n",
    "from sklearn.preprocessing import StandardScaler\n",
    "\n",
    "standard_scaler = StandardScaler()\n",
    "data = HeteroData()\n",
    "data['model'].x = torch.from_numpy(standard_scaler.fit_transform(model_and_target_features)).type(torch.float)\n",
    "data['gene'].x = torch.from_numpy(standard_scaler.fit_transform(gene_features)).type(torch.float)\n",
    "data['model', 'copy_number', 'gene'].edge_index = torch.transpose(torch.from_numpy(model_to_gene_copy_number_edge_index).type(torch.long), 0, -1)\n",
    "data['model', 'mutation', 'gene'].edge_index = torch.transpose(torch.from_numpy(model_to_gene_mutations_edge_index).type(torch.long), 0, -1)\n",
    "data['model', 'expression', 'gene'].edge_index = torch.transpose(torch.from_numpy(gene_expression_model_edge_index).type(torch.long), 0, -1)\n",
    "\n",
    "data['model', 'copy_number', 'gene'].edge_attr = torch.from_numpy(copy_number_edge_attributes).type(torch.float)\n",
    "data['model', 'mutation', 'gene'].edge_attr = torch.from_numpy(mutations_edge_attributes).type(torch.float)\n",
    "data['model', 'expression', 'gene'].edge_attr = torch.from_numpy(gene_expression_model_edge_attributes).type(torch.float)\n",
    "\n",
    "data['gene', 'copy_number', 'model'].edge_index = torch.transpose(reverse_edge_index(torch.from_numpy(model_to_gene_copy_number_edge_index)).type(torch.long), 0, -1)\n",
    "data['gene', 'mutation', 'model'].edge_index = torch.transpose(reverse_edge_index(torch.from_numpy(model_to_gene_mutations_edge_index)).type(torch.long), 0, -1)\n",
    "data['gene', 'expression', 'model'].edge_index = torch.transpose(reverse_edge_index(torch.from_numpy(gene_expression_model_edge_index)).type(torch.long), 0, -1)\n",
    "\n",
    "data['gene', 'copy_number', 'model'].edge_attr = torch.from_numpy(copy_number_edge_attributes).type(torch.float)\n",
    "data['gene', 'mutation', 'model'].edge_attr = torch.from_numpy(mutations_edge_attributes).type(torch.float)\n",
    "data['gene', 'expression', 'model'].edge_attr = torch.from_numpy(gene_expression_model_edge_attributes).type(torch.float)\n",
    "\n",
    "# label_leak_cn = torch.index_select(y, 0 , data['gene', 'copy_number', 'model'].edge_index[1])\n",
    "# data['gene', 'copy_number', 'model'].edge_attr = torch.concat((data['gene', 'copy_number', 'model'].edge_attr, label_leak_cn.unsqueeze(1)), dim = 1)\n",
    "\n",
    "y = torch.from_numpy(target_labels).type(torch.float)\n",
    "data['model'].y = y"
   ]
  },
  {
   "cell_type": "markdown",
   "id": "aebfb603-80a3-4946-b4b9-d53f30f9355e",
   "metadata": {},
   "source": [
    "## train, val test split"
   ]
  },
  {
   "cell_type": "code",
   "execution_count": 33,
   "id": "f18c8a70-6849-4762-b395-f065651d78e3",
   "metadata": {},
   "outputs": [
    {
     "data": {
      "text/plain": [
       "(torch.Size([726]), torch.Size([243]))"
      ]
     },
     "execution_count": 33,
     "metadata": {},
     "output_type": "execute_result"
    }
   ],
   "source": [
    "from sklearn.model_selection import train_test_split\n",
    "train_indices, test_indices = train_test_split(torch.arange(y.shape[0]), random_state = 42, test_size=0.25)\n",
    "train_indices.shape, test_indices.shape"
   ]
  },
  {
   "cell_type": "markdown",
   "id": "86b7e341-1762-4f58-9a55-6f1ecb5267cc",
   "metadata": {},
   "source": [
    "## Construct GNN"
   ]
  },
  {
   "cell_type": "code",
   "execution_count": 160,
   "id": "1c5125fa-efeb-4eba-9757-f1a956a9298c",
   "metadata": {},
   "outputs": [],
   "source": [
    "from torch import nn\n",
    "import torch.nn.functional as F\n",
    "from torch_geometric.nn import Linear, GATConv\n",
    "class GNN(nn.Module): ## After reading I would prefer RGATConv!\n",
    "    ## Architecture ideas - skip connections, dropout, elu/relu, HEATConv/GAT/RGATConv/Custom, Weight initialization (e.g., Glorot/Bengio)\n",
    "    def __init__(self, hidden_dim = 32,heads = 1, out_dim = 1, dropout = 0):\n",
    "        super(GNN, self).__init__()\n",
    "        self.lin_features = Linear(-1, hidden_dim)\n",
    "        self.lin_edge_attr = Linear(-1, hidden_dim)\n",
    "        self.conv = GATConv(hidden_dim, hidden_dim, heads = heads, add_self_loops = False, dropout = dropout)\n",
    "        self.lin_conv = Linear(hidden_dim*heads, hidden_dim)\n",
    "        # self.lin_conv_2 = Linear(hidden_dim, hidden_dim)\n",
    "        self.lin_end = Linear(hidden_dim*heads, out_dim)\n",
    "        self.dropout = nn.Dropout(dropout)\n",
    "\n",
    "    def forward(self, x, edge_index, edge_attr):\n",
    "        x = F.elu(self.lin_features(x))\n",
    "        edge_attr = F.elu(self.lin_edge_attr(edge_attr))\n",
    "        x = self.conv(x, edge_index, edge_attr) + x\n",
    "        # x = self.dropout(x)\n",
    "        # x = F.elu(x) \n",
    "        # x = self.lin_conv(x) \n",
    "        # x = F.elu(x) \n",
    "        # x = self.dropout(x)\n",
    "        x = self.lin_end(x)\n",
    "        return x"
   ]
  },
  {
   "cell_type": "code",
   "execution_count": 59,
   "id": "ac2e0b2a-4d83-4c6e-ba91-e704a2348f53",
   "metadata": {},
   "outputs": [],
   "source": [
    "from torch import nn\n",
    "import torch.nn.functional as F\n",
    "from torch_geometric.nn import Linear, GATConv\n",
    "class GNN(nn.Module): ## After reading I would prefer RGATConv!\n",
    "    ## Architecture ideas - skip connections, dropout, elu/relu, HEATConv/GAT/RGATConv/Custom, Weight initialization (e.g., Glorot/Bengio)\n",
    "    def __init__(self, hidden_dim = 32,heads = 1, out_dim = 1, dropout = 0):\n",
    "        super(GNN, self).__init__()\n",
    "        self.lin_features = Linear(-1, hidden_dim)\n",
    "        self.lin_edge_attr = Linear(-1, hidden_dim)\n",
    "        self.conv = GATConv(hidden_dim, hidden_dim, heads = heads, add_self_loops = False, dropout = dropout)\n",
    "        self.lin_conv = Linear(hidden_dim*heads, hidden_dim)\n",
    "        # self.lin_conv_2 = Linear(hidden_dim, hidden_dim)\n",
    "        self.lin_end = Linear(hidden_dim, out_dim)\n",
    "        self.dropout = nn.Dropout(dropout)\n",
    "\n",
    "    def forward(self, x, edge_index, edge_attr):\n",
    "        x = F.elu(self.lin_features(x))\n",
    "        edge_attr = F.elu(self.lin_edge_attr(edge_attr))\n",
    "        x = self.conv(x, edge_index, edge_attr)\n",
    "        x = self.dropout(x)\n",
    "        x = self.lin_conv(x)\n",
    "        x = F.elu(x) \n",
    "        x = self.dropout(x)\n",
    "        x = self.lin_end(x)\n",
    "        return x"
   ]
  },
  {
   "cell_type": "code",
   "execution_count": 88,
   "id": "f8ba53da-fc01-425f-915e-0644fe0c0962",
   "metadata": {},
   "outputs": [],
   "source": [
    "import torch\n",
    "from torch.nn import Parameter\n",
    "from torch_geometric.nn import MessagePassing\n",
    "from torch_geometric.utils import add_self_loops, degree\n",
    "from torch_geometric.nn import Linear\n",
    "\n",
    "class CustomGNNConv(MessagePassing):\n",
    "    \n",
    "    def __init__(self, hidden_dim, out_channels):\n",
    "        ## message aggregator\n",
    "        super().__init__(aggr='add')\n",
    "        self.lin = Linear(-1, hidden_dim)\n",
    "        self.lin_edge_features = Linear(-1, hidden_dim)\n",
    "\n",
    "        self.out = Linear(hidden_dim , out_channels)\n",
    "        self.reset_parameters()\n",
    "\n",
    "    def reset_parameters(self):\n",
    "        self.lin.reset_parameters()\n",
    "        self.lin_edge_features.reset_parameters()\n",
    "\n",
    "    def forward(self, x, edge_index, edge_attr):\n",
    "\n",
    "        # Linearly transform node features and edge attributes to have the same hidden dimension. (JUST simplification for now bight be problem to transform 1-dim GE data to N dims)\n",
    "        # x = self.lin(x)\n",
    "        # edge_attr = self.lin_edge_features(edge_attr)\n",
    "        \n",
    "        # Start propagating messages.\n",
    "        print(x[0].shape)\n",
    "        print(x[1].shape)\n",
    "        out = x[0] #self.propagate(edge_index, x=x, edge_attr = edge_attr) \n",
    "        return self.out(out)\n",
    "\n",
    "    ## theta / message formation\n",
    "    def message(self, x_j, edge_attr):\n",
    "        return torch.cat([x_j, edge_attr], dim = 1)\n",
    "\n",
    "    # ## gamma / embedding update\n",
    "    def update(self, aggr_out, x_i, edge_attr):\n",
    "        return  aggr_out"
   ]
  },
  {
   "cell_type": "code",
   "execution_count": 90,
   "id": "bb9a0e14-a90d-49eb-a956-f0895332c8f8",
   "metadata": {},
   "outputs": [],
   "source": [
    "from torch import nn\n",
    "import torch.nn.functional as F\n",
    "from torch_geometric.nn import Linear, GATConv\n",
    "from torch_geometric.nn.norm.batch_norm import BatchNorm\n",
    "\n",
    "class CustomGNN(nn.Module):\n",
    "    def __init__(self, hidden_dim = 32, out_dim = 1, dropout = 0):\n",
    "        super().__init__()\n",
    "        self.batch_norm1 = BatchNorm(hidden_dim) \n",
    "        self.lin_features = Linear(-1, hidden_dim)\n",
    "        self.lin_edge_attr = Linear(-1, hidden_dim)\n",
    "        \n",
    "        self.conv = CustomGNNConv(hidden_dim, out_dim)\n",
    "        self.lin_end = Linear(hidden_dim, out_dim)\n",
    "        self.dropout = nn.Dropout(dropout)\n",
    "\n",
    "    def forward(self, x, edge_index, edge_attr):\n",
    "        x = F.relu(self.lin_features(x))\n",
    "        edge_attr = F.relu(self.lin_edge_attr(edge_attr))\n",
    "\n",
    "        # x = self.batch_norm1(x)\n",
    "        # # edge_attr = self.batch_norm1(edge_attr)\n",
    "        x = self.conv(x, edge_index, edge_attr)\n",
    "        # x = self.dropout(x)\n",
    "        # x = F.relu(x)\n",
    "        # x = self.batch_norm1(x)\n",
    "        # x = self.conv(x, edge_index, edge_attr) + x\n",
    "        # x = self.dropout(x)\n",
    "        # x = F.relu(x)\n",
    "        # x = self.batch_norm1(x)\n",
    "        # x = self.lin_end(x)\n",
    "        return x"
   ]
  },
  {
   "cell_type": "code",
   "execution_count": 141,
   "id": "74a07c47-d6fa-4106-84f4-b4fdba947a5e",
   "metadata": {},
   "outputs": [],
   "source": [
    "import torch\n",
    "from torch.nn import Parameter\n",
    "from torch_geometric.nn import MessagePassing\n",
    "from torch_geometric.utils import add_self_loops, degree\n",
    "from torch_geometric.nn import Linear\n",
    "from torch_geometric.utils import degree\n",
    "\n",
    "# This function is copied from https://github.com/gordicaleksa/pytorch-GAT/blob/main/The%20Annotated%20GAT%20(PPI).ipynb\n",
    "## Thanks to Aleksa Gordic for the implementation!\n",
    "def explicit_broadcast(this, other):\n",
    "    # Append singleton dimensions until this.dim() == other.dim()\n",
    "    for _ in range(this.dim(), other.dim()):\n",
    "        this = this.unsqueeze(-1)\n",
    "\n",
    "    # Explicitly expand so that shapes are the same\n",
    "    return this.expand_as(other)\n",
    "\n",
    "def describe(tensor):\n",
    "    return f\"{tensor.mean()} +- {tensor.std()} [{tensor.min()}, {tensor.max()}]\"\n",
    "    \n",
    "class HeteroCustomGNN(torch.nn.Module):\n",
    "    \n",
    "    def __init__(self, hidden_dim, out_channels, x_dict, edge_attr_dict, dropout):\n",
    "        ## message aggregator\n",
    "        super().__init__()\n",
    "        self.dropout = torch.nn.Dropout(dropout)\n",
    "        self.in_dict = torch.nn.ModuleDict()\n",
    "        for key in x_dict:\n",
    "            self.in_dict[key] = torch.nn.Linear(x_dict[key].shape[1], hidden_dim)\n",
    "\n",
    "        self.in_edge_attr_dict = torch.nn.ModuleDict()\n",
    "        for key in edge_attr_dict:\n",
    "            self.in_edge_attr_dict[str(key)] = torch.nn.Linear(edge_attr_dict[key].shape[1], hidden_dim)\n",
    "\n",
    "        self.message_dict = torch.nn.ModuleDict()\n",
    "        for key in edge_attr_dict:\n",
    "            self.message_dict[str(key)] = torch.nn.Linear(hidden_dim*2, hidden_dim)\n",
    "            \n",
    "        self.out_dict = torch.nn.ModuleDict()\n",
    "        for key in x_dict:\n",
    "            self.out_dict[key] = torch.nn.Linear(hidden_dim , out_channels)\n",
    "\n",
    "    def forward(self, x_dict, edge_index_dict, edge_attr_dict):\n",
    "        ## First hidden representations (linear transformations)\n",
    "        for key in x_dict:\n",
    "            x_dict[key] = self.dropout(x_dict[key])\n",
    "            x_dict[key] = self.in_dict[key](x_dict[key])\n",
    "            \n",
    "        for key in edge_attr_dict:\n",
    "            edge_attr_dict[key] = self.dropout(edge_attr_dict[key])\n",
    "            edge_attr_dict[key] = self.in_edge_attr_dict[str(key)](edge_attr_dict[key])\n",
    "\n",
    "        ## Activations\n",
    "        for key in x_dict:\n",
    "            x_dict[key] = torch.relu(x_dict[key])\n",
    "            \n",
    "        for key in edge_attr_dict:\n",
    "            edge_attr_dict[key] =  torch.relu(edge_attr_dict[key])\n",
    "\n",
    "        ##Message generation\n",
    "        message_dict = dict()\n",
    "        for key in edge_index_dict:\n",
    "            source, edge, target = key\n",
    "            edge_index = edge_index_dict[key]\n",
    "            # edge_dropout = torch.ones(edge_index.shape[1], device = device)\n",
    "            # edge_dropout = self.dropout(edge_dropout)\n",
    "            \n",
    "            source_lift = torch.index_select(x_dict[source], 0, edge_index[0])\n",
    "            target_lift = torch.index_select(x_dict[target], 0, edge_index[1])\n",
    "                   \n",
    "            # messages = source_lift + target_lift + edge_attr_dict[key]\n",
    "            messages = torch.cat([source_lift, edge_attr_dict[key]], dim = 1)\n",
    "            messages = self.dropout(messages) #*explicit_broadcast(edge_dropout, messages)\n",
    "            messages = torch.relu(self.message_dict[str(key)](messages))\n",
    "            aggregated_messages = torch.zeros_like(x_dict[target], device = device, dtype=x_dict[target].dtype)\n",
    "            \n",
    "            broadcasted_target_index = explicit_broadcast(edge_index[1], messages)\n",
    "            aggregated_messages.scatter_reduce_(0, broadcasted_target_index, messages, \"mean\")\n",
    "            message_dict[key] = (aggregated_messages - aggregated_messages.min() ) / (aggregated_messages.max() - aggregated_messages.min() )\n",
    "            # print(describe(message_dict[key]))\n",
    "            \n",
    "            \n",
    "        ## Message aggregation\n",
    "        message_aggr_dict = dict()\n",
    "        for key in message_dict:\n",
    "            source, edge, target = key\n",
    "            messages_for_target = message_dict[key]\n",
    "            previous_message_aggr_target = message_aggr_dict.get(target, torch.zeros_like(messages_for_target, device = device))\n",
    "            message_aggr_dict[target] = previous_message_aggr_target + messages_for_target\n",
    "            # print(describe(message_aggr_dict[target]))\n",
    "\n",
    "        ## Message passing\n",
    "        for key in x_dict:\n",
    "            x_dict[key] = x_dict[key] + message_aggr_dict[key]\n",
    "            # print(describe(x_dict[key]))\n",
    "            \n",
    "        ## Out\n",
    "        for key in x_dict:\n",
    "            x_dict[key] = self.out_dict[key](x_dict[key])\n",
    "        return x_dict"
   ]
  },
  {
   "cell_type": "code",
   "execution_count": 90,
   "id": "2f77d736-a56d-4473-8986-115175a0c0dc",
   "metadata": {},
   "outputs": [
    {
     "data": {
      "text/plain": [
       "torch.Size([5, 13])"
      ]
     },
     "execution_count": 90,
     "metadata": {},
     "output_type": "execute_result"
    }
   ],
   "source": [
    "a = torch.ones(5,3)\n",
    "b = torch.ones(5,10)\n",
    "torch.cat([a,b], dim = 1).shape"
   ]
  },
  {
   "cell_type": "markdown",
   "id": "3f4ce4e1-d03b-48f7-82f7-1b1958cf382c",
   "metadata": {},
   "source": [
    "## K-fold cross validation"
   ]
  },
  {
   "cell_type": "code",
   "execution_count": 35,
   "id": "83f0d1e4-3f3f-456d-aa43-c0089d0fcb35",
   "metadata": {},
   "outputs": [],
   "source": [
    "device = torch.device(\"cuda:2\")\n",
    "loss_fn = torch.nn.MSELoss(reduction=\"mean\")"
   ]
  },
  {
   "cell_type": "code",
   "execution_count": 36,
   "id": "a2897733-7f47-48b3-8511-2bbb12021f68",
   "metadata": {},
   "outputs": [],
   "source": [
    "from torch_geometric.loader import HGTLoader\n",
    "\n",
    "def get_loaders(train_data, train_index, val_index, batch_size):\n",
    "    \n",
    "    train_loader = HGTLoader(\n",
    "        train_data,\n",
    "        # Sample 10_000_000 nodes per type and per batch for 1 hop\n",
    "        num_samples={key: [batch_size*10_000_000] for key in data.node_types},\n",
    "        batch_size=batch_size,\n",
    "        input_nodes=('model', train_index),\n",
    "    )\n",
    "\n",
    "    val_loader = HGTLoader(\n",
    "        train_data,\n",
    "        num_samples={key: [batch_size*10_000_000] for key in data.node_types},\n",
    "        batch_size=batch_size,\n",
    "        input_nodes=('model', val_index),\n",
    "    )\n",
    "\n",
    "    hetero_train_loader_iterator = iter(train_loader)\n",
    "    hetero_val_loader_iterator = iter(val_loader)\n",
    "    \n",
    "    return (list(hetero_train_loader_iterator), list(hetero_val_loader_iterator))\n",
    "    "
   ]
  },
  {
   "cell_type": "code",
   "execution_count": 79,
   "id": "f90da468-3cda-4fd7-b1ce-a7de8bb29409",
   "metadata": {},
   "outputs": [],
   "source": [
    "import copy\n",
    "def train_k(train_loader, hyperparameters):\n",
    "    global device\n",
    "    model = copy.deepcopy(hyperparameters[\"model\"]).to(device)\n",
    "    optim = torch.optim.Adam(params=model.parameters(), lr = hyperparameters[\"lr\"], weight_decay=hyperparameters[\"wd\"])\n",
    "    loss_list = []\n",
    "    for epoch in tqdm(range(hyperparameters[\"epochs\"])):\n",
    "        acc_loss = 0\n",
    "        batch_size = 0 \n",
    "        \n",
    "        for batch in train_loader:\n",
    "            optim.zero_grad()\n",
    "            batch = batch.to(device)\n",
    "            model.train()\n",
    "            out =  model(batch.x_dict, batch.edge_index_dict, batch.edge_attr_dict)\n",
    "            loss = loss_fn(out[\"model\"].squeeze(),batch[\"model\"].y)\n",
    "            acc_loss += loss.item()\n",
    "            batch_size += batch[\"model\"].x.shape[0]\n",
    "            loss.backward()\n",
    "            optim.step()\n",
    "        loss_list.append(acc_loss / batch_size)        \n",
    "        \n",
    "    return model, np.array(loss_list)"
   ]
  },
  {
   "cell_type": "code",
   "execution_count": 80,
   "id": "0919a102-a51f-45b5-93d0-3c19f5c57863",
   "metadata": {},
   "outputs": [],
   "source": [
    "from sklearn.metrics import root_mean_squared_error, mean_squared_error, mean_absolute_error\n",
    "from sklearn.metrics import r2_score\n",
    "\n",
    "def evaluate_k(model, val_loader):\n",
    "    global device\n",
    "    model = model.to(device)\n",
    "    with torch.inference_mode():\n",
    "        true_target_values = []\n",
    "        pred_target_values = []\n",
    "        \n",
    "        for batch in val_loader:\n",
    "            batch = batch.to(device)\n",
    "            model.eval()\n",
    "            pred = model(batch.x_dict, batch.edge_index_dict, batch.edge_attr_dict)\n",
    "            true_target_values.append(batch[\"model\"].y)\n",
    "            pred_target_values.append(pred[\"model\"].squeeze(0).flatten())\n",
    "        \n",
    "        true_target_values = torch.cat(true_target_values, 0).squeeze()\n",
    "        pred_target_values = torch.cat(pred_target_values, 0).squeeze()\n",
    "        \n",
    "        y_true = true_target_values.cpu().numpy()\n",
    "        y_pred = pred_target_values.cpu().numpy()\n",
    "        \n",
    "        rmse = root_mean_squared_error(y_true,y_pred)\n",
    "        mse = mean_squared_error(y_true,y_pred)\n",
    "        mae = mean_absolute_error(y_true,y_pred)\n",
    "        r2 = r2_score(y_true,y_pred)\n",
    "        secondary_scores = {\n",
    "            \"mse\": mse,\n",
    "            \"mae\": mae,\n",
    "            \"r2\": r2,\n",
    "            \"rmse\": rmse\n",
    "        }\n",
    "        return r2, secondary_scores #, (pred_target_values, true_target_values)"
   ]
  },
  {
   "cell_type": "code",
   "execution_count": 140,
   "id": "64afa167-f437-410d-838c-65da250fb045",
   "metadata": {
    "scrolled": true
   },
   "outputs": [
    {
     "data": {
      "application/vnd.jupyter.widget-view+json": {
       "model_id": "5b8fe05a269e4519b74b215eb7fc260b",
       "version_major": 2,
       "version_minor": 0
      },
      "text/plain": [
       "  0%|          | 0/18 [00:00<?, ?it/s]"
      ]
     },
     "metadata": {},
     "output_type": "display_data"
    },
    {
     "name": "stdout",
     "output_type": "stream",
     "text": [
      "##############################\n",
      "{'hidden_dim': 64, 'dropout': 0.0, 'batch_size': 128, 'epochs': 500, 'model': HeteroCustomGNN(\n",
      "  (dropout): Dropout(p=0.0, inplace=False)\n",
      "  (in_dict): ModuleDict(\n",
      "    (model): Linear(in_features=18, out_features=64, bias=True)\n",
      "    (gene): Linear(in_features=3, out_features=64, bias=True)\n",
      "  )\n",
      "  (in_edge_attr_dict): ModuleDict(\n",
      "    (('model', 'copy_number', 'gene')): Linear(in_features=8, out_features=64, bias=True)\n",
      "    (('model', 'mutation', 'gene')): Linear(in_features=7, out_features=64, bias=True)\n",
      "    (('model', 'expression', 'gene')): Linear(in_features=1, out_features=64, bias=True)\n",
      "    (('gene', 'copy_number', 'model')): Linear(in_features=8, out_features=64, bias=True)\n",
      "    (('gene', 'mutation', 'model')): Linear(in_features=7, out_features=64, bias=True)\n",
      "    (('gene', 'expression', 'model')): Linear(in_features=1, out_features=64, bias=True)\n",
      "  )\n",
      "  (message_dict): ModuleDict(\n",
      "    (('model', 'copy_number', 'gene')): Linear(in_features=192, out_features=64, bias=True)\n",
      "    (('model', 'mutation', 'gene')): Linear(in_features=192, out_features=64, bias=True)\n",
      "    (('model', 'expression', 'gene')): Linear(in_features=192, out_features=64, bias=True)\n",
      "    (('gene', 'copy_number', 'model')): Linear(in_features=192, out_features=64, bias=True)\n",
      "    (('gene', 'mutation', 'model')): Linear(in_features=192, out_features=64, bias=True)\n",
      "    (('gene', 'expression', 'model')): Linear(in_features=192, out_features=64, bias=True)\n",
      "  )\n",
      "  (out_dict): ModuleDict(\n",
      "    (model): Linear(in_features=64, out_features=1, bias=True)\n",
      "    (gene): Linear(in_features=64, out_features=1, bias=True)\n",
      "  )\n",
      "), 'lr': 1e-05, 'wd': 0.0001}\n"
     ]
    },
    {
     "data": {
      "application/vnd.jupyter.widget-view+json": {
       "model_id": "e149142b77f54dd2978781fbdf7a432e",
       "version_major": 2,
       "version_minor": 0
      },
      "text/plain": [
       "  0%|          | 0/500 [00:00<?, ?it/s]"
      ]
     },
     "metadata": {},
     "output_type": "display_data"
    },
    {
     "name": "stdout",
     "output_type": "stream",
     "text": [
      "{'mse': 0.39756513, 'mae': 0.49624947, 'r2': -0.044869270797879945, 'rmse': 0.6305277}\n"
     ]
    },
    {
     "data": {
      "application/vnd.jupyter.widget-view+json": {
       "model_id": "a65b1f3b6a444fb48111f91990987073",
       "version_major": 2,
       "version_minor": 0
      },
      "text/plain": [
       "  0%|          | 0/500 [00:00<?, ?it/s]"
      ]
     },
     "metadata": {},
     "output_type": "display_data"
    },
    {
     "name": "stdout",
     "output_type": "stream",
     "text": [
      "{'mse': 0.48996523, 'mae': 0.47661513, 'r2': 0.028366495079994225, 'rmse': 0.6999752}\n"
     ]
    },
    {
     "data": {
      "application/vnd.jupyter.widget-view+json": {
       "model_id": "770517d78842413aa16e0a8803219b60",
       "version_major": 2,
       "version_minor": 0
      },
      "text/plain": [
       "  0%|          | 0/500 [00:00<?, ?it/s]"
      ]
     },
     "metadata": {},
     "output_type": "display_data"
    },
    {
     "name": "stdout",
     "output_type": "stream",
     "text": [
      "{'mse': 0.32712623, 'mae': 0.4524314, 'r2': 0.06916056359689005, 'rmse': 0.5719495}\n"
     ]
    },
    {
     "data": {
      "application/vnd.jupyter.widget-view+json": {
       "model_id": "a2452c3c57dc4e3baad4d2103f737c34",
       "version_major": 2,
       "version_minor": 0
      },
      "text/plain": [
       "  0%|          | 0/500 [00:00<?, ?it/s]"
      ]
     },
     "metadata": {},
     "output_type": "display_data"
    },
    {
     "name": "stdout",
     "output_type": "stream",
     "text": [
      "{'mse': 0.5962647, 'mae': 0.5164337, 'r2': -0.009266159436183585, 'rmse': 0.7721818}\n"
     ]
    },
    {
     "data": {
      "application/vnd.jupyter.widget-view+json": {
       "model_id": "006485cbcd294870b4e7ebc9832ef635",
       "version_major": 2,
       "version_minor": 0
      },
      "text/plain": [
       "  0%|          | 0/500 [00:00<?, ?it/s]"
      ]
     },
     "metadata": {},
     "output_type": "display_data"
    },
    {
     "name": "stdout",
     "output_type": "stream",
     "text": [
      "{'mse': 0.7497034, 'mae': 0.57825756, 'r2': -0.00253700037586424, 'rmse': 0.86585414}\n",
      "##############################\n",
      "{'hidden_dim': 64, 'dropout': 0.0, 'batch_size': 128, 'epochs': 500, 'model': HeteroCustomGNN(\n",
      "  (dropout): Dropout(p=0.0, inplace=False)\n",
      "  (in_dict): ModuleDict(\n",
      "    (model): Linear(in_features=18, out_features=64, bias=True)\n",
      "    (gene): Linear(in_features=3, out_features=64, bias=True)\n",
      "  )\n",
      "  (in_edge_attr_dict): ModuleDict(\n",
      "    (('model', 'copy_number', 'gene')): Linear(in_features=8, out_features=64, bias=True)\n",
      "    (('model', 'mutation', 'gene')): Linear(in_features=7, out_features=64, bias=True)\n",
      "    (('model', 'expression', 'gene')): Linear(in_features=1, out_features=64, bias=True)\n",
      "    (('gene', 'copy_number', 'model')): Linear(in_features=8, out_features=64, bias=True)\n",
      "    (('gene', 'mutation', 'model')): Linear(in_features=7, out_features=64, bias=True)\n",
      "    (('gene', 'expression', 'model')): Linear(in_features=1, out_features=64, bias=True)\n",
      "  )\n",
      "  (message_dict): ModuleDict(\n",
      "    (('model', 'copy_number', 'gene')): Linear(in_features=192, out_features=64, bias=True)\n",
      "    (('model', 'mutation', 'gene')): Linear(in_features=192, out_features=64, bias=True)\n",
      "    (('model', 'expression', 'gene')): Linear(in_features=192, out_features=64, bias=True)\n",
      "    (('gene', 'copy_number', 'model')): Linear(in_features=192, out_features=64, bias=True)\n",
      "    (('gene', 'mutation', 'model')): Linear(in_features=192, out_features=64, bias=True)\n",
      "    (('gene', 'expression', 'model')): Linear(in_features=192, out_features=64, bias=True)\n",
      "  )\n",
      "  (out_dict): ModuleDict(\n",
      "    (model): Linear(in_features=64, out_features=1, bias=True)\n",
      "    (gene): Linear(in_features=64, out_features=1, bias=True)\n",
      "  )\n",
      "), 'lr': 1e-05, 'wd': 0.001}\n"
     ]
    },
    {
     "data": {
      "application/vnd.jupyter.widget-view+json": {
       "model_id": "7a1081864b4c44178ae237a934651a26",
       "version_major": 2,
       "version_minor": 0
      },
      "text/plain": [
       "  0%|          | 0/500 [00:00<?, ?it/s]"
      ]
     },
     "metadata": {},
     "output_type": "display_data"
    },
    {
     "name": "stdout",
     "output_type": "stream",
     "text": [
      "{'mse': 0.3897026, 'mae': 0.4966396, 'r2': -0.02420506471092132, 'rmse': 0.6242616}\n"
     ]
    },
    {
     "data": {
      "application/vnd.jupyter.widget-view+json": {
       "model_id": "f430e0840e104ea0861b978ee2332d01",
       "version_major": 2,
       "version_minor": 0
      },
      "text/plain": [
       "  0%|          | 0/500 [00:00<?, ?it/s]"
      ]
     },
     "metadata": {},
     "output_type": "display_data"
    },
    {
     "name": "stdout",
     "output_type": "stream",
     "text": [
      "{'mse': 0.5021171, 'mae': 0.48750046, 'r2': 0.004268549077940831, 'rmse': 0.7086022}\n"
     ]
    },
    {
     "data": {
      "application/vnd.jupyter.widget-view+json": {
       "model_id": "1ddd22b56154438e9e351b683808603e",
       "version_major": 2,
       "version_minor": 0
      },
      "text/plain": [
       "  0%|          | 0/500 [00:00<?, ?it/s]"
      ]
     },
     "metadata": {},
     "output_type": "display_data"
    },
    {
     "name": "stdout",
     "output_type": "stream",
     "text": [
      "{'mse': 0.32825407, 'mae': 0.44497964, 'r2': 0.06595137852604127, 'rmse': 0.5729346}\n"
     ]
    },
    {
     "data": {
      "application/vnd.jupyter.widget-view+json": {
       "model_id": "0c6f112a907348d2ae48fed0287bbd22",
       "version_major": 2,
       "version_minor": 0
      },
      "text/plain": [
       "  0%|          | 0/500 [00:00<?, ?it/s]"
      ]
     },
     "metadata": {},
     "output_type": "display_data"
    },
    {
     "name": "stdout",
     "output_type": "stream",
     "text": [
      "{'mse': 0.59636986, 'mae': 0.5158662, 'r2': -0.009444124258891406, 'rmse': 0.7722499}\n"
     ]
    },
    {
     "data": {
      "application/vnd.jupyter.widget-view+json": {
       "model_id": "688ff6a608704acda1757c1305b4438f",
       "version_major": 2,
       "version_minor": 0
      },
      "text/plain": [
       "  0%|          | 0/500 [00:00<?, ?it/s]"
      ]
     },
     "metadata": {},
     "output_type": "display_data"
    },
    {
     "name": "stdout",
     "output_type": "stream",
     "text": [
      "{'mse': 0.7565409, 'mae': 0.57672614, 'r2': -0.011680466622448371, 'rmse': 0.8697936}\n",
      "##############################\n",
      "{'hidden_dim': 64, 'dropout': 0.0, 'batch_size': 128, 'epochs': 500, 'model': HeteroCustomGNN(\n",
      "  (dropout): Dropout(p=0.0, inplace=False)\n",
      "  (in_dict): ModuleDict(\n",
      "    (model): Linear(in_features=18, out_features=64, bias=True)\n",
      "    (gene): Linear(in_features=3, out_features=64, bias=True)\n",
      "  )\n",
      "  (in_edge_attr_dict): ModuleDict(\n",
      "    (('model', 'copy_number', 'gene')): Linear(in_features=8, out_features=64, bias=True)\n",
      "    (('model', 'mutation', 'gene')): Linear(in_features=7, out_features=64, bias=True)\n",
      "    (('model', 'expression', 'gene')): Linear(in_features=1, out_features=64, bias=True)\n",
      "    (('gene', 'copy_number', 'model')): Linear(in_features=8, out_features=64, bias=True)\n",
      "    (('gene', 'mutation', 'model')): Linear(in_features=7, out_features=64, bias=True)\n",
      "    (('gene', 'expression', 'model')): Linear(in_features=1, out_features=64, bias=True)\n",
      "  )\n",
      "  (message_dict): ModuleDict(\n",
      "    (('model', 'copy_number', 'gene')): Linear(in_features=192, out_features=64, bias=True)\n",
      "    (('model', 'mutation', 'gene')): Linear(in_features=192, out_features=64, bias=True)\n",
      "    (('model', 'expression', 'gene')): Linear(in_features=192, out_features=64, bias=True)\n",
      "    (('gene', 'copy_number', 'model')): Linear(in_features=192, out_features=64, bias=True)\n",
      "    (('gene', 'mutation', 'model')): Linear(in_features=192, out_features=64, bias=True)\n",
      "    (('gene', 'expression', 'model')): Linear(in_features=192, out_features=64, bias=True)\n",
      "  )\n",
      "  (out_dict): ModuleDict(\n",
      "    (model): Linear(in_features=64, out_features=1, bias=True)\n",
      "    (gene): Linear(in_features=64, out_features=1, bias=True)\n",
      "  )\n",
      "), 'lr': 1e-05, 'wd': 0.0005}\n"
     ]
    },
    {
     "data": {
      "application/vnd.jupyter.widget-view+json": {
       "model_id": "5a1d71b83c434a7ea5b2ceffa1a12a75",
       "version_major": 2,
       "version_minor": 0
      },
      "text/plain": [
       "  0%|          | 0/500 [00:00<?, ?it/s]"
      ]
     },
     "metadata": {},
     "output_type": "display_data"
    },
    {
     "name": "stdout",
     "output_type": "stream",
     "text": [
      "{'mse': 0.3983583, 'mae': 0.4964397, 'r2': -0.046953761975029984, 'rmse': 0.6311563}\n"
     ]
    },
    {
     "data": {
      "application/vnd.jupyter.widget-view+json": {
       "model_id": "cc706e48a9d04eb59168d07842a6f78e",
       "version_major": 2,
       "version_minor": 0
      },
      "text/plain": [
       "  0%|          | 0/500 [00:00<?, ?it/s]"
      ]
     },
     "metadata": {},
     "output_type": "display_data"
    },
    {
     "name": "stdout",
     "output_type": "stream",
     "text": [
      "{'mse': 0.49884564, 'mae': 0.4825346, 'r2': 0.010756037769655502, 'rmse': 0.70629007}\n"
     ]
    },
    {
     "data": {
      "application/vnd.jupyter.widget-view+json": {
       "model_id": "2665ae7cb4444de98c1cbea3871066d0",
       "version_major": 2,
       "version_minor": 0
      },
      "text/plain": [
       "  0%|          | 0/500 [00:00<?, ?it/s]"
      ]
     },
     "metadata": {},
     "output_type": "display_data"
    },
    {
     "name": "stdout",
     "output_type": "stream",
     "text": [
      "{'mse': 0.34107304, 'mae': 0.45058563, 'r2': 0.02947492346423719, 'rmse': 0.5840146}\n"
     ]
    },
    {
     "data": {
      "application/vnd.jupyter.widget-view+json": {
       "model_id": "1a487ab8d14d49e2830ab453dde9bfa4",
       "version_major": 2,
       "version_minor": 0
      },
      "text/plain": [
       "  0%|          | 0/500 [00:00<?, ?it/s]"
      ]
     },
     "metadata": {},
     "output_type": "display_data"
    },
    {
     "name": "stdout",
     "output_type": "stream",
     "text": [
      "{'mse': 0.58821476, 'mae': 0.50064343, 'r2': 0.004359628482286881, 'rmse': 0.7669516}\n"
     ]
    },
    {
     "data": {
      "application/vnd.jupyter.widget-view+json": {
       "model_id": "53143a0b278d423d9937695d72d346de",
       "version_major": 2,
       "version_minor": 0
      },
      "text/plain": [
       "  0%|          | 0/500 [00:00<?, ?it/s]"
      ]
     },
     "metadata": {},
     "output_type": "display_data"
    },
    {
     "name": "stdout",
     "output_type": "stream",
     "text": [
      "{'mse': 0.74946755, 'mae': 0.5750613, 'r2': -0.0022216957277327865, 'rmse': 0.86571795}\n",
      "##############################\n",
      "{'hidden_dim': 64, 'dropout': 0.2, 'batch_size': 128, 'epochs': 500, 'model': HeteroCustomGNN(\n",
      "  (dropout): Dropout(p=0.2, inplace=False)\n",
      "  (in_dict): ModuleDict(\n",
      "    (model): Linear(in_features=18, out_features=64, bias=True)\n",
      "    (gene): Linear(in_features=3, out_features=64, bias=True)\n",
      "  )\n",
      "  (in_edge_attr_dict): ModuleDict(\n",
      "    (('model', 'copy_number', 'gene')): Linear(in_features=8, out_features=64, bias=True)\n",
      "    (('model', 'mutation', 'gene')): Linear(in_features=7, out_features=64, bias=True)\n",
      "    (('model', 'expression', 'gene')): Linear(in_features=1, out_features=64, bias=True)\n",
      "    (('gene', 'copy_number', 'model')): Linear(in_features=8, out_features=64, bias=True)\n",
      "    (('gene', 'mutation', 'model')): Linear(in_features=7, out_features=64, bias=True)\n",
      "    (('gene', 'expression', 'model')): Linear(in_features=1, out_features=64, bias=True)\n",
      "  )\n",
      "  (message_dict): ModuleDict(\n",
      "    (('model', 'copy_number', 'gene')): Linear(in_features=192, out_features=64, bias=True)\n",
      "    (('model', 'mutation', 'gene')): Linear(in_features=192, out_features=64, bias=True)\n",
      "    (('model', 'expression', 'gene')): Linear(in_features=192, out_features=64, bias=True)\n",
      "    (('gene', 'copy_number', 'model')): Linear(in_features=192, out_features=64, bias=True)\n",
      "    (('gene', 'mutation', 'model')): Linear(in_features=192, out_features=64, bias=True)\n",
      "    (('gene', 'expression', 'model')): Linear(in_features=192, out_features=64, bias=True)\n",
      "  )\n",
      "  (out_dict): ModuleDict(\n",
      "    (model): Linear(in_features=64, out_features=1, bias=True)\n",
      "    (gene): Linear(in_features=64, out_features=1, bias=True)\n",
      "  )\n",
      "), 'lr': 1e-05, 'wd': 0.0001}\n"
     ]
    },
    {
     "data": {
      "application/vnd.jupyter.widget-view+json": {
       "model_id": "bd7c0933a6694993888354d7c81c673d",
       "version_major": 2,
       "version_minor": 0
      },
      "text/plain": [
       "  0%|          | 0/500 [00:00<?, ?it/s]"
      ]
     },
     "metadata": {},
     "output_type": "display_data"
    },
    {
     "name": "stdout",
     "output_type": "stream",
     "text": [
      "{'mse': 0.38540447, 'mae': 0.4861867, 'r2': -0.012908921762291303, 'rmse': 0.62080956}\n"
     ]
    },
    {
     "data": {
      "application/vnd.jupyter.widget-view+json": {
       "model_id": "650afda0e885472a8b0ea2defa646cc6",
       "version_major": 2,
       "version_minor": 0
      },
      "text/plain": [
       "  0%|          | 0/500 [00:00<?, ?it/s]"
      ]
     },
     "metadata": {},
     "output_type": "display_data"
    },
    {
     "name": "stdout",
     "output_type": "stream",
     "text": [
      "{'mse': 0.5097809, 'mae': 0.4862915, 'r2': -0.010929198460136735, 'rmse': 0.71398944}\n"
     ]
    },
    {
     "data": {
      "application/vnd.jupyter.widget-view+json": {
       "model_id": "8e06c8e3558048f0995a3df53ed14831",
       "version_major": 2,
       "version_minor": 0
      },
      "text/plain": [
       "  0%|          | 0/500 [00:00<?, ?it/s]"
      ]
     },
     "metadata": {},
     "output_type": "display_data"
    },
    {
     "name": "stdout",
     "output_type": "stream",
     "text": [
      "{'mse': 0.3338367, 'mae': 0.44010073, 'r2': 0.05006583837503653, 'rmse': 0.577786}\n"
     ]
    },
    {
     "data": {
      "application/vnd.jupyter.widget-view+json": {
       "model_id": "c933079f841a444f97e73cf1ebd15ee6",
       "version_major": 2,
       "version_minor": 0
      },
      "text/plain": [
       "  0%|          | 0/500 [00:00<?, ?it/s]"
      ]
     },
     "metadata": {},
     "output_type": "display_data"
    },
    {
     "name": "stdout",
     "output_type": "stream",
     "text": [
      "{'mse': 0.5954291, 'mae': 0.50390995, 'r2': -0.007851703155371093, 'rmse': 0.77164054}\n"
     ]
    },
    {
     "data": {
      "application/vnd.jupyter.widget-view+json": {
       "model_id": "82a4df97a39748c9bd21c16fbeb1267f",
       "version_major": 2,
       "version_minor": 0
      },
      "text/plain": [
       "  0%|          | 0/500 [00:00<?, ?it/s]"
      ]
     },
     "metadata": {},
     "output_type": "display_data"
    },
    {
     "name": "stdout",
     "output_type": "stream",
     "text": [
      "{'mse': 0.7624209, 'mae': 0.58230436, 'r2': -0.01954343443249229, 'rmse': 0.87316716}\n",
      "##############################\n",
      "{'hidden_dim': 64, 'dropout': 0.2, 'batch_size': 128, 'epochs': 500, 'model': HeteroCustomGNN(\n",
      "  (dropout): Dropout(p=0.2, inplace=False)\n",
      "  (in_dict): ModuleDict(\n",
      "    (model): Linear(in_features=18, out_features=64, bias=True)\n",
      "    (gene): Linear(in_features=3, out_features=64, bias=True)\n",
      "  )\n",
      "  (in_edge_attr_dict): ModuleDict(\n",
      "    (('model', 'copy_number', 'gene')): Linear(in_features=8, out_features=64, bias=True)\n",
      "    (('model', 'mutation', 'gene')): Linear(in_features=7, out_features=64, bias=True)\n",
      "    (('model', 'expression', 'gene')): Linear(in_features=1, out_features=64, bias=True)\n",
      "    (('gene', 'copy_number', 'model')): Linear(in_features=8, out_features=64, bias=True)\n",
      "    (('gene', 'mutation', 'model')): Linear(in_features=7, out_features=64, bias=True)\n",
      "    (('gene', 'expression', 'model')): Linear(in_features=1, out_features=64, bias=True)\n",
      "  )\n",
      "  (message_dict): ModuleDict(\n",
      "    (('model', 'copy_number', 'gene')): Linear(in_features=192, out_features=64, bias=True)\n",
      "    (('model', 'mutation', 'gene')): Linear(in_features=192, out_features=64, bias=True)\n",
      "    (('model', 'expression', 'gene')): Linear(in_features=192, out_features=64, bias=True)\n",
      "    (('gene', 'copy_number', 'model')): Linear(in_features=192, out_features=64, bias=True)\n",
      "    (('gene', 'mutation', 'model')): Linear(in_features=192, out_features=64, bias=True)\n",
      "    (('gene', 'expression', 'model')): Linear(in_features=192, out_features=64, bias=True)\n",
      "  )\n",
      "  (out_dict): ModuleDict(\n",
      "    (model): Linear(in_features=64, out_features=1, bias=True)\n",
      "    (gene): Linear(in_features=64, out_features=1, bias=True)\n",
      "  )\n",
      "), 'lr': 1e-05, 'wd': 0.001}\n"
     ]
    },
    {
     "data": {
      "application/vnd.jupyter.widget-view+json": {
       "model_id": "3719d3554d02411b94a901c5d67eb4e0",
       "version_major": 2,
       "version_minor": 0
      },
      "text/plain": [
       "  0%|          | 0/500 [00:00<?, ?it/s]"
      ]
     },
     "metadata": {},
     "output_type": "display_data"
    },
    {
     "name": "stdout",
     "output_type": "stream",
     "text": [
      "{'mse': 0.39273083, 'mae': 0.49564674, 'r2': -0.03216383698871428, 'rmse': 0.6266824}\n"
     ]
    },
    {
     "data": {
      "application/vnd.jupyter.widget-view+json": {
       "model_id": "e397642ff1b243399aceb8d121e8e92c",
       "version_major": 2,
       "version_minor": 0
      },
      "text/plain": [
       "  0%|          | 0/500 [00:00<?, ?it/s]"
      ]
     },
     "metadata": {},
     "output_type": "display_data"
    },
    {
     "name": "stdout",
     "output_type": "stream",
     "text": [
      "{'mse': 0.48502135, 'mae': 0.47065556, 'r2': 0.03817049795965366, 'rmse': 0.69643474}\n"
     ]
    },
    {
     "data": {
      "application/vnd.jupyter.widget-view+json": {
       "model_id": "4681722a40574c119a75cc4cc93d9d54",
       "version_major": 2,
       "version_minor": 0
      },
      "text/plain": [
       "  0%|          | 0/500 [00:00<?, ?it/s]"
      ]
     },
     "metadata": {},
     "output_type": "display_data"
    },
    {
     "name": "stdout",
     "output_type": "stream",
     "text": [
      "{'mse': 0.3211582, 'mae': 0.43351915, 'r2': 0.08614254715613612, 'rmse': 0.5667082}\n"
     ]
    },
    {
     "data": {
      "application/vnd.jupyter.widget-view+json": {
       "model_id": "f40d50f6e4dd47fea360199097f3ee75",
       "version_major": 2,
       "version_minor": 0
      },
      "text/plain": [
       "  0%|          | 0/500 [00:00<?, ?it/s]"
      ]
     },
     "metadata": {},
     "output_type": "display_data"
    },
    {
     "name": "stdout",
     "output_type": "stream",
     "text": [
      "{'mse': 0.59243053, 'mae': 0.5032487, 'r2': -0.002776276747015638, 'rmse': 0.7696951}\n"
     ]
    },
    {
     "data": {
      "application/vnd.jupyter.widget-view+json": {
       "model_id": "114b9546b04144efb6d747d2f59878ea",
       "version_major": 2,
       "version_minor": 0
      },
      "text/plain": [
       "  0%|          | 0/500 [00:00<?, ?it/s]"
      ]
     },
     "metadata": {},
     "output_type": "display_data"
    },
    {
     "name": "stdout",
     "output_type": "stream",
     "text": [
      "{'mse': 0.7634697, 'mae': 0.57781553, 'r2': -0.020945894031849432, 'rmse': 0.87376755}\n",
      "##############################\n",
      "{'hidden_dim': 64, 'dropout': 0.2, 'batch_size': 128, 'epochs': 500, 'model': HeteroCustomGNN(\n",
      "  (dropout): Dropout(p=0.2, inplace=False)\n",
      "  (in_dict): ModuleDict(\n",
      "    (model): Linear(in_features=18, out_features=64, bias=True)\n",
      "    (gene): Linear(in_features=3, out_features=64, bias=True)\n",
      "  )\n",
      "  (in_edge_attr_dict): ModuleDict(\n",
      "    (('model', 'copy_number', 'gene')): Linear(in_features=8, out_features=64, bias=True)\n",
      "    (('model', 'mutation', 'gene')): Linear(in_features=7, out_features=64, bias=True)\n",
      "    (('model', 'expression', 'gene')): Linear(in_features=1, out_features=64, bias=True)\n",
      "    (('gene', 'copy_number', 'model')): Linear(in_features=8, out_features=64, bias=True)\n",
      "    (('gene', 'mutation', 'model')): Linear(in_features=7, out_features=64, bias=True)\n",
      "    (('gene', 'expression', 'model')): Linear(in_features=1, out_features=64, bias=True)\n",
      "  )\n",
      "  (message_dict): ModuleDict(\n",
      "    (('model', 'copy_number', 'gene')): Linear(in_features=192, out_features=64, bias=True)\n",
      "    (('model', 'mutation', 'gene')): Linear(in_features=192, out_features=64, bias=True)\n",
      "    (('model', 'expression', 'gene')): Linear(in_features=192, out_features=64, bias=True)\n",
      "    (('gene', 'copy_number', 'model')): Linear(in_features=192, out_features=64, bias=True)\n",
      "    (('gene', 'mutation', 'model')): Linear(in_features=192, out_features=64, bias=True)\n",
      "    (('gene', 'expression', 'model')): Linear(in_features=192, out_features=64, bias=True)\n",
      "  )\n",
      "  (out_dict): ModuleDict(\n",
      "    (model): Linear(in_features=64, out_features=1, bias=True)\n",
      "    (gene): Linear(in_features=64, out_features=1, bias=True)\n",
      "  )\n",
      "), 'lr': 1e-05, 'wd': 0.0005}\n"
     ]
    },
    {
     "data": {
      "application/vnd.jupyter.widget-view+json": {
       "model_id": "958249015e134a2d8fa283d8c17e3442",
       "version_major": 2,
       "version_minor": 0
      },
      "text/plain": [
       "  0%|          | 0/500 [00:00<?, ?it/s]"
      ]
     },
     "metadata": {},
     "output_type": "display_data"
    },
    {
     "name": "stdout",
     "output_type": "stream",
     "text": [
      "{'mse': 0.40226403, 'mae': 0.49786267, 'r2': -0.0572187507272377, 'rmse': 0.6342429}\n"
     ]
    },
    {
     "data": {
      "application/vnd.jupyter.widget-view+json": {
       "model_id": "9387e23133f04c019cfb06f8d3ae7293",
       "version_major": 2,
       "version_minor": 0
      },
      "text/plain": [
       "  0%|          | 0/500 [00:00<?, ?it/s]"
      ]
     },
     "metadata": {},
     "output_type": "display_data"
    },
    {
     "ename": "KeyboardInterrupt",
     "evalue": "",
     "output_type": "error",
     "traceback": [
      "\u001b[0;31m---------------------------------------------------------------------------\u001b[0m",
      "\u001b[0;31mKeyboardInterrupt\u001b[0m                         Traceback (most recent call last)",
      "Cell \u001b[0;32mIn[140], line 83\u001b[0m\n\u001b[1;32m     80\u001b[0m     \u001b[38;5;28;01mreturn\u001b[39;00m hyperparameter_list\n\u001b[1;32m     82\u001b[0m hyperparameter_list \u001b[38;5;241m=\u001b[39m get_hyperparamer_list(epochs_list, batch_size_list, hidden_dim_list, dropout_list, wd_list, lr_list)\n\u001b[0;32m---> 83\u001b[0m best_hyperparams, best_score \u001b[38;5;241m=\u001b[39m \u001b[43mfind_best_model\u001b[49m\u001b[43m(\u001b[49m\u001b[43mdata\u001b[49m\u001b[43m,\u001b[49m\u001b[43m \u001b[49m\u001b[43mhyperparameter_list\u001b[49m\u001b[43m,\u001b[49m\u001b[43m \u001b[49m\u001b[43mtrain_indices\u001b[49m\u001b[43m)\u001b[49m\n",
      "Cell \u001b[0;32mIn[140], line 26\u001b[0m, in \u001b[0;36mfind_best_model\u001b[0;34m(train_data, hyperparameter_list, train_indices)\u001b[0m\n\u001b[1;32m     24\u001b[0m \u001b[38;5;28mprint\u001b[39m(\u001b[38;5;241m30\u001b[39m\u001b[38;5;241m*\u001b[39m\u001b[38;5;124m\"\u001b[39m\u001b[38;5;124m#\u001b[39m\u001b[38;5;124m\"\u001b[39m)\n\u001b[1;32m     25\u001b[0m \u001b[38;5;28mprint\u001b[39m(hyperparameters)\n\u001b[0;32m---> 26\u001b[0m score \u001b[38;5;241m=\u001b[39m \u001b[43mcheck_hyperparams\u001b[49m\u001b[43m(\u001b[49m\u001b[43mtrain_data\u001b[49m\u001b[43m,\u001b[49m\u001b[43m \u001b[49m\u001b[43mhyperparameters\u001b[49m\u001b[43m,\u001b[49m\u001b[43m \u001b[49m\u001b[43mtrain_indices\u001b[49m\u001b[43m)\u001b[49m\n\u001b[1;32m     27\u001b[0m \u001b[38;5;28;01mif\u001b[39;00m greater_is_better \u001b[38;5;129;01mand\u001b[39;00m score \u001b[38;5;241m>\u001b[39m best_score:\n\u001b[1;32m     28\u001b[0m     best_hyperparams \u001b[38;5;241m=\u001b[39m hyperparameters\n",
      "Cell \u001b[0;32mIn[140], line 13\u001b[0m, in \u001b[0;36mcheck_hyperparams\u001b[0;34m(train_data, hyperparameters, train_indices)\u001b[0m\n\u001b[1;32m     11\u001b[0m val_index \u001b[38;5;241m=\u001b[39m train_indices[val_index]\n\u001b[1;32m     12\u001b[0m train_loader, val_loader \u001b[38;5;241m=\u001b[39m get_loaders(train_data, train_index, val_index, hyperparameters[\u001b[38;5;124m\"\u001b[39m\u001b[38;5;124mbatch_size\u001b[39m\u001b[38;5;124m\"\u001b[39m])\n\u001b[0;32m---> 13\u001b[0m model, loss_list \u001b[38;5;241m=\u001b[39m \u001b[43mtrain_k\u001b[49m\u001b[43m(\u001b[49m\u001b[43mcopy\u001b[49m\u001b[38;5;241;43m.\u001b[39;49m\u001b[43mdeepcopy\u001b[49m\u001b[43m(\u001b[49m\u001b[43mtrain_loader\u001b[49m\u001b[43m)\u001b[49m\u001b[43m,\u001b[49m\u001b[43m \u001b[49m\u001b[43mhyperparameters\u001b[49m\u001b[43m)\u001b[49m\n\u001b[1;32m     14\u001b[0m score, secondary_scores \u001b[38;5;241m=\u001b[39m evaluate_k(model, copy\u001b[38;5;241m.\u001b[39mdeepcopy(val_loader))\n\u001b[1;32m     15\u001b[0m \u001b[38;5;28mprint\u001b[39m(secondary_scores)\n",
      "Cell \u001b[0;32mIn[79], line 15\u001b[0m, in \u001b[0;36mtrain_k\u001b[0;34m(train_loader, hyperparameters)\u001b[0m\n\u001b[1;32m     13\u001b[0m batch \u001b[38;5;241m=\u001b[39m batch\u001b[38;5;241m.\u001b[39mto(device)\n\u001b[1;32m     14\u001b[0m model\u001b[38;5;241m.\u001b[39mtrain()\n\u001b[0;32m---> 15\u001b[0m out \u001b[38;5;241m=\u001b[39m  \u001b[43mmodel\u001b[49m\u001b[43m(\u001b[49m\u001b[43mbatch\u001b[49m\u001b[38;5;241;43m.\u001b[39;49m\u001b[43mx_dict\u001b[49m\u001b[43m,\u001b[49m\u001b[43m \u001b[49m\u001b[43mbatch\u001b[49m\u001b[38;5;241;43m.\u001b[39;49m\u001b[43medge_index_dict\u001b[49m\u001b[43m,\u001b[49m\u001b[43m \u001b[49m\u001b[43mbatch\u001b[49m\u001b[38;5;241;43m.\u001b[39;49m\u001b[43medge_attr_dict\u001b[49m\u001b[43m)\u001b[49m\n\u001b[1;32m     16\u001b[0m loss \u001b[38;5;241m=\u001b[39m loss_fn(out[\u001b[38;5;124m\"\u001b[39m\u001b[38;5;124mmodel\u001b[39m\u001b[38;5;124m\"\u001b[39m]\u001b[38;5;241m.\u001b[39msqueeze(),batch[\u001b[38;5;124m\"\u001b[39m\u001b[38;5;124mmodel\u001b[39m\u001b[38;5;124m\"\u001b[39m]\u001b[38;5;241m.\u001b[39my)\n\u001b[1;32m     17\u001b[0m acc_loss \u001b[38;5;241m+\u001b[39m\u001b[38;5;241m=\u001b[39m loss\u001b[38;5;241m.\u001b[39mitem()\n",
      "File \u001b[0;32m~/.local/lib/python3.10/site-packages/torch/nn/modules/module.py:1518\u001b[0m, in \u001b[0;36mModule._wrapped_call_impl\u001b[0;34m(self, *args, **kwargs)\u001b[0m\n\u001b[1;32m   1516\u001b[0m     \u001b[38;5;28;01mreturn\u001b[39;00m \u001b[38;5;28mself\u001b[39m\u001b[38;5;241m.\u001b[39m_compiled_call_impl(\u001b[38;5;241m*\u001b[39margs, \u001b[38;5;241m*\u001b[39m\u001b[38;5;241m*\u001b[39mkwargs)  \u001b[38;5;66;03m# type: ignore[misc]\u001b[39;00m\n\u001b[1;32m   1517\u001b[0m \u001b[38;5;28;01melse\u001b[39;00m:\n\u001b[0;32m-> 1518\u001b[0m     \u001b[38;5;28;01mreturn\u001b[39;00m \u001b[38;5;28;43mself\u001b[39;49m\u001b[38;5;241;43m.\u001b[39;49m\u001b[43m_call_impl\u001b[49m\u001b[43m(\u001b[49m\u001b[38;5;241;43m*\u001b[39;49m\u001b[43margs\u001b[49m\u001b[43m,\u001b[49m\u001b[43m \u001b[49m\u001b[38;5;241;43m*\u001b[39;49m\u001b[38;5;241;43m*\u001b[39;49m\u001b[43mkwargs\u001b[49m\u001b[43m)\u001b[49m\n",
      "File \u001b[0;32m~/.local/lib/python3.10/site-packages/torch/nn/modules/module.py:1527\u001b[0m, in \u001b[0;36mModule._call_impl\u001b[0;34m(self, *args, **kwargs)\u001b[0m\n\u001b[1;32m   1522\u001b[0m \u001b[38;5;66;03m# If we don't have any hooks, we want to skip the rest of the logic in\u001b[39;00m\n\u001b[1;32m   1523\u001b[0m \u001b[38;5;66;03m# this function, and just call forward.\u001b[39;00m\n\u001b[1;32m   1524\u001b[0m \u001b[38;5;28;01mif\u001b[39;00m \u001b[38;5;129;01mnot\u001b[39;00m (\u001b[38;5;28mself\u001b[39m\u001b[38;5;241m.\u001b[39m_backward_hooks \u001b[38;5;129;01mor\u001b[39;00m \u001b[38;5;28mself\u001b[39m\u001b[38;5;241m.\u001b[39m_backward_pre_hooks \u001b[38;5;129;01mor\u001b[39;00m \u001b[38;5;28mself\u001b[39m\u001b[38;5;241m.\u001b[39m_forward_hooks \u001b[38;5;129;01mor\u001b[39;00m \u001b[38;5;28mself\u001b[39m\u001b[38;5;241m.\u001b[39m_forward_pre_hooks\n\u001b[1;32m   1525\u001b[0m         \u001b[38;5;129;01mor\u001b[39;00m _global_backward_pre_hooks \u001b[38;5;129;01mor\u001b[39;00m _global_backward_hooks\n\u001b[1;32m   1526\u001b[0m         \u001b[38;5;129;01mor\u001b[39;00m _global_forward_hooks \u001b[38;5;129;01mor\u001b[39;00m _global_forward_pre_hooks):\n\u001b[0;32m-> 1527\u001b[0m     \u001b[38;5;28;01mreturn\u001b[39;00m \u001b[43mforward_call\u001b[49m\u001b[43m(\u001b[49m\u001b[38;5;241;43m*\u001b[39;49m\u001b[43margs\u001b[49m\u001b[43m,\u001b[49m\u001b[43m \u001b[49m\u001b[38;5;241;43m*\u001b[39;49m\u001b[38;5;241;43m*\u001b[39;49m\u001b[43mkwargs\u001b[49m\u001b[43m)\u001b[49m\n\u001b[1;32m   1529\u001b[0m \u001b[38;5;28;01mtry\u001b[39;00m:\n\u001b[1;32m   1530\u001b[0m     result \u001b[38;5;241m=\u001b[39m \u001b[38;5;28;01mNone\u001b[39;00m\n",
      "Cell \u001b[0;32mIn[115], line 74\u001b[0m, in \u001b[0;36mHeteroCustomGNN.forward\u001b[0;34m(self, x_dict, edge_index_dict, edge_attr_dict)\u001b[0m\n\u001b[1;32m     72\u001b[0m messages \u001b[38;5;241m=\u001b[39m torch\u001b[38;5;241m.\u001b[39mcat([source_lift, target_lift, edge_attr_dict[key]], dim \u001b[38;5;241m=\u001b[39m \u001b[38;5;241m1\u001b[39m)\n\u001b[1;32m     73\u001b[0m messages \u001b[38;5;241m=\u001b[39m \u001b[38;5;28mself\u001b[39m\u001b[38;5;241m.\u001b[39mdropout(messages) \u001b[38;5;66;03m#*explicit_broadcast(edge_dropout, messages)\u001b[39;00m\n\u001b[0;32m---> 74\u001b[0m messages \u001b[38;5;241m=\u001b[39m torch\u001b[38;5;241m.\u001b[39mrelu(\u001b[38;5;28;43mself\u001b[39;49m\u001b[38;5;241;43m.\u001b[39;49m\u001b[43mmessage_dict\u001b[49m\u001b[43m[\u001b[49m\u001b[38;5;28;43mstr\u001b[39;49m\u001b[43m(\u001b[49m\u001b[43mkey\u001b[49m\u001b[43m)\u001b[49m\u001b[43m]\u001b[49m\u001b[43m(\u001b[49m\u001b[43mmessages\u001b[49m\u001b[43m)\u001b[49m)\n\u001b[1;32m     75\u001b[0m aggregated_messages \u001b[38;5;241m=\u001b[39m torch\u001b[38;5;241m.\u001b[39mzeros_like(x_dict[target], device \u001b[38;5;241m=\u001b[39m device, dtype\u001b[38;5;241m=\u001b[39mx_dict[target]\u001b[38;5;241m.\u001b[39mdtype)\n\u001b[1;32m     77\u001b[0m broadcasted_target_index \u001b[38;5;241m=\u001b[39m explicit_broadcast(edge_index[\u001b[38;5;241m1\u001b[39m], messages)\n",
      "File \u001b[0;32m~/.local/lib/python3.10/site-packages/torch/nn/modules/module.py:1518\u001b[0m, in \u001b[0;36mModule._wrapped_call_impl\u001b[0;34m(self, *args, **kwargs)\u001b[0m\n\u001b[1;32m   1516\u001b[0m     \u001b[38;5;28;01mreturn\u001b[39;00m \u001b[38;5;28mself\u001b[39m\u001b[38;5;241m.\u001b[39m_compiled_call_impl(\u001b[38;5;241m*\u001b[39margs, \u001b[38;5;241m*\u001b[39m\u001b[38;5;241m*\u001b[39mkwargs)  \u001b[38;5;66;03m# type: ignore[misc]\u001b[39;00m\n\u001b[1;32m   1517\u001b[0m \u001b[38;5;28;01melse\u001b[39;00m:\n\u001b[0;32m-> 1518\u001b[0m     \u001b[38;5;28;01mreturn\u001b[39;00m \u001b[38;5;28;43mself\u001b[39;49m\u001b[38;5;241;43m.\u001b[39;49m\u001b[43m_call_impl\u001b[49m\u001b[43m(\u001b[49m\u001b[38;5;241;43m*\u001b[39;49m\u001b[43margs\u001b[49m\u001b[43m,\u001b[49m\u001b[43m \u001b[49m\u001b[38;5;241;43m*\u001b[39;49m\u001b[38;5;241;43m*\u001b[39;49m\u001b[43mkwargs\u001b[49m\u001b[43m)\u001b[49m\n",
      "File \u001b[0;32m~/.local/lib/python3.10/site-packages/torch/nn/modules/module.py:1527\u001b[0m, in \u001b[0;36mModule._call_impl\u001b[0;34m(self, *args, **kwargs)\u001b[0m\n\u001b[1;32m   1522\u001b[0m \u001b[38;5;66;03m# If we don't have any hooks, we want to skip the rest of the logic in\u001b[39;00m\n\u001b[1;32m   1523\u001b[0m \u001b[38;5;66;03m# this function, and just call forward.\u001b[39;00m\n\u001b[1;32m   1524\u001b[0m \u001b[38;5;28;01mif\u001b[39;00m \u001b[38;5;129;01mnot\u001b[39;00m (\u001b[38;5;28mself\u001b[39m\u001b[38;5;241m.\u001b[39m_backward_hooks \u001b[38;5;129;01mor\u001b[39;00m \u001b[38;5;28mself\u001b[39m\u001b[38;5;241m.\u001b[39m_backward_pre_hooks \u001b[38;5;129;01mor\u001b[39;00m \u001b[38;5;28mself\u001b[39m\u001b[38;5;241m.\u001b[39m_forward_hooks \u001b[38;5;129;01mor\u001b[39;00m \u001b[38;5;28mself\u001b[39m\u001b[38;5;241m.\u001b[39m_forward_pre_hooks\n\u001b[1;32m   1525\u001b[0m         \u001b[38;5;129;01mor\u001b[39;00m _global_backward_pre_hooks \u001b[38;5;129;01mor\u001b[39;00m _global_backward_hooks\n\u001b[1;32m   1526\u001b[0m         \u001b[38;5;129;01mor\u001b[39;00m _global_forward_hooks \u001b[38;5;129;01mor\u001b[39;00m _global_forward_pre_hooks):\n\u001b[0;32m-> 1527\u001b[0m     \u001b[38;5;28;01mreturn\u001b[39;00m \u001b[43mforward_call\u001b[49m\u001b[43m(\u001b[49m\u001b[38;5;241;43m*\u001b[39;49m\u001b[43margs\u001b[49m\u001b[43m,\u001b[49m\u001b[43m \u001b[49m\u001b[38;5;241;43m*\u001b[39;49m\u001b[38;5;241;43m*\u001b[39;49m\u001b[43mkwargs\u001b[49m\u001b[43m)\u001b[49m\n\u001b[1;32m   1529\u001b[0m \u001b[38;5;28;01mtry\u001b[39;00m:\n\u001b[1;32m   1530\u001b[0m     result \u001b[38;5;241m=\u001b[39m \u001b[38;5;28;01mNone\u001b[39;00m\n",
      "File \u001b[0;32m~/.local/lib/python3.10/site-packages/torch/nn/modules/linear.py:114\u001b[0m, in \u001b[0;36mLinear.forward\u001b[0;34m(self, input)\u001b[0m\n\u001b[1;32m    113\u001b[0m \u001b[38;5;28;01mdef\u001b[39;00m \u001b[38;5;21mforward\u001b[39m(\u001b[38;5;28mself\u001b[39m, \u001b[38;5;28minput\u001b[39m: Tensor) \u001b[38;5;241m-\u001b[39m\u001b[38;5;241m>\u001b[39m Tensor:\n\u001b[0;32m--> 114\u001b[0m     \u001b[38;5;28;01mreturn\u001b[39;00m \u001b[43mF\u001b[49m\u001b[38;5;241;43m.\u001b[39;49m\u001b[43mlinear\u001b[49m\u001b[43m(\u001b[49m\u001b[38;5;28;43minput\u001b[39;49m\u001b[43m,\u001b[49m\u001b[43m \u001b[49m\u001b[38;5;28;43mself\u001b[39;49m\u001b[38;5;241;43m.\u001b[39;49m\u001b[43mweight\u001b[49m\u001b[43m,\u001b[49m\u001b[43m \u001b[49m\u001b[38;5;28;43mself\u001b[39;49m\u001b[38;5;241;43m.\u001b[39;49m\u001b[43mbias\u001b[49m\u001b[43m)\u001b[49m\n",
      "\u001b[0;31mKeyboardInterrupt\u001b[0m: "
     ]
    }
   ],
   "source": [
    "from sklearn.model_selection import KFold\n",
    "from tqdm.notebook import tqdm\n",
    "from torch_geometric.nn import to_hetero\n",
    "\n",
    "def check_hyperparams(train_data, hyperparameters, train_indices):\n",
    "    k_fold = KFold(n_splits=5, random_state=0, shuffle=True)\n",
    "    \n",
    "    scores = []\n",
    "    for i, (train_index, val_index) in enumerate(k_fold.split(train_indices)):\n",
    "        train_index = train_indices[train_index]\n",
    "        val_index = train_indices[val_index]\n",
    "        train_loader, val_loader = get_loaders(train_data, train_index, val_index, hyperparameters[\"batch_size\"])\n",
    "        model, loss_list = train_k(copy.deepcopy(train_loader), hyperparameters)\n",
    "        score, secondary_scores = evaluate_k(model, copy.deepcopy(val_loader))\n",
    "        print(secondary_scores)\n",
    "        scores.append(score)\n",
    "    return np.mean(scores)\n",
    "\n",
    "def find_best_model(train_data, hyperparameter_list, train_indices):\n",
    "    greater_is_better = True\n",
    "    best_score = float(\"-inf\") if greater_is_better else float(\"inf\")\n",
    "    best_hyperparams = None\n",
    "    for hyperparameters in tqdm(hyperparameter_list):\n",
    "        print(30*\"#\")\n",
    "        print(hyperparameters)\n",
    "        score = check_hyperparams(train_data, hyperparameters, train_indices)\n",
    "        if greater_is_better and score > best_score:\n",
    "            best_hyperparams = hyperparameters\n",
    "            best_score = score\n",
    "        if not greater_is_better and score < best_score:\n",
    "            best_hyperparams = hyperparameters\n",
    "            best_score = score\n",
    "    return best_hyperparams, best_score\n",
    "\n",
    "## We could also integrate here something fancier like hyperopt but for now lets stick to grid search\n",
    "# epochs_list = [50, 100, 150]\n",
    "# batch_size_list = [64, 128, 256]\n",
    "# aggr_list = [\"sum\"]\n",
    "# heads_list = [4,6,8]\n",
    "# hidden_dim_list = [32, 64, 128]\n",
    "# dropout_list = [0, .2]\n",
    "# wd_list = [0, 5e-5]\n",
    "# lr_list = [3e-3, 3e-4, 3e-5]\n",
    "\n",
    "epochs_list = [ 500]\n",
    "batch_size_list = [128]\n",
    "hidden_dim_list = [64, 128]\n",
    "dropout_list = [0.0, 0.2, 0.4]\n",
    "wd_list = [1e-4, 1e-3, 5e-4]\n",
    "lr_list = [1e-5]\n",
    "\n",
    "def get_hyperparamer_list(epochs_list, batch_size_list, hidden_dim_list, dropout_list, wd_list, lr_list):\n",
    "    hyperparameter_list = []\n",
    "    for epochs in epochs_list:\n",
    "        for batch_size in batch_size_list:\n",
    "            for hidden_dim in hidden_dim_list:\n",
    "                for dropout in dropout_list:\n",
    "                    for wd in wd_list:\n",
    "                        for lr in lr_list:\n",
    "                            torch.manual_seed(0)\n",
    "                            hyperparameters = dict({})\n",
    "                            hyperparameters[\"hidden_dim\"] = hidden_dim\n",
    "                            hyperparameters[\"dropout\"] = dropout\n",
    "                            # model = CustomGNN(heads = heads, hidden_dim=hidden_dim, dropout=dropout)\n",
    "                            model = HeteroCustomGNN(hidden_dim=hyperparameters[\"hidden_dim\"],\n",
    "                                    out_channels=1,\n",
    "                                    x_dict = data.x_dict,\n",
    "                                    edge_attr_dict=data.edge_attr_dict,\n",
    "                                    dropout = hyperparameters[\"dropout\"]).to(device)\n",
    "                            # model = to_hetero(model, data.metadata(), aggr = aggr).to(device)\n",
    "                            \n",
    "                            \n",
    "                            hyperparameters[\"batch_size\"] = batch_size\n",
    "                            hyperparameters[\"epochs\"] = epochs\n",
    "                            hyperparameters[\"model\"] = model\n",
    "                            hyperparameters[\"lr\"] = lr\n",
    "                            hyperparameters[\"wd\"] = wd\n",
    "                            # hyperparameters[\"heads\"] = heads\n",
    "                            hyperparameter_list.append(hyperparameters)\n",
    "    return hyperparameter_list\n",
    "    \n",
    "hyperparameter_list = get_hyperparamer_list(epochs_list, batch_size_list, hidden_dim_list, dropout_list, wd_list, lr_list)\n",
    "best_hyperparams, best_score = find_best_model(data, hyperparameter_list, train_indices)"
   ]
  },
  {
   "cell_type": "code",
   "execution_count": null,
   "id": "a791847c-8de5-4a95-976e-25d8cfb9daff",
   "metadata": {},
   "outputs": [],
   "source": [
    "best_hyperparams, best_score"
   ]
  },
  {
   "cell_type": "code",
   "execution_count": 144,
   "id": "04169565-7fb3-4ebf-ab3c-984f22842a08",
   "metadata": {},
   "outputs": [],
   "source": [
    "from torch_geometric.nn import to_hetero\n",
    "best_hyperparams = dict()\n",
    "best_hyperparams[\"batch_size\"] = 128\n",
    "best_hyperparams[\"epochs\"] = 500\n",
    "best_hyperparams[\"hidden_dim\"] = 512\n",
    "best_hyperparams[\"dropout\"] = 0.2\n",
    "best_hyperparams[\"model\"] = HeteroCustomGNN(hidden_dim=best_hyperparams[\"hidden_dim\"],\n",
    "                                            out_channels=1,\n",
    "                                            x_dict = data.x_dict,\n",
    "                                            edge_attr_dict=data.edge_attr_dict,\n",
    "                                            dropout = best_hyperparams[\"dropout\"]).to(device)\n",
    "best_hyperparams[\"lr\"] = 1e-4\n",
    "best_hyperparams[\"wd\"] = 0.0001\n",
    "best_hyperparams[\"aggr\"] = \"sum\"\n",
    "best_hyperparams[\"heads\"] = 0"
   ]
  },
  {
   "cell_type": "code",
   "execution_count": 145,
   "id": "4ed117e4-aa50-4d2a-808b-a4cf48d03430",
   "metadata": {
    "scrolled": true
   },
   "outputs": [
    {
     "name": "stdout",
     "output_type": "stream",
     "text": [
      "Train evaluation score before: -5.4054 training.\n",
      "['Train evaluation mse score is: 3.3274', 'Train evaluation mae score is: 1.7259', 'Train evaluation r2 score is: -5.4054', 'Train evaluation rmse score is: 1.8241']\n"
     ]
    },
    {
     "data": {
      "application/vnd.jupyter.widget-view+json": {
       "model_id": "d11219a8ed204baf8bbb958b99907ba6",
       "version_major": 2,
       "version_minor": 0
      },
      "text/plain": [
       "  0%|          | 0/500 [00:00<?, ?it/s]"
      ]
     },
     "metadata": {},
     "output_type": "display_data"
    },
    {
     "data": {
      "image/png": "[encoded data removed]",
      "text/plain": [
       "<Figure size 640x480 with 1 Axes>"
      ]
     },
     "metadata": {},
     "output_type": "display_data"
    },
    {
     "name": "stdout",
     "output_type": "stream",
     "text": [
      "Final evaluation score is: 0.0222\n",
      "['Final evaluation mse score is: 0.5156', 'Final evaluation mae score is: 0.5179', 'Final evaluation r2 score is: 0.0222', 'Final evaluation rmse score is: 0.7180']\n",
      "Train evaluation score after: 0.3474 training.\n",
      "['Train evaluation mse score is: 0.3390', 'Train evaluation mae score is: 0.4044', 'Train evaluation r2 score is: 0.3474', 'Train evaluation rmse score is: 0.5822']\n"
     ]
    }
   ],
   "source": [
    "import matplotlib.pyplot as plt\n",
    "from tqdm.notebook import tqdm\n",
    "from torch_geometric.nn import to_hetero\n",
    "\n",
    "def plot_loss(loss_list):\n",
    "    plt.plot(loss_list)\n",
    "    plt.title(\"Train loss\")\n",
    "    plt.ylabel(\"Loss in MSE\")\n",
    "    plt.xlabel(\"Epochs\")\n",
    "    plt.grid()\n",
    "    plt.show()\n",
    "\n",
    "def refit(train_loader, hyperparameters):\n",
    "    model, loss_list = train_k(train_loader, hyperparameters)\n",
    "    return model, loss_list\n",
    "\n",
    "def reevaluate(model, test_loader):\n",
    "    score, sec_scores = evaluate_k(model, test_loader)\n",
    "    return score, sec_scores#, (pred_target_values, true_target_values)\n",
    "    \n",
    "def final_train_and_evaluate(train_loader, test_loader, hyperparameters):\n",
    "    global train_indices, test_indices\n",
    "    model, loss_list = refit(copy.deepcopy(train_loader), hyperparameters)\n",
    "    plot_loss(loss_list)\n",
    "    train_score_after_training, sec_train_scores = reevaluate(model, copy.deepcopy(train_loader))\n",
    "    score, sec_scores = reevaluate(model, test_loader)\n",
    "    \n",
    "    print(f\"Final evaluation score is: {format(score, '.4f')}\")\n",
    "    print([f\"Final evaluation {key} score is: {format(sec_scores[key], '.4f')}\" for key in sec_scores])\n",
    "    print(f\"Train evaluation score after: {format(train_score_after_training, '.4f')} training.\")\n",
    "    print([f\"Train evaluation {key} score is: {format(sec_train_scores[key], '.4f')}\" for key in sec_train_scores])\n",
    "    return loss_list #, (pred_target_values, true_target_values)\n",
    "\n",
    "train_index = train_indices\n",
    "test_index = test_indices\n",
    "train_loader, test_loader = get_loaders(data, train_index, test_index, best_hyperparams[\"batch_size\"])\n",
    "training_score_before_training, sec_train_scores = reevaluate(best_hyperparams[\"model\"], copy.deepcopy(train_loader))\n",
    "print(f\"Train evaluation score before: {format(training_score_before_training, '.4f')} training.\")\n",
    "print([f\"Train evaluation {key} score is: {format(sec_train_scores[key], '.4f')}\" for key in sec_train_scores])\n",
    "loss_list = final_train_and_evaluate(train_loader, test_loader, best_hyperparams)"
   ]
  },
  {
   "cell_type": "code",
   "execution_count": 49,
   "id": "7a2eaef5-66bf-40bb-a7c3-c6ffc24edd6b",
   "metadata": {},
   "outputs": [
    {
     "data": {
      "text/plain": [
       "HeteroData(\n",
       "  model={\n",
       "    x=[969, 18],\n",
       "    y=[969],\n",
       "  },\n",
       "  gene={ x=[24689, 3] },\n",
       "  (model, copy_number, gene)={\n",
       "    edge_index=[2, 887292],\n",
       "    edge_attr=[887292, 8],\n",
       "  },\n",
       "  (model, mutation, gene)={\n",
       "    edge_index=[2, 9183],\n",
       "    edge_attr=[9183, 7],\n",
       "  },\n",
       "  (model, expression, gene)={\n",
       "    edge_index=[2, 22177890],\n",
       "    edge_attr=[22177890, 1],\n",
       "  },\n",
       "  (gene, copy_number, model)={\n",
       "    edge_index=[2, 887292],\n",
       "    edge_attr=[887292, 8],\n",
       "  },\n",
       "  (gene, mutation, model)={\n",
       "    edge_index=[2, 9183],\n",
       "    edge_attr=[9183, 7],\n",
       "  },\n",
       "  (gene, expression, model)={\n",
       "    edge_index=[2, 22177890],\n",
       "    edge_attr=[22177890, 1],\n",
       "  }\n",
       ")"
      ]
     },
     "execution_count": 49,
     "metadata": {},
     "output_type": "execute_result"
    }
   ],
   "source": [
    "data"
   ]
  },
  {
   "cell_type": "code",
   "execution_count": 97,
   "id": "76a24662-cdf3-4a5b-b345-6ab81e78ed66",
   "metadata": {},
   "outputs": [
    {
     "data": {
      "text/html": [
       "<div>\n",
       "<style scoped>\n",
       "    .dataframe tbody tr th:only-of-type {\n",
       "        vertical-align: middle;\n",
       "    }\n",
       "\n",
       "    .dataframe tbody tr th {\n",
       "        vertical-align: top;\n",
       "    }\n",
       "\n",
       "    .dataframe thead th {\n",
       "        text-align: right;\n",
       "    }\n",
       "</style>\n",
       "<table border=\"1\" class=\"dataframe\">\n",
       "  <thead>\n",
       "    <tr style=\"text-align: right;\">\n",
       "      <th></th>\n",
       "      <th>0</th>\n",
       "    </tr>\n",
       "  </thead>\n",
       "  <tbody>\n",
       "    <tr>\n",
       "      <th>-1.288371</th>\n",
       "      <td>-1.335189</td>\n",
       "    </tr>\n",
       "    <tr>\n",
       "      <th>-2.403417</th>\n",
       "      <td>-1.365645</td>\n",
       "    </tr>\n",
       "    <tr>\n",
       "      <th>-1.203532</th>\n",
       "      <td>-0.418303</td>\n",
       "    </tr>\n",
       "    <tr>\n",
       "      <th>-1.716225</th>\n",
       "      <td>-1.233653</td>\n",
       "    </tr>\n",
       "    <tr>\n",
       "      <th>-0.846573</th>\n",
       "      <td>-1.079178</td>\n",
       "    </tr>\n",
       "    <tr>\n",
       "      <th>...</th>\n",
       "      <td>...</td>\n",
       "    </tr>\n",
       "    <tr>\n",
       "      <th>-0.681252</th>\n",
       "      <td>-1.465579</td>\n",
       "    </tr>\n",
       "    <tr>\n",
       "      <th>-2.385594</th>\n",
       "      <td>-1.486140</td>\n",
       "    </tr>\n",
       "    <tr>\n",
       "      <th>-0.569868</th>\n",
       "      <td>-1.326131</td>\n",
       "    </tr>\n",
       "    <tr>\n",
       "      <th>-1.333348</th>\n",
       "      <td>-1.139820</td>\n",
       "    </tr>\n",
       "    <tr>\n",
       "      <th>-0.985949</th>\n",
       "      <td>-1.201678</td>\n",
       "    </tr>\n",
       "  </tbody>\n",
       "</table>\n",
       "<p>100 rows × 1 columns</p>\n",
       "</div>"
      ],
      "text/plain": [
       "                  0\n",
       "-1.288371 -1.335189\n",
       "-2.403417 -1.365645\n",
       "-1.203532 -0.418303\n",
       "-1.716225 -1.233653\n",
       "-0.846573 -1.079178\n",
       "...             ...\n",
       "-0.681252 -1.465579\n",
       "-2.385594 -1.486140\n",
       "-0.569868 -1.326131\n",
       "-1.333348 -1.139820\n",
       "-0.985949 -1.201678\n",
       "\n",
       "[100 rows x 1 columns]"
      ]
     },
     "execution_count": 97,
     "metadata": {},
     "output_type": "execute_result"
    }
   ],
   "source": [
    "pd.DataFrame( pred_target_values.cpu().numpy(), true_target_values.cpu().numpy()).head(100)"
   ]
  },
  {
   "cell_type": "markdown",
   "id": "73bdc7d3-ac9f-42b6-b3b1-bcdc15816843",
   "metadata": {},
   "source": [
    "## Test for Cross validaion index translator"
   ]
  },
  {
   "cell_type": "code",
   "execution_count": 50,
   "id": "0862edff-256a-47d1-be03-1f857c9f351c",
   "metadata": {},
   "outputs": [
    {
     "name": "stdout",
     "output_type": "stream",
     "text": [
      "##############################\n",
      "tensor(True)\n",
      "##############################\n",
      "tensor(True)\n",
      "##############################\n",
      "tensor(True)\n",
      "##############################\n",
      "tensor(True)\n",
      "##############################\n",
      "tensor(True)\n"
     ]
    }
   ],
   "source": [
    "k_fold = KFold(n_splits=5)\n",
    "for (idx, val_idx) in k_fold.split(train_indices):\n",
    "    print(30*\"#\")\n",
    "    # print(train_indices[idx])\n",
    "    # print(train_indices[val_idx])\n",
    "\n",
    "    ## Test\n",
    "    sorted_k_folds = torch.sort(torch.cat([train_indices[idx], train_indices[val_idx]], 0))[0]\n",
    "    sorted_all_indices = torch.sort(train_indices)[0]\n",
    "    mathing_indices = (sorted_all_indices == sorted_k_folds).sum()\n",
    "    print(mathing_indices == train_indices.shape[0])"
   ]
  },
  {
   "cell_type": "markdown",
   "id": "95c28dd7-e1c6-49d5-8677-272914b12ad4",
   "metadata": {},
   "source": [
    "## Empty GPU memory"
   ]
  },
  {
   "cell_type": "code",
   "execution_count": 166,
   "id": "71044706-08b2-47fe-b15b-1f8b3f38bc39",
   "metadata": {},
   "outputs": [],
   "source": [
    "del model, loss_fn, optim\n",
    "torch._C._cuda_clearCublasWorkspaces()\n",
    "torch._dynamo.reset()\n",
    "import gc\n",
    "gc.collect()\n",
    "torch.cuda.empty_cache()"
   ]
  },
  {
   "cell_type": "markdown",
   "id": "51da2cd6-50dd-4452-a424-420ba8855517",
   "metadata": {},
   "source": [
    "## Base model"
   ]
  },
  {
   "cell_type": "code",
   "execution_count": 156,
   "id": "9c372ef3-4f54-4350-8e42-aab34a0d85c3",
   "metadata": {},
   "outputs": [],
   "source": [
    "from sklearn.model_selection import train_test_split\n",
    "from sklearn.preprocessing import normalize, StandardScaler\n",
    "##TODO change to train,. test val indices form above\n",
    "X_train, X_test , y_train, y_test = train_test_split(model_and_target_features, target_labels, random_state=0)\n",
    "standard_scaler = StandardScaler()\n",
    "standard_scaler.fit(X_train)\n",
    "\n",
    "X_train, X_test = standard_scaler.transform(X_train), standard_scaler.transform(X_test)"
   ]
  },
  {
   "cell_type": "code",
   "execution_count": null,
   "id": "57197f56-1227-4af7-a1c4-ee786473989f",
   "metadata": {},
   "outputs": [],
   "source": [
    "from xgboost import XGBRegressor\n",
    "from sklearn.linear_model import LinearRegression\n",
    "from sklearn.neural_network import MLPRegressor\n",
    "\n",
    "base_model = MLPRegressor()\n",
    "base_model.fit(X_train, y_train)"
   ]
  },
  {
   "cell_type": "code",
   "execution_count": 151,
   "id": "9d6d301c-7e81-4eaa-adf3-df049be58a64",
   "metadata": {},
   "outputs": [
    {
     "data": {
      "text/plain": [
       "{'train_rmse': 0.4708735423297854,\n",
       " 'train_r2': 0.5731733450007843,\n",
       " 'test_rmse': 0.7274383223836017,\n",
       " 'test_r2': -0.003541125208400997}"
      ]
     },
     "execution_count": 151,
     "metadata": {},
     "output_type": "execute_result"
    }
   ],
   "source": [
    "from sklearn.metrics import root_mean_squared_error, r2_score\n",
    "{\n",
    "    \"train_rmse\":root_mean_squared_error(y_train, base_model.predict(X_train)),\n",
    "    \"train_r2\":r2_score(y_train, base_model.predict(X_train)),\n",
    "    \"test_rmse\": root_mean_squared_error(y_test, base_model.predict(X_test)),\n",
    "    \"test_r2\":r2_score(y_test, base_model.predict(X_test))\n",
    "}"
   ]
  },
  {
   "cell_type": "markdown",
   "id": "e463cb08-96db-4a77-800c-fb61129bb8b8",
   "metadata": {},
   "source": [
    "## Old code"
   ]
  },
  {
   "cell_type": "code",
   "execution_count": null,
   "id": "46b6248f-3983-4aaf-90d3-838a7979aa8b",
   "metadata": {},
   "outputs": [],
   "source": [
    "raise Exception(\"Keep cell outputs here\")"
   ]
  },
  {
   "cell_type": "code",
   "execution_count": 133,
   "id": "06462886-a61d-42f9-9286-47262e1e80e1",
   "metadata": {},
   "outputs": [
    {
     "data": {
      "text/html": [
       "<div>\n",
       "<style scoped>\n",
       "    .dataframe tbody tr th:only-of-type {\n",
       "        vertical-align: middle;\n",
       "    }\n",
       "\n",
       "    .dataframe tbody tr th {\n",
       "        vertical-align: top;\n",
       "    }\n",
       "\n",
       "    .dataframe thead th {\n",
       "        text-align: right;\n",
       "    }\n",
       "</style>\n",
       "<table border=\"1\" class=\"dataframe\">\n",
       "  <thead>\n",
       "    <tr style=\"text-align: right;\">\n",
       "      <th></th>\n",
       "      <th>DATASET</th>\n",
       "      <th>NLME_RESULT_ID</th>\n",
       "      <th>NLME_CURVE_ID</th>\n",
       "      <th>COSMIC_ID</th>\n",
       "      <th>CELL_LINE_NAME</th>\n",
       "      <th>SANGER_MODEL_ID</th>\n",
       "      <th>TCGA_DESC</th>\n",
       "      <th>DRUG_ID</th>\n",
       "      <th>DRUG_NAME</th>\n",
       "      <th>PUTATIVE_TARGET</th>\n",
       "      <th>...</th>\n",
       "      <th>2175</th>\n",
       "      <th>2177</th>\n",
       "      <th>2359</th>\n",
       "      <th>2360</th>\n",
       "      <th>2361</th>\n",
       "      <th>2362</th>\n",
       "      <th>2438</th>\n",
       "      <th>2439</th>\n",
       "      <th>2498</th>\n",
       "      <th>2499</th>\n",
       "    </tr>\n",
       "  </thead>\n",
       "  <tbody>\n",
       "    <tr>\n",
       "      <th>0</th>\n",
       "      <td>GDSC2</td>\n",
       "      <td>401</td>\n",
       "      <td>18945558</td>\n",
       "      <td>683667</td>\n",
       "      <td>PFSK-1</td>\n",
       "      <td>SIDM01132</td>\n",
       "      <td>MB</td>\n",
       "      <td>1003</td>\n",
       "      <td>Camptothecin</td>\n",
       "      <td>TOP1</td>\n",
       "      <td>...</td>\n",
       "      <td>NaN</td>\n",
       "      <td>2.366388</td>\n",
       "      <td>NaN</td>\n",
       "      <td>NaN</td>\n",
       "      <td>NaN</td>\n",
       "      <td>NaN</td>\n",
       "      <td>NaN</td>\n",
       "      <td>NaN</td>\n",
       "      <td>7.846626</td>\n",
       "      <td>10.613759</td>\n",
       "    </tr>\n",
       "    <tr>\n",
       "      <th>1</th>\n",
       "      <td>GDSC2</td>\n",
       "      <td>401</td>\n",
       "      <td>18945796</td>\n",
       "      <td>684052</td>\n",
       "      <td>A673</td>\n",
       "      <td>SIDM00848</td>\n",
       "      <td>UNCLASSIFIED</td>\n",
       "      <td>1003</td>\n",
       "      <td>Camptothecin</td>\n",
       "      <td>TOP1</td>\n",
       "      <td>...</td>\n",
       "      <td>NaN</td>\n",
       "      <td>1.723942</td>\n",
       "      <td>5.240599</td>\n",
       "      <td>4.432934</td>\n",
       "      <td>4.716167</td>\n",
       "      <td>4.285911</td>\n",
       "      <td>7.793623</td>\n",
       "      <td>9.156372</td>\n",
       "      <td>7.568813</td>\n",
       "      <td>7.063871</td>\n",
       "    </tr>\n",
       "    <tr>\n",
       "      <th>2</th>\n",
       "      <td>GDSC2</td>\n",
       "      <td>401</td>\n",
       "      <td>18946078</td>\n",
       "      <td>684057</td>\n",
       "      <td>ES5</td>\n",
       "      <td>SIDM00263</td>\n",
       "      <td>UNCLASSIFIED</td>\n",
       "      <td>1003</td>\n",
       "      <td>Camptothecin</td>\n",
       "      <td>TOP1</td>\n",
       "      <td>...</td>\n",
       "      <td>4.879849</td>\n",
       "      <td>1.901766</td>\n",
       "      <td>NaN</td>\n",
       "      <td>NaN</td>\n",
       "      <td>NaN</td>\n",
       "      <td>NaN</td>\n",
       "      <td>NaN</td>\n",
       "      <td>NaN</td>\n",
       "      <td>NaN</td>\n",
       "      <td>NaN</td>\n",
       "    </tr>\n",
       "    <tr>\n",
       "      <th>3</th>\n",
       "      <td>GDSC2</td>\n",
       "      <td>401</td>\n",
       "      <td>18946335</td>\n",
       "      <td>684059</td>\n",
       "      <td>ES7</td>\n",
       "      <td>SIDM00269</td>\n",
       "      <td>UNCLASSIFIED</td>\n",
       "      <td>1003</td>\n",
       "      <td>Camptothecin</td>\n",
       "      <td>TOP1</td>\n",
       "      <td>...</td>\n",
       "      <td>NaN</td>\n",
       "      <td>2.133421</td>\n",
       "      <td>4.578782</td>\n",
       "      <td>3.893851</td>\n",
       "      <td>3.137208</td>\n",
       "      <td>2.719145</td>\n",
       "      <td>8.871504</td>\n",
       "      <td>9.302207</td>\n",
       "      <td>6.655762</td>\n",
       "      <td>9.441838</td>\n",
       "    </tr>\n",
       "    <tr>\n",
       "      <th>4</th>\n",
       "      <td>GDSC2</td>\n",
       "      <td>401</td>\n",
       "      <td>18946617</td>\n",
       "      <td>684062</td>\n",
       "      <td>EW-11</td>\n",
       "      <td>SIDM00203</td>\n",
       "      <td>UNCLASSIFIED</td>\n",
       "      <td>1003</td>\n",
       "      <td>Camptothecin</td>\n",
       "      <td>TOP1</td>\n",
       "      <td>...</td>\n",
       "      <td>NaN</td>\n",
       "      <td>1.880307</td>\n",
       "      <td>5.137711</td>\n",
       "      <td>4.863771</td>\n",
       "      <td>5.007426</td>\n",
       "      <td>5.389040</td>\n",
       "      <td>10.462131</td>\n",
       "      <td>9.801610</td>\n",
       "      <td>8.228663</td>\n",
       "      <td>10.817398</td>\n",
       "    </tr>\n",
       "    <tr>\n",
       "      <th>...</th>\n",
       "      <td>...</td>\n",
       "      <td>...</td>\n",
       "      <td>...</td>\n",
       "      <td>...</td>\n",
       "      <td>...</td>\n",
       "      <td>...</td>\n",
       "      <td>...</td>\n",
       "      <td>...</td>\n",
       "      <td>...</td>\n",
       "      <td>...</td>\n",
       "      <td>...</td>\n",
       "      <td>...</td>\n",
       "      <td>...</td>\n",
       "      <td>...</td>\n",
       "      <td>...</td>\n",
       "      <td>...</td>\n",
       "      <td>...</td>\n",
       "      <td>...</td>\n",
       "      <td>...</td>\n",
       "      <td>...</td>\n",
       "      <td>...</td>\n",
       "    </tr>\n",
       "    <tr>\n",
       "      <th>242031</th>\n",
       "      <td>GDSC2</td>\n",
       "      <td>401</td>\n",
       "      <td>19187490</td>\n",
       "      <td>1659928</td>\n",
       "      <td>SNU-175</td>\n",
       "      <td>SIDM00216</td>\n",
       "      <td>COREAD</td>\n",
       "      <td>2499</td>\n",
       "      <td>N-acetyl cysteine</td>\n",
       "      <td>Metabolism</td>\n",
       "      <td>...</td>\n",
       "      <td>NaN</td>\n",
       "      <td>1.310061</td>\n",
       "      <td>5.423870</td>\n",
       "      <td>5.397164</td>\n",
       "      <td>5.401524</td>\n",
       "      <td>4.973343</td>\n",
       "      <td>9.264933</td>\n",
       "      <td>9.211173</td>\n",
       "      <td>7.445385</td>\n",
       "      <td>10.134495</td>\n",
       "    </tr>\n",
       "    <tr>\n",
       "      <th>242032</th>\n",
       "      <td>GDSC2</td>\n",
       "      <td>401</td>\n",
       "      <td>19187943</td>\n",
       "      <td>1660034</td>\n",
       "      <td>SNU-407</td>\n",
       "      <td>SIDM00214</td>\n",
       "      <td>COREAD</td>\n",
       "      <td>2499</td>\n",
       "      <td>N-acetyl cysteine</td>\n",
       "      <td>Metabolism</td>\n",
       "      <td>...</td>\n",
       "      <td>NaN</td>\n",
       "      <td>2.628609</td>\n",
       "      <td>5.042005</td>\n",
       "      <td>5.055076</td>\n",
       "      <td>4.918666</td>\n",
       "      <td>4.122141</td>\n",
       "      <td>11.121460</td>\n",
       "      <td>9.528520</td>\n",
       "      <td>8.344004</td>\n",
       "      <td>8.575555</td>\n",
       "    </tr>\n",
       "    <tr>\n",
       "      <th>242033</th>\n",
       "      <td>GDSC2</td>\n",
       "      <td>401</td>\n",
       "      <td>19188201</td>\n",
       "      <td>1660035</td>\n",
       "      <td>SNU-61</td>\n",
       "      <td>SIDM00194</td>\n",
       "      <td>COREAD</td>\n",
       "      <td>2499</td>\n",
       "      <td>N-acetyl cysteine</td>\n",
       "      <td>Metabolism</td>\n",
       "      <td>...</td>\n",
       "      <td>NaN</td>\n",
       "      <td>2.866949</td>\n",
       "      <td>6.130028</td>\n",
       "      <td>5.649833</td>\n",
       "      <td>4.392357</td>\n",
       "      <td>4.382946</td>\n",
       "      <td>10.879932</td>\n",
       "      <td>10.092187</td>\n",
       "      <td>7.743591</td>\n",
       "      <td>10.520666</td>\n",
       "    </tr>\n",
       "    <tr>\n",
       "      <th>242034</th>\n",
       "      <td>GDSC2</td>\n",
       "      <td>401</td>\n",
       "      <td>19188741</td>\n",
       "      <td>1674021</td>\n",
       "      <td>SNU-C5</td>\n",
       "      <td>SIDM00498</td>\n",
       "      <td>COREAD</td>\n",
       "      <td>2499</td>\n",
       "      <td>N-acetyl cysteine</td>\n",
       "      <td>Metabolism</td>\n",
       "      <td>...</td>\n",
       "      <td>NaN</td>\n",
       "      <td>2.653533</td>\n",
       "      <td>6.151265</td>\n",
       "      <td>6.022426</td>\n",
       "      <td>5.661197</td>\n",
       "      <td>4.820414</td>\n",
       "      <td>9.652950</td>\n",
       "      <td>10.181355</td>\n",
       "      <td>7.305220</td>\n",
       "      <td>10.701430</td>\n",
       "    </tr>\n",
       "    <tr>\n",
       "      <th>242035</th>\n",
       "      <td>GDSC2</td>\n",
       "      <td>401</td>\n",
       "      <td>19189023</td>\n",
       "      <td>1789883</td>\n",
       "      <td>DiFi</td>\n",
       "      <td>SIDM00049</td>\n",
       "      <td>COREAD</td>\n",
       "      <td>2499</td>\n",
       "      <td>N-acetyl cysteine</td>\n",
       "      <td>Metabolism</td>\n",
       "      <td>...</td>\n",
       "      <td>NaN</td>\n",
       "      <td>1.537148</td>\n",
       "      <td>5.757955</td>\n",
       "      <td>5.714278</td>\n",
       "      <td>5.576271</td>\n",
       "      <td>5.645880</td>\n",
       "      <td>10.544895</td>\n",
       "      <td>9.265865</td>\n",
       "      <td>8.275000</td>\n",
       "      <td>10.038769</td>\n",
       "    </tr>\n",
       "  </tbody>\n",
       "</table>\n",
       "<p>242036 rows × 314 columns</p>\n",
       "</div>"
      ],
      "text/plain": [
       "       DATASET  NLME_RESULT_ID  NLME_CURVE_ID  COSMIC_ID CELL_LINE_NAME  \\\n",
       "0        GDSC2             401       18945558     683667         PFSK-1   \n",
       "1        GDSC2             401       18945796     684052           A673   \n",
       "2        GDSC2             401       18946078     684057            ES5   \n",
       "3        GDSC2             401       18946335     684059            ES7   \n",
       "4        GDSC2             401       18946617     684062          EW-11   \n",
       "...        ...             ...            ...        ...            ...   \n",
       "242031   GDSC2             401       19187490    1659928        SNU-175   \n",
       "242032   GDSC2             401       19187943    1660034        SNU-407   \n",
       "242033   GDSC2             401       19188201    1660035         SNU-61   \n",
       "242034   GDSC2             401       19188741    1674021         SNU-C5   \n",
       "242035   GDSC2             401       19189023    1789883           DiFi   \n",
       "\n",
       "       SANGER_MODEL_ID     TCGA_DESC  DRUG_ID          DRUG_NAME  \\\n",
       "0            SIDM01132            MB     1003       Camptothecin   \n",
       "1            SIDM00848  UNCLASSIFIED     1003       Camptothecin   \n",
       "2            SIDM00263  UNCLASSIFIED     1003       Camptothecin   \n",
       "3            SIDM00269  UNCLASSIFIED     1003       Camptothecin   \n",
       "4            SIDM00203  UNCLASSIFIED     1003       Camptothecin   \n",
       "...                ...           ...      ...                ...   \n",
       "242031       SIDM00216        COREAD     2499  N-acetyl cysteine   \n",
       "242032       SIDM00214        COREAD     2499  N-acetyl cysteine   \n",
       "242033       SIDM00194        COREAD     2499  N-acetyl cysteine   \n",
       "242034       SIDM00498        COREAD     2499  N-acetyl cysteine   \n",
       "242035       SIDM00049        COREAD     2499  N-acetyl cysteine   \n",
       "\n",
       "       PUTATIVE_TARGET  ...      2175      2177      2359      2360      2361  \\\n",
       "0                 TOP1  ...       NaN  2.366388       NaN       NaN       NaN   \n",
       "1                 TOP1  ...       NaN  1.723942  5.240599  4.432934  4.716167   \n",
       "2                 TOP1  ...  4.879849  1.901766       NaN       NaN       NaN   \n",
       "3                 TOP1  ...       NaN  2.133421  4.578782  3.893851  3.137208   \n",
       "4                 TOP1  ...       NaN  1.880307  5.137711  4.863771  5.007426   \n",
       "...                ...  ...       ...       ...       ...       ...       ...   \n",
       "242031      Metabolism  ...       NaN  1.310061  5.423870  5.397164  5.401524   \n",
       "242032      Metabolism  ...       NaN  2.628609  5.042005  5.055076  4.918666   \n",
       "242033      Metabolism  ...       NaN  2.866949  6.130028  5.649833  4.392357   \n",
       "242034      Metabolism  ...       NaN  2.653533  6.151265  6.022426  5.661197   \n",
       "242035      Metabolism  ...       NaN  1.537148  5.757955  5.714278  5.576271   \n",
       "\n",
       "            2362       2438       2439      2498       2499  \n",
       "0            NaN        NaN        NaN  7.846626  10.613759  \n",
       "1       4.285911   7.793623   9.156372  7.568813   7.063871  \n",
       "2            NaN        NaN        NaN       NaN        NaN  \n",
       "3       2.719145   8.871504   9.302207  6.655762   9.441838  \n",
       "4       5.389040  10.462131   9.801610  8.228663  10.817398  \n",
       "...          ...        ...        ...       ...        ...  \n",
       "242031  4.973343   9.264933   9.211173  7.445385  10.134495  \n",
       "242032  4.122141  11.121460   9.528520  8.344004   8.575555  \n",
       "242033  4.382946  10.879932  10.092187  7.743591  10.520666  \n",
       "242034  4.820414   9.652950  10.181355  7.305220  10.701430  \n",
       "242035  5.645880  10.544895   9.265865  8.275000  10.038769  \n",
       "\n",
       "[242036 rows x 314 columns]"
      ]
     },
     "execution_count": 133,
     "metadata": {},
     "output_type": "execute_result"
    }
   ],
   "source": [
    "# pivot_targets = pd.pivot_table(targets, values=\"LN_IC50\", index=[\"SANGER_MODEL_ID\"],\n",
    "#                        columns=['DRUG_ID'])\n",
    "\n",
    "# pd.merge(targets.loc[:, [\"SANGER_MODEL_ID\",'PUTATIVE_TARGET', 'PATHWAY_NAME', 'MIN_CONC', 'MAX_CONC']], pivot_targets, on=[\"SANGER_MODEL_ID\",\"SANGER_MODEL_ID\"])"
   ]
  },
  {
   "cell_type": "code",
   "execution_count": 79,
   "id": "6b7bc938-68ed-4f07-8e88-4124ed0a26f2",
   "metadata": {},
   "outputs": [
    {
     "data": {
      "text/html": [
       "<div>\n",
       "<style scoped>\n",
       "    .dataframe tbody tr th:only-of-type {\n",
       "        vertical-align: middle;\n",
       "    }\n",
       "\n",
       "    .dataframe tbody tr th {\n",
       "        vertical-align: top;\n",
       "    }\n",
       "\n",
       "    .dataframe thead th {\n",
       "        text-align: right;\n",
       "    }\n",
       "</style>\n",
       "<table border=\"1\" class=\"dataframe\">\n",
       "  <thead>\n",
       "    <tr style=\"text-align: right;\">\n",
       "      <th>DRUG_ID</th>\n",
       "      <th>1003</th>\n",
       "      <th>1004</th>\n",
       "      <th>1005</th>\n",
       "      <th>1006</th>\n",
       "      <th>1007</th>\n",
       "      <th>1008</th>\n",
       "      <th>1009</th>\n",
       "      <th>1010</th>\n",
       "      <th>1011</th>\n",
       "      <th>1012</th>\n",
       "      <th>...</th>\n",
       "      <th>2175</th>\n",
       "      <th>2177</th>\n",
       "      <th>2359</th>\n",
       "      <th>2360</th>\n",
       "      <th>2361</th>\n",
       "      <th>2362</th>\n",
       "      <th>2438</th>\n",
       "      <th>2439</th>\n",
       "      <th>2498</th>\n",
       "      <th>2499</th>\n",
       "    </tr>\n",
       "    <tr>\n",
       "      <th>SANGER_MODEL_ID</th>\n",
       "      <th></th>\n",
       "      <th></th>\n",
       "      <th></th>\n",
       "      <th></th>\n",
       "      <th></th>\n",
       "      <th></th>\n",
       "      <th></th>\n",
       "      <th></th>\n",
       "      <th></th>\n",
       "      <th></th>\n",
       "      <th></th>\n",
       "      <th></th>\n",
       "      <th></th>\n",
       "      <th></th>\n",
       "      <th></th>\n",
       "      <th></th>\n",
       "      <th></th>\n",
       "      <th></th>\n",
       "      <th></th>\n",
       "      <th></th>\n",
       "      <th></th>\n",
       "    </tr>\n",
       "  </thead>\n",
       "  <tbody>\n",
       "    <tr>\n",
       "      <th>SIDM00003</th>\n",
       "      <td>True</td>\n",
       "      <td>True</td>\n",
       "      <td>True</td>\n",
       "      <td>True</td>\n",
       "      <td>True</td>\n",
       "      <td>False</td>\n",
       "      <td>False</td>\n",
       "      <td>True</td>\n",
       "      <td>True</td>\n",
       "      <td>True</td>\n",
       "      <td>...</td>\n",
       "      <td>False</td>\n",
       "      <td>False</td>\n",
       "      <td>False</td>\n",
       "      <td>False</td>\n",
       "      <td>False</td>\n",
       "      <td>False</td>\n",
       "      <td>False</td>\n",
       "      <td>False</td>\n",
       "      <td>False</td>\n",
       "      <td>False</td>\n",
       "    </tr>\n",
       "    <tr>\n",
       "      <th>SIDM00023</th>\n",
       "      <td>True</td>\n",
       "      <td>False</td>\n",
       "      <td>False</td>\n",
       "      <td>False</td>\n",
       "      <td>True</td>\n",
       "      <td>True</td>\n",
       "      <td>True</td>\n",
       "      <td>True</td>\n",
       "      <td>True</td>\n",
       "      <td>True</td>\n",
       "      <td>...</td>\n",
       "      <td>True</td>\n",
       "      <td>True</td>\n",
       "      <td>False</td>\n",
       "      <td>False</td>\n",
       "      <td>False</td>\n",
       "      <td>False</td>\n",
       "      <td>False</td>\n",
       "      <td>False</td>\n",
       "      <td>False</td>\n",
       "      <td>False</td>\n",
       "    </tr>\n",
       "    <tr>\n",
       "      <th>SIDM00040</th>\n",
       "      <td>True</td>\n",
       "      <td>False</td>\n",
       "      <td>False</td>\n",
       "      <td>False</td>\n",
       "      <td>True</td>\n",
       "      <td>True</td>\n",
       "      <td>True</td>\n",
       "      <td>True</td>\n",
       "      <td>True</td>\n",
       "      <td>True</td>\n",
       "      <td>...</td>\n",
       "      <td>True</td>\n",
       "      <td>True</td>\n",
       "      <td>False</td>\n",
       "      <td>False</td>\n",
       "      <td>False</td>\n",
       "      <td>False</td>\n",
       "      <td>False</td>\n",
       "      <td>False</td>\n",
       "      <td>False</td>\n",
       "      <td>False</td>\n",
       "    </tr>\n",
       "    <tr>\n",
       "      <th>SIDM00041</th>\n",
       "      <td>True</td>\n",
       "      <td>False</td>\n",
       "      <td>False</td>\n",
       "      <td>False</td>\n",
       "      <td>True</td>\n",
       "      <td>True</td>\n",
       "      <td>True</td>\n",
       "      <td>True</td>\n",
       "      <td>True</td>\n",
       "      <td>True</td>\n",
       "      <td>...</td>\n",
       "      <td>True</td>\n",
       "      <td>True</td>\n",
       "      <td>False</td>\n",
       "      <td>False</td>\n",
       "      <td>False</td>\n",
       "      <td>False</td>\n",
       "      <td>False</td>\n",
       "      <td>False</td>\n",
       "      <td>False</td>\n",
       "      <td>False</td>\n",
       "    </tr>\n",
       "    <tr>\n",
       "      <th>SIDM00042</th>\n",
       "      <td>True</td>\n",
       "      <td>True</td>\n",
       "      <td>True</td>\n",
       "      <td>True</td>\n",
       "      <td>True</td>\n",
       "      <td>True</td>\n",
       "      <td>False</td>\n",
       "      <td>True</td>\n",
       "      <td>True</td>\n",
       "      <td>True</td>\n",
       "      <td>...</td>\n",
       "      <td>False</td>\n",
       "      <td>True</td>\n",
       "      <td>True</td>\n",
       "      <td>True</td>\n",
       "      <td>True</td>\n",
       "      <td>True</td>\n",
       "      <td>True</td>\n",
       "      <td>True</td>\n",
       "      <td>True</td>\n",
       "      <td>True</td>\n",
       "    </tr>\n",
       "    <tr>\n",
       "      <th>...</th>\n",
       "      <td>...</td>\n",
       "      <td>...</td>\n",
       "      <td>...</td>\n",
       "      <td>...</td>\n",
       "      <td>...</td>\n",
       "      <td>...</td>\n",
       "      <td>...</td>\n",
       "      <td>...</td>\n",
       "      <td>...</td>\n",
       "      <td>...</td>\n",
       "      <td>...</td>\n",
       "      <td>...</td>\n",
       "      <td>...</td>\n",
       "      <td>...</td>\n",
       "      <td>...</td>\n",
       "      <td>...</td>\n",
       "      <td>...</td>\n",
       "      <td>...</td>\n",
       "      <td>...</td>\n",
       "      <td>...</td>\n",
       "      <td>...</td>\n",
       "    </tr>\n",
       "    <tr>\n",
       "      <th>SIDM01248</th>\n",
       "      <td>True</td>\n",
       "      <td>True</td>\n",
       "      <td>True</td>\n",
       "      <td>True</td>\n",
       "      <td>True</td>\n",
       "      <td>True</td>\n",
       "      <td>False</td>\n",
       "      <td>True</td>\n",
       "      <td>True</td>\n",
       "      <td>True</td>\n",
       "      <td>...</td>\n",
       "      <td>False</td>\n",
       "      <td>True</td>\n",
       "      <td>True</td>\n",
       "      <td>True</td>\n",
       "      <td>True</td>\n",
       "      <td>True</td>\n",
       "      <td>True</td>\n",
       "      <td>True</td>\n",
       "      <td>True</td>\n",
       "      <td>True</td>\n",
       "    </tr>\n",
       "    <tr>\n",
       "      <th>SIDM01251</th>\n",
       "      <td>True</td>\n",
       "      <td>True</td>\n",
       "      <td>True</td>\n",
       "      <td>True</td>\n",
       "      <td>True</td>\n",
       "      <td>False</td>\n",
       "      <td>False</td>\n",
       "      <td>True</td>\n",
       "      <td>True</td>\n",
       "      <td>True</td>\n",
       "      <td>...</td>\n",
       "      <td>False</td>\n",
       "      <td>True</td>\n",
       "      <td>True</td>\n",
       "      <td>True</td>\n",
       "      <td>True</td>\n",
       "      <td>True</td>\n",
       "      <td>True</td>\n",
       "      <td>True</td>\n",
       "      <td>True</td>\n",
       "      <td>True</td>\n",
       "    </tr>\n",
       "    <tr>\n",
       "      <th>SIDM01259</th>\n",
       "      <td>True</td>\n",
       "      <td>True</td>\n",
       "      <td>True</td>\n",
       "      <td>True</td>\n",
       "      <td>True</td>\n",
       "      <td>True</td>\n",
       "      <td>False</td>\n",
       "      <td>True</td>\n",
       "      <td>True</td>\n",
       "      <td>True</td>\n",
       "      <td>...</td>\n",
       "      <td>False</td>\n",
       "      <td>True</td>\n",
       "      <td>True</td>\n",
       "      <td>True</td>\n",
       "      <td>True</td>\n",
       "      <td>True</td>\n",
       "      <td>True</td>\n",
       "      <td>True</td>\n",
       "      <td>True</td>\n",
       "      <td>True</td>\n",
       "    </tr>\n",
       "    <tr>\n",
       "      <th>SIDM01261</th>\n",
       "      <td>True</td>\n",
       "      <td>False</td>\n",
       "      <td>False</td>\n",
       "      <td>False</td>\n",
       "      <td>True</td>\n",
       "      <td>True</td>\n",
       "      <td>True</td>\n",
       "      <td>True</td>\n",
       "      <td>True</td>\n",
       "      <td>True</td>\n",
       "      <td>...</td>\n",
       "      <td>True</td>\n",
       "      <td>True</td>\n",
       "      <td>False</td>\n",
       "      <td>False</td>\n",
       "      <td>False</td>\n",
       "      <td>False</td>\n",
       "      <td>False</td>\n",
       "      <td>False</td>\n",
       "      <td>False</td>\n",
       "      <td>False</td>\n",
       "    </tr>\n",
       "    <tr>\n",
       "      <th>SIDM01265</th>\n",
       "      <td>True</td>\n",
       "      <td>True</td>\n",
       "      <td>True</td>\n",
       "      <td>True</td>\n",
       "      <td>True</td>\n",
       "      <td>True</td>\n",
       "      <td>False</td>\n",
       "      <td>True</td>\n",
       "      <td>True</td>\n",
       "      <td>True</td>\n",
       "      <td>...</td>\n",
       "      <td>False</td>\n",
       "      <td>True</td>\n",
       "      <td>True</td>\n",
       "      <td>True</td>\n",
       "      <td>True</td>\n",
       "      <td>True</td>\n",
       "      <td>True</td>\n",
       "      <td>True</td>\n",
       "      <td>True</td>\n",
       "      <td>True</td>\n",
       "    </tr>\n",
       "  </tbody>\n",
       "</table>\n",
       "<p>969 rows × 295 columns</p>\n",
       "</div>"
      ],
      "text/plain": [
       "DRUG_ID          1003   1004   1005   1006  1007   1008   1009  1010  1011  \\\n",
       "SANGER_MODEL_ID                                                              \n",
       "SIDM00003        True   True   True   True  True  False  False  True  True   \n",
       "SIDM00023        True  False  False  False  True   True   True  True  True   \n",
       "SIDM00040        True  False  False  False  True   True   True  True  True   \n",
       "SIDM00041        True  False  False  False  True   True   True  True  True   \n",
       "SIDM00042        True   True   True   True  True   True  False  True  True   \n",
       "...               ...    ...    ...    ...   ...    ...    ...   ...   ...   \n",
       "SIDM01248        True   True   True   True  True   True  False  True  True   \n",
       "SIDM01251        True   True   True   True  True  False  False  True  True   \n",
       "SIDM01259        True   True   True   True  True   True  False  True  True   \n",
       "SIDM01261        True  False  False  False  True   True   True  True  True   \n",
       "SIDM01265        True   True   True   True  True   True  False  True  True   \n",
       "\n",
       "DRUG_ID          1012  ...   2175   2177   2359   2360   2361   2362   2438  \\\n",
       "SANGER_MODEL_ID        ...                                                    \n",
       "SIDM00003        True  ...  False  False  False  False  False  False  False   \n",
       "SIDM00023        True  ...   True   True  False  False  False  False  False   \n",
       "SIDM00040        True  ...   True   True  False  False  False  False  False   \n",
       "SIDM00041        True  ...   True   True  False  False  False  False  False   \n",
       "SIDM00042        True  ...  False   True   True   True   True   True   True   \n",
       "...               ...  ...    ...    ...    ...    ...    ...    ...    ...   \n",
       "SIDM01248        True  ...  False   True   True   True   True   True   True   \n",
       "SIDM01251        True  ...  False   True   True   True   True   True   True   \n",
       "SIDM01259        True  ...  False   True   True   True   True   True   True   \n",
       "SIDM01261        True  ...   True   True  False  False  False  False  False   \n",
       "SIDM01265        True  ...  False   True   True   True   True   True   True   \n",
       "\n",
       "DRUG_ID           2439   2498   2499  \n",
       "SANGER_MODEL_ID                       \n",
       "SIDM00003        False  False  False  \n",
       "SIDM00023        False  False  False  \n",
       "SIDM00040        False  False  False  \n",
       "SIDM00041        False  False  False  \n",
       "SIDM00042         True   True   True  \n",
       "...                ...    ...    ...  \n",
       "SIDM01248         True   True   True  \n",
       "SIDM01251         True   True   True  \n",
       "SIDM01259         True   True   True  \n",
       "SIDM01261        False  False  False  \n",
       "SIDM01265         True   True   True  \n",
       "\n",
       "[969 rows x 295 columns]"
      ]
     },
     "execution_count": 79,
     "metadata": {},
     "output_type": "execute_result"
    }
   ],
   "source": [
    "# ~pivot_targets.isnull()"
   ]
  },
  {
   "cell_type": "markdown",
   "id": "bf8dcbdd-6239-4cbe-88f1-4a327943db00",
   "metadata": {},
   "source": [
    "## TODO\n",
    "1) Hyperparam anpassen\n",
    "2) Andere drug testen\n",
    "3) Evaluate other losses? something like r2 loss? doesnt make sense\n",
    "\n",
    "Is the low r2 really bad? Probably ocmpare against some other reference e.g., feature selector? (low difference between dependent varaible and mean leads to low r2)"
   ]
  },
  {
   "cell_type": "markdown",
   "id": "83956263-f695-43cf-94f6-01fa80cfc8c0",
   "metadata": {},
   "source": [
    "## Questions\n",
    "- Which features from mutations and genes I listed are irrelevant? If unknown pick all but probably I have some that does not make sense to include\n",
    "  => Main goal: Just run with all\n",
    "  (=> List with classical oncogenes, tummor suppressor genes)\n",
    "- What is our goal/baseline? => feature selector from Johannes or paper https://academic.oup.com/bib/article/23/3/bbac100/6554594 (can create one but probably you have one)\n",
    "- Which metric? IC 50 -> root mean squared error, R2-> 0.9 / 0.96\n",
    "- Label as LN_IC50? IC50\n",
    "- Defaul test dataset oder k-fold CV? 10 fold vs LOO-CV? \n",
    "- Depth vs Breadth? Bei dem Drug bleiben und versuchen zu verbessern (neue Architekturen, Batching etc) oder Lieber den kompletten graphen mit allen drugs und ziel edge attribute regression? Lieber ersteres da unabhängigkeit zwischen medikamenten\n",
    "- Edge regression task preferred?:\n",
    "x = ...  # Node feature matrix: [num_nodes, num_features]\r\n",
    "edge_index = ... # Edge indices: [2, num_edges\n",
    "- What is the goal paper for johannes]\r\n",
    "\r\n",
    "src, dst = edge_index\r\n",
    "score = (x[src] * x[dst]).sum(dim=-1)\r\n",
    "\r\n",
    "loss = F.cross_entropy(score, data.edge_label)  # Classification\r\n",
    "loss = F.mse_loss(score, data.edge_value)  # Regression"
   ]
  },
  {
   "cell_type": "markdown",
   "id": "0f86741c-61fe-42cd-97a6-662bbb979303",
   "metadata": {},
   "source": [
    "## Problems\n",
    "\t\n",
    " CUDA allocation error in training\n",
    " \n",
    " duplicate model_id + gene_id\n",
    " model_name\tmodel_id\tsymbol\tgene_id\tchr_name\tchr_start\tchr_end\ttotal_copy_number\tminor_copy_number\tloh\t...\tseg_mean\tgene_mean\tnum_targets\tfocal\tbreakpoints\tnum_snps\tgatk_mean_log2_copy_ratio\tcomment\tsource\tdata_type\n",
    "0\tMEC-1\tSIDM00001\tABCB1\tSIDG00064\tchr7\t87503966\t87600461\t3.0\t1.0\tFalse\t...\t0.599167\t0.414125\t28.0\tFalse\t0.0\t1124.0\t0.574127\tPOOR GOF (70.4%)\tSanger\tWES\n",
    "844\tMEC-1\tSIDM00001\tABCB1\tSIDG00064\tchr7\t87503966\t87600461\t3.0\t1.0\tFalse\t...\t0.551774\t0.692527\t\n",
    "\n",
    "-> pre-filter? highest POF in comment? or take both?"
   ]
  }
 ],
 "metadata": {
  "kernelspec": {
   "display_name": "Python 3 (ipykernel)",
   "language": "python",
   "name": "python3"
  },
  "language_info": {
   "codemirror_mode": {
    "name": "ipython",
    "version": 3
   },
   "file_extension": ".py",
   "mimetype": "text/x-python",
   "name": "python",
   "nbconvert_exporter": "python",
   "pygments_lexer": "ipython3",
   "version": "3.10.12"
  }
 },
 "nbformat": 4,
 "nbformat_minor": 5
}
